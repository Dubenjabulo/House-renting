{
 "cells": [
  {
   "cell_type": "markdown",
   "id": "8a8cde76",
   "metadata": {
    "papermill": {
     "duration": 0.022073,
     "end_time": "2022-11-11T19:41:28.856015",
     "exception": false,
     "start_time": "2022-11-11T19:41:28.833942",
     "status": "completed"
    },
    "tags": []
   },
   "source": []
  },
  {
   "cell_type": "code",
   "execution_count": 1,
   "id": "c05dc817",
   "metadata": {
    "execution": {
     "iopub.execute_input": "2022-11-11T19:41:28.898906Z",
     "iopub.status.busy": "2022-11-11T19:41:28.898247Z",
     "iopub.status.idle": "2022-11-11T19:41:30.193865Z",
     "shell.execute_reply": "2022-11-11T19:41:30.192797Z"
    },
    "papermill": {
     "duration": 1.320101,
     "end_time": "2022-11-11T19:41:30.196660",
     "exception": false,
     "start_time": "2022-11-11T19:41:28.876559",
     "status": "completed"
    },
    "tags": []
   },
   "outputs": [],
   "source": [
    "import pandas as pd\n",
    "import numpy as np\n",
    "import seaborn as sns\n",
    "import matplotlib.pyplot as plt\n",
    "%matplotlib inline\n",
    "from sklearn import preprocessing\n"
   ]
  },
  {
   "cell_type": "code",
   "execution_count": 2,
   "id": "896b817d",
   "metadata": {
    "execution": {
     "iopub.execute_input": "2022-11-11T19:41:30.236945Z",
     "iopub.status.busy": "2022-11-11T19:41:30.236548Z",
     "iopub.status.idle": "2022-11-11T19:41:30.288962Z",
     "shell.execute_reply": "2022-11-11T19:41:30.287788Z"
    },
    "papermill": {
     "duration": 0.075968,
     "end_time": "2022-11-11T19:41:30.291928",
     "exception": false,
     "start_time": "2022-11-11T19:41:30.215960",
     "status": "completed"
    },
    "tags": []
   },
   "outputs": [],
   "source": [
    "df=pd.read_csv(\"../input/house-rent-prediction-dataset/House_Rent_Dataset.csv\")\n"
   ]
  },
  {
   "cell_type": "code",
   "execution_count": 3,
   "id": "932b474c",
   "metadata": {
    "execution": {
     "iopub.execute_input": "2022-11-11T19:41:30.340617Z",
     "iopub.status.busy": "2022-11-11T19:41:30.338668Z",
     "iopub.status.idle": "2022-11-11T19:41:30.370283Z",
     "shell.execute_reply": "2022-11-11T19:41:30.367903Z"
    },
    "papermill": {
     "duration": 0.060658,
     "end_time": "2022-11-11T19:41:30.372664",
     "exception": false,
     "start_time": "2022-11-11T19:41:30.312006",
     "status": "completed"
    },
    "tags": []
   },
   "outputs": [
    {
     "data": {
      "text/html": [
       "<div>\n",
       "<style scoped>\n",
       "    .dataframe tbody tr th:only-of-type {\n",
       "        vertical-align: middle;\n",
       "    }\n",
       "\n",
       "    .dataframe tbody tr th {\n",
       "        vertical-align: top;\n",
       "    }\n",
       "\n",
       "    .dataframe thead th {\n",
       "        text-align: right;\n",
       "    }\n",
       "</style>\n",
       "<table border=\"1\" class=\"dataframe\">\n",
       "  <thead>\n",
       "    <tr style=\"text-align: right;\">\n",
       "      <th></th>\n",
       "      <th>Posted On</th>\n",
       "      <th>BHK</th>\n",
       "      <th>Rent</th>\n",
       "      <th>Size</th>\n",
       "      <th>Floor</th>\n",
       "      <th>Area Type</th>\n",
       "      <th>Area Locality</th>\n",
       "      <th>City</th>\n",
       "      <th>Furnishing Status</th>\n",
       "      <th>Tenant Preferred</th>\n",
       "      <th>Bathroom</th>\n",
       "      <th>Point of Contact</th>\n",
       "    </tr>\n",
       "  </thead>\n",
       "  <tbody>\n",
       "    <tr>\n",
       "      <th>0</th>\n",
       "      <td>2022-05-18</td>\n",
       "      <td>2</td>\n",
       "      <td>10000</td>\n",
       "      <td>1100</td>\n",
       "      <td>Ground out of 2</td>\n",
       "      <td>Super Area</td>\n",
       "      <td>Bandel</td>\n",
       "      <td>Kolkata</td>\n",
       "      <td>Unfurnished</td>\n",
       "      <td>Bachelors/Family</td>\n",
       "      <td>2</td>\n",
       "      <td>Contact Owner</td>\n",
       "    </tr>\n",
       "    <tr>\n",
       "      <th>1</th>\n",
       "      <td>2022-05-13</td>\n",
       "      <td>2</td>\n",
       "      <td>20000</td>\n",
       "      <td>800</td>\n",
       "      <td>1 out of 3</td>\n",
       "      <td>Super Area</td>\n",
       "      <td>Phool Bagan, Kankurgachi</td>\n",
       "      <td>Kolkata</td>\n",
       "      <td>Semi-Furnished</td>\n",
       "      <td>Bachelors/Family</td>\n",
       "      <td>1</td>\n",
       "      <td>Contact Owner</td>\n",
       "    </tr>\n",
       "    <tr>\n",
       "      <th>2</th>\n",
       "      <td>2022-05-16</td>\n",
       "      <td>2</td>\n",
       "      <td>17000</td>\n",
       "      <td>1000</td>\n",
       "      <td>1 out of 3</td>\n",
       "      <td>Super Area</td>\n",
       "      <td>Salt Lake City Sector 2</td>\n",
       "      <td>Kolkata</td>\n",
       "      <td>Semi-Furnished</td>\n",
       "      <td>Bachelors/Family</td>\n",
       "      <td>1</td>\n",
       "      <td>Contact Owner</td>\n",
       "    </tr>\n",
       "    <tr>\n",
       "      <th>3</th>\n",
       "      <td>2022-07-04</td>\n",
       "      <td>2</td>\n",
       "      <td>10000</td>\n",
       "      <td>800</td>\n",
       "      <td>1 out of 2</td>\n",
       "      <td>Super Area</td>\n",
       "      <td>Dumdum Park</td>\n",
       "      <td>Kolkata</td>\n",
       "      <td>Unfurnished</td>\n",
       "      <td>Bachelors/Family</td>\n",
       "      <td>1</td>\n",
       "      <td>Contact Owner</td>\n",
       "    </tr>\n",
       "    <tr>\n",
       "      <th>4</th>\n",
       "      <td>2022-05-09</td>\n",
       "      <td>2</td>\n",
       "      <td>7500</td>\n",
       "      <td>850</td>\n",
       "      <td>1 out of 2</td>\n",
       "      <td>Carpet Area</td>\n",
       "      <td>South Dum Dum</td>\n",
       "      <td>Kolkata</td>\n",
       "      <td>Unfurnished</td>\n",
       "      <td>Bachelors</td>\n",
       "      <td>1</td>\n",
       "      <td>Contact Owner</td>\n",
       "    </tr>\n",
       "  </tbody>\n",
       "</table>\n",
       "</div>"
      ],
      "text/plain": [
       "    Posted On  BHK   Rent  Size            Floor    Area Type  \\\n",
       "0  2022-05-18    2  10000  1100  Ground out of 2   Super Area   \n",
       "1  2022-05-13    2  20000   800       1 out of 3   Super Area   \n",
       "2  2022-05-16    2  17000  1000       1 out of 3   Super Area   \n",
       "3  2022-07-04    2  10000   800       1 out of 2   Super Area   \n",
       "4  2022-05-09    2   7500   850       1 out of 2  Carpet Area   \n",
       "\n",
       "              Area Locality     City Furnishing Status  Tenant Preferred  \\\n",
       "0                    Bandel  Kolkata       Unfurnished  Bachelors/Family   \n",
       "1  Phool Bagan, Kankurgachi  Kolkata    Semi-Furnished  Bachelors/Family   \n",
       "2   Salt Lake City Sector 2  Kolkata    Semi-Furnished  Bachelors/Family   \n",
       "3               Dumdum Park  Kolkata       Unfurnished  Bachelors/Family   \n",
       "4             South Dum Dum  Kolkata       Unfurnished         Bachelors   \n",
       "\n",
       "   Bathroom Point of Contact  \n",
       "0         2    Contact Owner  \n",
       "1         1    Contact Owner  \n",
       "2         1    Contact Owner  \n",
       "3         1    Contact Owner  \n",
       "4         1    Contact Owner  "
      ]
     },
     "execution_count": 3,
     "metadata": {},
     "output_type": "execute_result"
    }
   ],
   "source": [
    "df.head()"
   ]
  },
  {
   "cell_type": "code",
   "execution_count": 4,
   "id": "3a514558",
   "metadata": {
    "execution": {
     "iopub.execute_input": "2022-11-11T19:41:30.414632Z",
     "iopub.status.busy": "2022-11-11T19:41:30.413633Z",
     "iopub.status.idle": "2022-11-11T19:41:30.444367Z",
     "shell.execute_reply": "2022-11-11T19:41:30.443440Z"
    },
    "papermill": {
     "duration": 0.05439,
     "end_time": "2022-11-11T19:41:30.446853",
     "exception": false,
     "start_time": "2022-11-11T19:41:30.392463",
     "status": "completed"
    },
    "tags": []
   },
   "outputs": [
    {
     "name": "stdout",
     "output_type": "stream",
     "text": [
      "<class 'pandas.core.frame.DataFrame'>\n",
      "RangeIndex: 4746 entries, 0 to 4745\n",
      "Data columns (total 12 columns):\n",
      " #   Column             Non-Null Count  Dtype \n",
      "---  ------             --------------  ----- \n",
      " 0   Posted On          4746 non-null   object\n",
      " 1   BHK                4746 non-null   int64 \n",
      " 2   Rent               4746 non-null   int64 \n",
      " 3   Size               4746 non-null   int64 \n",
      " 4   Floor              4746 non-null   object\n",
      " 5   Area Type          4746 non-null   object\n",
      " 6   Area Locality      4746 non-null   object\n",
      " 7   City               4746 non-null   object\n",
      " 8   Furnishing Status  4746 non-null   object\n",
      " 9   Tenant Preferred   4746 non-null   object\n",
      " 10  Bathroom           4746 non-null   int64 \n",
      " 11  Point of Contact   4746 non-null   object\n",
      "dtypes: int64(4), object(8)\n",
      "memory usage: 445.1+ KB\n"
     ]
    }
   ],
   "source": [
    "df.info()"
   ]
  },
  {
   "cell_type": "markdown",
   "id": "1ece70ce",
   "metadata": {
    "papermill": {
     "duration": 0.019294,
     "end_time": "2022-11-11T19:41:30.486360",
     "exception": false,
     "start_time": "2022-11-11T19:41:30.467066",
     "status": "completed"
    },
    "tags": []
   },
   "source": [
    "***looks like we dont have any null data. lets check again.***"
   ]
  },
  {
   "cell_type": "markdown",
   "id": "a00d91b4",
   "metadata": {
    "papermill": {
     "duration": 0.019311,
     "end_time": "2022-11-11T19:41:30.525024",
     "exception": false,
     "start_time": "2022-11-11T19:41:30.505713",
     "status": "completed"
    },
    "tags": []
   },
   "source": []
  },
  {
   "cell_type": "code",
   "execution_count": 5,
   "id": "2c3c11e5",
   "metadata": {
    "execution": {
     "iopub.execute_input": "2022-11-11T19:41:30.566066Z",
     "iopub.status.busy": "2022-11-11T19:41:30.565254Z",
     "iopub.status.idle": "2022-11-11T19:41:30.575687Z",
     "shell.execute_reply": "2022-11-11T19:41:30.574722Z"
    },
    "papermill": {
     "duration": 0.033617,
     "end_time": "2022-11-11T19:41:30.577939",
     "exception": false,
     "start_time": "2022-11-11T19:41:30.544322",
     "status": "completed"
    },
    "tags": []
   },
   "outputs": [
    {
     "data": {
      "text/plain": [
       "Posted On            0\n",
       "BHK                  0\n",
       "Rent                 0\n",
       "Size                 0\n",
       "Floor                0\n",
       "Area Type            0\n",
       "Area Locality        0\n",
       "City                 0\n",
       "Furnishing Status    0\n",
       "Tenant Preferred     0\n",
       "Bathroom             0\n",
       "Point of Contact     0\n",
       "dtype: int64"
      ]
     },
     "execution_count": 5,
     "metadata": {},
     "output_type": "execute_result"
    }
   ],
   "source": [
    "df.isnull().sum()"
   ]
  },
  {
   "cell_type": "markdown",
   "id": "18ae5cbe",
   "metadata": {
    "papermill": {
     "duration": 0.019954,
     "end_time": "2022-11-11T19:41:30.617623",
     "exception": false,
     "start_time": "2022-11-11T19:41:30.597669",
     "status": "completed"
    },
    "tags": []
   },
   "source": [
    "***EDA***"
   ]
  },
  {
   "cell_type": "code",
   "execution_count": 6,
   "id": "c428af69",
   "metadata": {
    "execution": {
     "iopub.execute_input": "2022-11-11T19:41:30.658567Z",
     "iopub.status.busy": "2022-11-11T19:41:30.658089Z",
     "iopub.status.idle": "2022-11-11T19:41:30.687516Z",
     "shell.execute_reply": "2022-11-11T19:41:30.686328Z"
    },
    "papermill": {
     "duration": 0.052885,
     "end_time": "2022-11-11T19:41:30.689973",
     "exception": false,
     "start_time": "2022-11-11T19:41:30.637088",
     "status": "completed"
    },
    "tags": []
   },
   "outputs": [
    {
     "data": {
      "text/html": [
       "<div>\n",
       "<style scoped>\n",
       "    .dataframe tbody tr th:only-of-type {\n",
       "        vertical-align: middle;\n",
       "    }\n",
       "\n",
       "    .dataframe tbody tr th {\n",
       "        vertical-align: top;\n",
       "    }\n",
       "\n",
       "    .dataframe thead th {\n",
       "        text-align: right;\n",
       "    }\n",
       "</style>\n",
       "<table border=\"1\" class=\"dataframe\">\n",
       "  <thead>\n",
       "    <tr style=\"text-align: right;\">\n",
       "      <th></th>\n",
       "      <th>count</th>\n",
       "      <th>mean</th>\n",
       "      <th>std</th>\n",
       "      <th>min</th>\n",
       "      <th>25%</th>\n",
       "      <th>50%</th>\n",
       "      <th>75%</th>\n",
       "      <th>max</th>\n",
       "    </tr>\n",
       "  </thead>\n",
       "  <tbody>\n",
       "    <tr>\n",
       "      <th>BHK</th>\n",
       "      <td>4746.0</td>\n",
       "      <td>2.083860</td>\n",
       "      <td>0.832256</td>\n",
       "      <td>1.0</td>\n",
       "      <td>2.0</td>\n",
       "      <td>2.0</td>\n",
       "      <td>3.0</td>\n",
       "      <td>6.0</td>\n",
       "    </tr>\n",
       "    <tr>\n",
       "      <th>Rent</th>\n",
       "      <td>4746.0</td>\n",
       "      <td>34993.451327</td>\n",
       "      <td>78106.412937</td>\n",
       "      <td>1200.0</td>\n",
       "      <td>10000.0</td>\n",
       "      <td>16000.0</td>\n",
       "      <td>33000.0</td>\n",
       "      <td>3500000.0</td>\n",
       "    </tr>\n",
       "    <tr>\n",
       "      <th>Size</th>\n",
       "      <td>4746.0</td>\n",
       "      <td>967.490729</td>\n",
       "      <td>634.202328</td>\n",
       "      <td>10.0</td>\n",
       "      <td>550.0</td>\n",
       "      <td>850.0</td>\n",
       "      <td>1200.0</td>\n",
       "      <td>8000.0</td>\n",
       "    </tr>\n",
       "    <tr>\n",
       "      <th>Bathroom</th>\n",
       "      <td>4746.0</td>\n",
       "      <td>1.965866</td>\n",
       "      <td>0.884532</td>\n",
       "      <td>1.0</td>\n",
       "      <td>1.0</td>\n",
       "      <td>2.0</td>\n",
       "      <td>2.0</td>\n",
       "      <td>10.0</td>\n",
       "    </tr>\n",
       "  </tbody>\n",
       "</table>\n",
       "</div>"
      ],
      "text/plain": [
       "           count          mean           std     min      25%      50%  \\\n",
       "BHK       4746.0      2.083860      0.832256     1.0      2.0      2.0   \n",
       "Rent      4746.0  34993.451327  78106.412937  1200.0  10000.0  16000.0   \n",
       "Size      4746.0    967.490729    634.202328    10.0    550.0    850.0   \n",
       "Bathroom  4746.0      1.965866      0.884532     1.0      1.0      2.0   \n",
       "\n",
       "              75%        max  \n",
       "BHK           3.0        6.0  \n",
       "Rent      33000.0  3500000.0  \n",
       "Size       1200.0     8000.0  \n",
       "Bathroom      2.0       10.0  "
      ]
     },
     "execution_count": 6,
     "metadata": {},
     "output_type": "execute_result"
    }
   ],
   "source": [
    "df.describe().T"
   ]
  },
  {
   "cell_type": "code",
   "execution_count": 7,
   "id": "a60ccf2e",
   "metadata": {
    "execution": {
     "iopub.execute_input": "2022-11-11T19:41:30.732060Z",
     "iopub.status.busy": "2022-11-11T19:41:30.731630Z",
     "iopub.status.idle": "2022-11-11T19:41:30.737693Z",
     "shell.execute_reply": "2022-11-11T19:41:30.736785Z"
    },
    "papermill": {
     "duration": 0.030089,
     "end_time": "2022-11-11T19:41:30.740083",
     "exception": false,
     "start_time": "2022-11-11T19:41:30.709994",
     "status": "completed"
    },
    "tags": []
   },
   "outputs": [
    {
     "data": {
      "text/plain": [
       "Index(['Posted On', 'BHK', 'Rent', 'Size', 'Floor', 'Area Type',\n",
       "       'Area Locality', 'City', 'Furnishing Status', 'Tenant Preferred',\n",
       "       'Bathroom', 'Point of Contact'],\n",
       "      dtype='object')"
      ]
     },
     "execution_count": 7,
     "metadata": {},
     "output_type": "execute_result"
    }
   ],
   "source": [
    "df.columns"
   ]
  },
  {
   "cell_type": "code",
   "execution_count": 8,
   "id": "3a19f5f2",
   "metadata": {
    "execution": {
     "iopub.execute_input": "2022-11-11T19:41:30.782050Z",
     "iopub.status.busy": "2022-11-11T19:41:30.781189Z",
     "iopub.status.idle": "2022-11-11T19:41:30.788194Z",
     "shell.execute_reply": "2022-11-11T19:41:30.787427Z"
    },
    "papermill": {
     "duration": 0.030248,
     "end_time": "2022-11-11T19:41:30.790237",
     "exception": false,
     "start_time": "2022-11-11T19:41:30.759989",
     "status": "completed"
    },
    "tags": []
   },
   "outputs": [
    {
     "data": {
      "text/plain": [
       "Posted On            object\n",
       "BHK                   int64\n",
       "Rent                  int64\n",
       "Size                  int64\n",
       "Floor                object\n",
       "Area Type            object\n",
       "Area Locality        object\n",
       "City                 object\n",
       "Furnishing Status    object\n",
       "Tenant Preferred     object\n",
       "Bathroom              int64\n",
       "Point of Contact     object\n",
       "dtype: object"
      ]
     },
     "execution_count": 8,
     "metadata": {},
     "output_type": "execute_result"
    }
   ],
   "source": [
    "df.dtypes"
   ]
  },
  {
   "cell_type": "code",
   "execution_count": 9,
   "id": "d86794f2",
   "metadata": {
    "execution": {
     "iopub.execute_input": "2022-11-11T19:41:30.833200Z",
     "iopub.status.busy": "2022-11-11T19:41:30.832581Z",
     "iopub.status.idle": "2022-11-11T19:41:30.836228Z",
     "shell.execute_reply": "2022-11-11T19:41:30.835468Z"
    },
    "papermill": {
     "duration": 0.028239,
     "end_time": "2022-11-11T19:41:30.838685",
     "exception": false,
     "start_time": "2022-11-11T19:41:30.810446",
     "status": "completed"
    },
    "tags": []
   },
   "outputs": [],
   "source": [
    "#duplicated or not?"
   ]
  },
  {
   "cell_type": "code",
   "execution_count": 10,
   "id": "67123ba8",
   "metadata": {
    "execution": {
     "iopub.execute_input": "2022-11-11T19:41:30.881313Z",
     "iopub.status.busy": "2022-11-11T19:41:30.880891Z",
     "iopub.status.idle": "2022-11-11T19:41:30.903735Z",
     "shell.execute_reply": "2022-11-11T19:41:30.901677Z"
    },
    "papermill": {
     "duration": 0.047536,
     "end_time": "2022-11-11T19:41:30.906915",
     "exception": false,
     "start_time": "2022-11-11T19:41:30.859379",
     "status": "completed"
    },
    "tags": []
   },
   "outputs": [
    {
     "data": {
      "text/plain": [
       "0"
      ]
     },
     "execution_count": 10,
     "metadata": {},
     "output_type": "execute_result"
    }
   ],
   "source": [
    "df.duplicated().sum()"
   ]
  },
  {
   "cell_type": "code",
   "execution_count": 11,
   "id": "24b61226",
   "metadata": {
    "execution": {
     "iopub.execute_input": "2022-11-11T19:41:30.957058Z",
     "iopub.status.busy": "2022-11-11T19:41:30.955675Z",
     "iopub.status.idle": "2022-11-11T19:41:31.278122Z",
     "shell.execute_reply": "2022-11-11T19:41:31.276924Z"
    },
    "papermill": {
     "duration": 0.348207,
     "end_time": "2022-11-11T19:41:31.280673",
     "exception": false,
     "start_time": "2022-11-11T19:41:30.932466",
     "status": "completed"
    },
    "tags": []
   },
   "outputs": [
    {
     "data": {
      "text/plain": [
       "<AxesSubplot:>"
      ]
     },
     "execution_count": 11,
     "metadata": {},
     "output_type": "execute_result"
    },
    {
     "data": {
      "image/png": "[encoded data removed]",
      "text/plain": [
       "<Figure size 432x288 with 2 Axes>"
      ]
     },
     "metadata": {
      "needs_background": "light"
     },
     "output_type": "display_data"
    }
   ],
   "source": [
    "sns.heatmap(df.corr())"
   ]
  },
  {
   "cell_type": "markdown",
   "id": "d7eee303",
   "metadata": {
    "papermill": {
     "duration": 0.020785,
     "end_time": "2022-11-11T19:41:31.321958",
     "exception": false,
     "start_time": "2022-11-11T19:41:31.301173",
     "status": "completed"
    },
    "tags": []
   },
   "source": [
    "***we can see some corelations like between BHK and Bathroom, Size and Bathroom etc..***"
   ]
  },
  {
   "cell_type": "code",
   "execution_count": 12,
   "id": "496d0af6",
   "metadata": {
    "execution": {
     "iopub.execute_input": "2022-11-11T19:41:31.366901Z",
     "iopub.status.busy": "2022-11-11T19:41:31.365694Z",
     "iopub.status.idle": "2022-11-11T19:41:31.808500Z",
     "shell.execute_reply": "2022-11-11T19:41:31.807584Z"
    },
    "papermill": {
     "duration": 0.467665,
     "end_time": "2022-11-11T19:41:31.810863",
     "exception": false,
     "start_time": "2022-11-11T19:41:31.343198",
     "status": "completed"
    },
    "tags": []
   },
   "outputs": [
    {
     "data": {
      "text/plain": [
       "<AxesSubplot:xlabel='BHK', ylabel='Rent'>"
      ]
     },
     "execution_count": 12,
     "metadata": {},
     "output_type": "execute_result"
    },
    {
     "data": {
      "image/png": "[encoded data removed]",
      "text/plain": [
       "<Figure size 432x288 with 1 Axes>"
      ]
     },
     "metadata": {
      "needs_background": "light"
     },
     "output_type": "display_data"
    }
   ],
   "source": [
    "sns.barplot(x = df['BHK'], y = df['Rent'], data = df)"
   ]
  },
  {
   "cell_type": "code",
   "execution_count": 13,
   "id": "0bfa9e98",
   "metadata": {
    "execution": {
     "iopub.execute_input": "2022-11-11T19:41:31.856506Z",
     "iopub.status.busy": "2022-11-11T19:41:31.855727Z",
     "iopub.status.idle": "2022-11-11T19:41:31.864849Z",
     "shell.execute_reply": "2022-11-11T19:41:31.863741Z"
    },
    "papermill": {
     "duration": 0.034393,
     "end_time": "2022-11-11T19:41:31.867210",
     "exception": false,
     "start_time": "2022-11-11T19:41:31.832817",
     "status": "completed"
    },
    "tags": []
   },
   "outputs": [
    {
     "name": "stdout",
     "output_type": "stream",
     "text": [
      "BHK\n",
      "1     14139.223650\n",
      "2     22113.864018\n",
      "3     55863.062842\n",
      "6     73125.000000\n",
      "4    168864.555556\n",
      "5    297500.000000\n",
      "Name: Rent, dtype: float64\n"
     ]
    }
   ],
   "source": [
    "mean_rent=df.groupby('BHK')['Rent'].mean().sort_values()\n",
    "print(mean_rent)"
   ]
  },
  {
   "cell_type": "markdown",
   "id": "b3f86785",
   "metadata": {
    "papermill": {
     "duration": 0.023741,
     "end_time": "2022-11-11T19:41:31.912711",
     "exception": false,
     "start_time": "2022-11-11T19:41:31.888970",
     "status": "completed"
    },
    "tags": []
   },
   "source": [
    "***It looks like houses that have 4 or 5 rooms are higher rent prices than 6. 6 bedroom houses can be out of the city or not big as 4 and 5 bedroom houses*.**"
   ]
  },
  {
   "cell_type": "code",
   "execution_count": 14,
   "id": "6417bd37",
   "metadata": {
    "execution": {
     "iopub.execute_input": "2022-11-11T19:41:31.966596Z",
     "iopub.status.busy": "2022-11-11T19:41:31.965260Z",
     "iopub.status.idle": "2022-11-11T19:41:32.418301Z",
     "shell.execute_reply": "2022-11-11T19:41:32.417154Z"
    },
    "papermill": {
     "duration": 0.483997,
     "end_time": "2022-11-11T19:41:32.420672",
     "exception": false,
     "start_time": "2022-11-11T19:41:31.936675",
     "status": "completed"
    },
    "tags": []
   },
   "outputs": [
    {
     "data": {
      "text/plain": [
       "<AxesSubplot:xlabel='BHK', ylabel='Size'>"
      ]
     },
     "execution_count": 14,
     "metadata": {},
     "output_type": "execute_result"
    },
    {
     "data": {
      "image/png": "[encoded data removed]",
      "text/plain": [
       "<Figure size 432x288 with 1 Axes>"
      ]
     },
     "metadata": {
      "needs_background": "light"
     },
     "output_type": "display_data"
    }
   ],
   "source": [
    "sns.barplot(x = df['BHK'], y = df['Size'], data = df)"
   ]
  },
  {
   "cell_type": "code",
   "execution_count": 15,
   "id": "78cb9bb8",
   "metadata": {
    "execution": {
     "iopub.execute_input": "2022-11-11T19:41:32.465230Z",
     "iopub.status.busy": "2022-11-11T19:41:32.464821Z",
     "iopub.status.idle": "2022-11-11T19:41:32.473670Z",
     "shell.execute_reply": "2022-11-11T19:41:32.472296Z"
    },
    "papermill": {
     "duration": 0.03408,
     "end_time": "2022-11-11T19:41:32.476064",
     "exception": false,
     "start_time": "2022-11-11T19:41:32.441984",
     "status": "completed"
    },
    "tags": []
   },
   "outputs": [
    {
     "name": "stdout",
     "output_type": "stream",
     "text": [
      "BHK\n",
      "1     478.907455\n",
      "2     852.072848\n",
      "3    1432.367031\n",
      "4    2382.190476\n",
      "5    2910.947368\n",
      "6    3075.000000\n",
      "Name: Size, dtype: float64\n"
     ]
    }
   ],
   "source": [
    "mean_size=df.groupby('BHK')['Size'].mean().sort_values()\n",
    "print(mean_size)"
   ]
  },
  {
   "cell_type": "code",
   "execution_count": 16,
   "id": "4aa35bf5",
   "metadata": {
    "execution": {
     "iopub.execute_input": "2022-11-11T19:41:32.521415Z",
     "iopub.status.busy": "2022-11-11T19:41:32.520945Z",
     "iopub.status.idle": "2022-11-11T19:41:32.778339Z",
     "shell.execute_reply": "2022-11-11T19:41:32.777101Z"
    },
    "papermill": {
     "duration": 0.282934,
     "end_time": "2022-11-11T19:41:32.780958",
     "exception": false,
     "start_time": "2022-11-11T19:41:32.498024",
     "status": "completed"
    },
    "tags": []
   },
   "outputs": [
    {
     "data": {
      "text/plain": [
       "<AxesSubplot:>"
      ]
     },
     "execution_count": 16,
     "metadata": {},
     "output_type": "execute_result"
    },
    {
     "data": {
      "image/png": "[encoded data removed]",
      "text/plain": [
       "<Figure size 432x288 with 1 Axes>"
      ]
     },
     "metadata": {
      "needs_background": "light"
     },
     "output_type": "display_data"
    }
   ],
   "source": [
    "##??? NIYE\n",
    "df['Rent'].hist()"
   ]
  },
  {
   "cell_type": "markdown",
   "id": "4bb25d56",
   "metadata": {
    "papermill": {
     "duration": 0.021275,
     "end_time": "2022-11-11T19:41:32.824853",
     "exception": false,
     "start_time": "2022-11-11T19:41:32.803578",
     "status": "completed"
    },
    "tags": []
   },
   "source": [
    "***right skewed distribution.***"
   ]
  },
  {
   "cell_type": "code",
   "execution_count": 17,
   "id": "cd5861fd",
   "metadata": {
    "execution": {
     "iopub.execute_input": "2022-11-11T19:41:32.870899Z",
     "iopub.status.busy": "2022-11-11T19:41:32.870491Z",
     "iopub.status.idle": "2022-11-11T19:41:33.071292Z",
     "shell.execute_reply": "2022-11-11T19:41:33.070156Z"
    },
    "papermill": {
     "duration": 0.226825,
     "end_time": "2022-11-11T19:41:33.074043",
     "exception": false,
     "start_time": "2022-11-11T19:41:32.847218",
     "status": "completed"
    },
    "tags": []
   },
   "outputs": [
    {
     "data": {
      "text/plain": [
       "<AxesSubplot:xlabel='Rent'>"
      ]
     },
     "execution_count": 17,
     "metadata": {},
     "output_type": "execute_result"
    },
    {
     "data": {
      "image/png": "[encoded data removed]",
      "text/plain": [
       "<Figure size 432x288 with 1 Axes>"
      ]
     },
     "metadata": {
      "needs_background": "light"
     },
     "output_type": "display_data"
    }
   ],
   "source": [
    "sns.boxplot(x = df['Rent'][df['Rent'] <= 150000])"
   ]
  },
  {
   "cell_type": "markdown",
   "id": "ad460cef",
   "metadata": {
    "papermill": {
     "duration": 0.021538,
     "end_time": "2022-11-11T19:41:33.117623",
     "exception": false,
     "start_time": "2022-11-11T19:41:33.096085",
     "status": "completed"
    },
    "tags": []
   },
   "source": [
    "***so the avg. of rent is between 10k to 30k.***"
   ]
  },
  {
   "cell_type": "markdown",
   "id": "ae2c5757",
   "metadata": {
    "papermill": {
     "duration": 0.0226,
     "end_time": "2022-11-11T19:41:33.163909",
     "exception": false,
     "start_time": "2022-11-11T19:41:33.141309",
     "status": "completed"
    },
    "tags": []
   },
   "source": [
    "***lets find the mean of the rent for every cities.***"
   ]
  },
  {
   "cell_type": "code",
   "execution_count": 18,
   "id": "9d2de434",
   "metadata": {
    "execution": {
     "iopub.execute_input": "2022-11-11T19:41:33.212497Z",
     "iopub.status.busy": "2022-11-11T19:41:33.211450Z",
     "iopub.status.idle": "2022-11-11T19:41:33.220164Z",
     "shell.execute_reply": "2022-11-11T19:41:33.218827Z"
    },
    "papermill": {
     "duration": 0.036004,
     "end_time": "2022-11-11T19:41:33.222612",
     "exception": false,
     "start_time": "2022-11-11T19:41:33.186608",
     "status": "completed"
    },
    "tags": []
   },
   "outputs": [
    {
     "name": "stdout",
     "output_type": "stream",
     "text": [
      "City\n",
      "Kolkata      11645.173664\n",
      "Hyderabad    20555.048387\n",
      "Chennai      21614.092031\n",
      "Bangalore    24966.365688\n",
      "Delhi        29461.983471\n",
      "Mumbai       85321.204733\n",
      "Name: Rent, dtype: float64\n"
     ]
    }
   ],
   "source": [
    "meancities = df.groupby('City')['Rent'].mean().sort_values()\n",
    "print(meancities)"
   ]
  },
  {
   "cell_type": "code",
   "execution_count": 19,
   "id": "17df3d67",
   "metadata": {
    "execution": {
     "iopub.execute_input": "2022-11-11T19:41:33.270264Z",
     "iopub.status.busy": "2022-11-11T19:41:33.269872Z",
     "iopub.status.idle": "2022-11-11T19:41:33.500004Z",
     "shell.execute_reply": "2022-11-11T19:41:33.499167Z"
    },
    "papermill": {
     "duration": 0.255992,
     "end_time": "2022-11-11T19:41:33.502174",
     "exception": false,
     "start_time": "2022-11-11T19:41:33.246182",
     "status": "completed"
    },
    "tags": []
   },
   "outputs": [
    {
     "data": {
      "text/plain": [
       "<AxesSubplot:xlabel='City'>"
      ]
     },
     "execution_count": 19,
     "metadata": {},
     "output_type": "execute_result"
    },
    {
     "data": {
      "image/png": "[encoded data removed]",
      "text/plain": [
       "<Figure size 432x288 with 1 Axes>"
      ]
     },
     "metadata": {
      "needs_background": "light"
     },
     "output_type": "display_data"
    }
   ],
   "source": [
    "meancities.plot(kind=\"bar\")"
   ]
  },
  {
   "cell_type": "markdown",
   "id": "43fae428",
   "metadata": {
    "papermill": {
     "duration": 0.022032,
     "end_time": "2022-11-11T19:41:33.546963",
     "exception": false,
     "start_time": "2022-11-11T19:41:33.524931",
     "status": "completed"
    },
    "tags": []
   },
   "source": [
    "***now its time to delete some \"unnecessary columns\". there is nothing to do with \"posted on\" and \"area locality\" columns.***"
   ]
  },
  {
   "cell_type": "code",
   "execution_count": 20,
   "id": "096f2cab",
   "metadata": {
    "execution": {
     "iopub.execute_input": "2022-11-11T19:41:33.593469Z",
     "iopub.status.busy": "2022-11-11T19:41:33.592742Z",
     "iopub.status.idle": "2022-11-11T19:41:33.600417Z",
     "shell.execute_reply": "2022-11-11T19:41:33.599487Z"
    },
    "papermill": {
     "duration": 0.033535,
     "end_time": "2022-11-11T19:41:33.602638",
     "exception": false,
     "start_time": "2022-11-11T19:41:33.569103",
     "status": "completed"
    },
    "tags": []
   },
   "outputs": [],
   "source": [
    "df.drop([\"Posted On\"], axis=\"columns\", inplace=True)\n",
    "df.drop([\"Area Locality\"], axis=\"columns\", inplace=True)\n"
   ]
  },
  {
   "cell_type": "markdown",
   "id": "777d3e20",
   "metadata": {
    "papermill": {
     "duration": 0.022642,
     "end_time": "2022-11-11T19:41:33.647615",
     "exception": false,
     "start_time": "2022-11-11T19:41:33.624973",
     "status": "completed"
    },
    "tags": []
   },
   "source": [
    "***lets see some distrubitions.***"
   ]
  },
  {
   "cell_type": "code",
   "execution_count": 21,
   "id": "522bb62e",
   "metadata": {
    "execution": {
     "iopub.execute_input": "2022-11-11T19:41:33.695152Z",
     "iopub.status.busy": "2022-11-11T19:41:33.694097Z",
     "iopub.status.idle": "2022-11-11T19:41:45.157214Z",
     "shell.execute_reply": "2022-11-11T19:41:45.155916Z"
    },
    "papermill": {
     "duration": 11.489763,
     "end_time": "2022-11-11T19:41:45.159975",
     "exception": false,
     "start_time": "2022-11-11T19:41:33.670212",
     "status": "completed"
    },
    "tags": []
   },
   "outputs": [
    {
     "data": {
      "text/plain": [
       "<seaborn.axisgrid.PairGrid at 0x7fbe641b2d50>"
      ]
     },
     "execution_count": 21,
     "metadata": {},
     "output_type": "execute_result"
    },
    {
     "data": {
      "image/png": "[encoded data removed]",
      "text/plain": [
       "<Figure size 720x720 with 20 Axes>"
      ]
     },
     "metadata": {
      "needs_background": "light"
     },
     "output_type": "display_data"
    }
   ],
   "source": [
    "sns.pairplot(df, kind=\"reg\")"
   ]
  },
  {
   "cell_type": "code",
   "execution_count": 22,
   "id": "da9f42ae",
   "metadata": {
    "execution": {
     "iopub.execute_input": "2022-11-11T19:41:45.210713Z",
     "iopub.status.busy": "2022-11-11T19:41:45.210259Z",
     "iopub.status.idle": "2022-11-11T19:41:45.226589Z",
     "shell.execute_reply": "2022-11-11T19:41:45.225421Z"
    },
    "papermill": {
     "duration": 0.045588,
     "end_time": "2022-11-11T19:41:45.229638",
     "exception": false,
     "start_time": "2022-11-11T19:41:45.184050",
     "status": "completed"
    },
    "tags": []
   },
   "outputs": [
    {
     "data": {
      "text/html": [
       "<div>\n",
       "<style scoped>\n",
       "    .dataframe tbody tr th:only-of-type {\n",
       "        vertical-align: middle;\n",
       "    }\n",
       "\n",
       "    .dataframe tbody tr th {\n",
       "        vertical-align: top;\n",
       "    }\n",
       "\n",
       "    .dataframe thead th {\n",
       "        text-align: right;\n",
       "    }\n",
       "</style>\n",
       "<table border=\"1\" class=\"dataframe\">\n",
       "  <thead>\n",
       "    <tr style=\"text-align: right;\">\n",
       "      <th></th>\n",
       "      <th>BHK</th>\n",
       "      <th>Rent</th>\n",
       "      <th>Size</th>\n",
       "      <th>Floor</th>\n",
       "      <th>Area Type</th>\n",
       "      <th>City</th>\n",
       "      <th>Furnishing Status</th>\n",
       "      <th>Tenant Preferred</th>\n",
       "      <th>Bathroom</th>\n",
       "      <th>Point of Contact</th>\n",
       "    </tr>\n",
       "  </thead>\n",
       "  <tbody>\n",
       "    <tr>\n",
       "      <th>0</th>\n",
       "      <td>2</td>\n",
       "      <td>10000</td>\n",
       "      <td>1100</td>\n",
       "      <td>Ground out of 2</td>\n",
       "      <td>Super Area</td>\n",
       "      <td>Kolkata</td>\n",
       "      <td>Unfurnished</td>\n",
       "      <td>Bachelors/Family</td>\n",
       "      <td>2</td>\n",
       "      <td>Contact Owner</td>\n",
       "    </tr>\n",
       "    <tr>\n",
       "      <th>1</th>\n",
       "      <td>2</td>\n",
       "      <td>20000</td>\n",
       "      <td>800</td>\n",
       "      <td>1 out of 3</td>\n",
       "      <td>Super Area</td>\n",
       "      <td>Kolkata</td>\n",
       "      <td>Semi-Furnished</td>\n",
       "      <td>Bachelors/Family</td>\n",
       "      <td>1</td>\n",
       "      <td>Contact Owner</td>\n",
       "    </tr>\n",
       "    <tr>\n",
       "      <th>2</th>\n",
       "      <td>2</td>\n",
       "      <td>17000</td>\n",
       "      <td>1000</td>\n",
       "      <td>1 out of 3</td>\n",
       "      <td>Super Area</td>\n",
       "      <td>Kolkata</td>\n",
       "      <td>Semi-Furnished</td>\n",
       "      <td>Bachelors/Family</td>\n",
       "      <td>1</td>\n",
       "      <td>Contact Owner</td>\n",
       "    </tr>\n",
       "    <tr>\n",
       "      <th>3</th>\n",
       "      <td>2</td>\n",
       "      <td>10000</td>\n",
       "      <td>800</td>\n",
       "      <td>1 out of 2</td>\n",
       "      <td>Super Area</td>\n",
       "      <td>Kolkata</td>\n",
       "      <td>Unfurnished</td>\n",
       "      <td>Bachelors/Family</td>\n",
       "      <td>1</td>\n",
       "      <td>Contact Owner</td>\n",
       "    </tr>\n",
       "    <tr>\n",
       "      <th>4</th>\n",
       "      <td>2</td>\n",
       "      <td>7500</td>\n",
       "      <td>850</td>\n",
       "      <td>1 out of 2</td>\n",
       "      <td>Carpet Area</td>\n",
       "      <td>Kolkata</td>\n",
       "      <td>Unfurnished</td>\n",
       "      <td>Bachelors</td>\n",
       "      <td>1</td>\n",
       "      <td>Contact Owner</td>\n",
       "    </tr>\n",
       "  </tbody>\n",
       "</table>\n",
       "</div>"
      ],
      "text/plain": [
       "   BHK   Rent  Size            Floor    Area Type     City Furnishing Status  \\\n",
       "0    2  10000  1100  Ground out of 2   Super Area  Kolkata       Unfurnished   \n",
       "1    2  20000   800       1 out of 3   Super Area  Kolkata    Semi-Furnished   \n",
       "2    2  17000  1000       1 out of 3   Super Area  Kolkata    Semi-Furnished   \n",
       "3    2  10000   800       1 out of 2   Super Area  Kolkata       Unfurnished   \n",
       "4    2   7500   850       1 out of 2  Carpet Area  Kolkata       Unfurnished   \n",
       "\n",
       "   Tenant Preferred  Bathroom Point of Contact  \n",
       "0  Bachelors/Family         2    Contact Owner  \n",
       "1  Bachelors/Family         1    Contact Owner  \n",
       "2  Bachelors/Family         1    Contact Owner  \n",
       "3  Bachelors/Family         1    Contact Owner  \n",
       "4         Bachelors         1    Contact Owner  "
      ]
     },
     "execution_count": 22,
     "metadata": {},
     "output_type": "execute_result"
    }
   ],
   "source": [
    "df.head()"
   ]
  },
  {
   "cell_type": "markdown",
   "id": "92d22c5b",
   "metadata": {
    "papermill": {
     "duration": 0.02427,
     "end_time": "2022-11-11T19:41:45.279347",
     "exception": false,
     "start_time": "2022-11-11T19:41:45.255077",
     "status": "completed"
    },
    "tags": []
   },
   "source": [
    "***now we will change our categorical values to numerical so it will be more clear to read data.\n",
    "\"floor\" column needs to change as \"floor number\" and \"total floor\" so instead of \"3 out of 5\" we will see 3 as a floor, 5 as a total floor.***"
   ]
  },
  {
   "cell_type": "code",
   "execution_count": 23,
   "id": "60224218",
   "metadata": {
    "execution": {
     "iopub.execute_input": "2022-11-11T19:41:45.329121Z",
     "iopub.status.busy": "2022-11-11T19:41:45.328715Z",
     "iopub.status.idle": "2022-11-11T19:41:45.338960Z",
     "shell.execute_reply": "2022-11-11T19:41:45.338113Z"
    },
    "papermill": {
     "duration": 0.037442,
     "end_time": "2022-11-11T19:41:45.341046",
     "exception": false,
     "start_time": "2022-11-11T19:41:45.303604",
     "status": "completed"
    },
    "tags": []
   },
   "outputs": [
    {
     "data": {
      "text/plain": [
       "count           4746\n",
       "unique           480\n",
       "top       1 out of 2\n",
       "freq             379\n",
       "Name: Floor, dtype: object"
      ]
     },
     "execution_count": 23,
     "metadata": {},
     "output_type": "execute_result"
    }
   ],
   "source": [
    "df[\"Floor\"].describe()"
   ]
  },
  {
   "cell_type": "code",
   "execution_count": 24,
   "id": "8da20600",
   "metadata": {
    "execution": {
     "iopub.execute_input": "2022-11-11T19:41:45.393101Z",
     "iopub.status.busy": "2022-11-11T19:41:45.392020Z",
     "iopub.status.idle": "2022-11-11T19:41:45.399633Z",
     "shell.execute_reply": "2022-11-11T19:41:45.398241Z"
    },
    "papermill": {
     "duration": 0.035963,
     "end_time": "2022-11-11T19:41:45.402375",
     "exception": false,
     "start_time": "2022-11-11T19:41:45.366412",
     "status": "completed"
    },
    "tags": []
   },
   "outputs": [
    {
     "name": "stdout",
     "output_type": "stream",
     "text": [
      "0       Ground out of 2\n",
      "1            1 out of 3\n",
      "2            1 out of 3\n",
      "3            1 out of 2\n",
      "4            1 out of 2\n",
      "             ...       \n",
      "4741         3 out of 5\n",
      "4742         1 out of 4\n",
      "4743         3 out of 5\n",
      "4744       23 out of 34\n",
      "4745         4 out of 5\n",
      "Name: Floor, Length: 4746, dtype: object\n"
     ]
    }
   ],
   "source": [
    "print(df[\"Floor\"])"
   ]
  },
  {
   "cell_type": "code",
   "execution_count": 25,
   "id": "b8a7f49e",
   "metadata": {
    "execution": {
     "iopub.execute_input": "2022-11-11T19:41:45.452522Z",
     "iopub.status.busy": "2022-11-11T19:41:45.452089Z",
     "iopub.status.idle": "2022-11-11T19:41:45.461482Z",
     "shell.execute_reply": "2022-11-11T19:41:45.460284Z"
    },
    "papermill": {
     "duration": 0.037173,
     "end_time": "2022-11-11T19:41:45.463904",
     "exception": false,
     "start_time": "2022-11-11T19:41:45.426731",
     "status": "completed"
    },
    "tags": []
   },
   "outputs": [],
   "source": [
    "df[\"Floor Number\"]=df[\"Floor\"].apply(lambda x:str(x).split()[0])"
   ]
  },
  {
   "cell_type": "code",
   "execution_count": 26,
   "id": "292d5ad1",
   "metadata": {
    "execution": {
     "iopub.execute_input": "2022-11-11T19:41:45.515251Z",
     "iopub.status.busy": "2022-11-11T19:41:45.514849Z",
     "iopub.status.idle": "2022-11-11T19:41:45.524177Z",
     "shell.execute_reply": "2022-11-11T19:41:45.523148Z"
    },
    "papermill": {
     "duration": 0.037126,
     "end_time": "2022-11-11T19:41:45.526133",
     "exception": false,
     "start_time": "2022-11-11T19:41:45.489007",
     "status": "completed"
    },
    "tags": []
   },
   "outputs": [],
   "source": [
    "df[\"Total Floor\"]=df[\"Floor\"].apply(lambda x:str(x).split()[-1])"
   ]
  },
  {
   "cell_type": "code",
   "execution_count": 27,
   "id": "30b97110",
   "metadata": {
    "execution": {
     "iopub.execute_input": "2022-11-11T19:41:45.577702Z",
     "iopub.status.busy": "2022-11-11T19:41:45.576926Z",
     "iopub.status.idle": "2022-11-11T19:41:45.582309Z",
     "shell.execute_reply": "2022-11-11T19:41:45.581216Z"
    },
    "papermill": {
     "duration": 0.034215,
     "end_time": "2022-11-11T19:41:45.584550",
     "exception": false,
     "start_time": "2022-11-11T19:41:45.550335",
     "status": "completed"
    },
    "tags": []
   },
   "outputs": [],
   "source": [
    "del df[\"Floor\"]"
   ]
  },
  {
   "cell_type": "markdown",
   "id": "a00af992",
   "metadata": {
    "papermill": {
     "duration": 0.023861,
     "end_time": "2022-11-11T19:41:45.633990",
     "exception": false,
     "start_time": "2022-11-11T19:41:45.610129",
     "status": "completed"
    },
    "tags": []
   },
   "source": [
    "***change \"ground\" to 0 ***"
   ]
  },
  {
   "cell_type": "code",
   "execution_count": 28,
   "id": "74724517",
   "metadata": {
    "execution": {
     "iopub.execute_input": "2022-11-11T19:41:45.686169Z",
     "iopub.status.busy": "2022-11-11T19:41:45.685353Z",
     "iopub.status.idle": "2022-11-11T19:41:45.692905Z",
     "shell.execute_reply": "2022-11-11T19:41:45.691960Z"
    },
    "papermill": {
     "duration": 0.037505,
     "end_time": "2022-11-11T19:41:45.695718",
     "exception": false,
     "start_time": "2022-11-11T19:41:45.658213",
     "status": "completed"
    },
    "tags": []
   },
   "outputs": [],
   "source": [
    "df[\"Floor Number\"] = df[\"Floor Number\"].replace(['Ground'],0)\n"
   ]
  },
  {
   "cell_type": "code",
   "execution_count": 29,
   "id": "3a9c5499",
   "metadata": {
    "execution": {
     "iopub.execute_input": "2022-11-11T19:41:45.747153Z",
     "iopub.status.busy": "2022-11-11T19:41:45.746282Z",
     "iopub.status.idle": "2022-11-11T19:41:45.756794Z",
     "shell.execute_reply": "2022-11-11T19:41:45.755569Z"
    },
    "papermill": {
     "duration": 0.039621,
     "end_time": "2022-11-11T19:41:45.759376",
     "exception": false,
     "start_time": "2022-11-11T19:41:45.719755",
     "status": "completed"
    },
    "tags": []
   },
   "outputs": [
    {
     "data": {
      "text/plain": [
       "1        1161\n",
       "2         945\n",
       "0         927\n",
       "3         512\n",
       "4         272\n",
       "5         164\n",
       "6          93\n",
       "7          74\n",
       "10         67\n",
       "8          66\n",
       "9          65\n",
       "12         47\n",
       "11         43\n",
       "15         41\n",
       "14         34\n",
       "18         26\n",
       "Upper      23\n",
       "17         22\n",
       "16         21\n",
       "19         16\n",
       "13         15\n",
       "20         12\n",
       "25         12\n",
       "Lower      11\n",
       "23          9\n",
       "24          6\n",
       "21          6\n",
       "30          5\n",
       "34          4\n",
       "28          4\n",
       "35          3\n",
       "65          3\n",
       "22          3\n",
       "26          3\n",
       "32          3\n",
       "60          3\n",
       "27          3\n",
       "40          2\n",
       "53          2\n",
       "45          2\n",
       "36          2\n",
       "48          2\n",
       "29          1\n",
       "49          1\n",
       "50          1\n",
       "39          1\n",
       "46          1\n",
       "41          1\n",
       "44          1\n",
       "33          1\n",
       "37          1\n",
       "47          1\n",
       "43          1\n",
       "76          1\n",
       "Name: Floor Number, dtype: int64"
      ]
     },
     "execution_count": 29,
     "metadata": {},
     "output_type": "execute_result"
    }
   ],
   "source": [
    "df[\"Floor Number\"].value_counts()"
   ]
  },
  {
   "cell_type": "markdown",
   "id": "52863fa7",
   "metadata": {
    "papermill": {
     "duration": 0.024634,
     "end_time": "2022-11-11T19:41:45.808697",
     "exception": false,
     "start_time": "2022-11-11T19:41:45.784063",
     "status": "completed"
    },
    "tags": []
   },
   "source": [
    "***lower basement means \"-2\",and Upper basement is -1.***"
   ]
  },
  {
   "cell_type": "code",
   "execution_count": 30,
   "id": "3894d23e",
   "metadata": {
    "execution": {
     "iopub.execute_input": "2022-11-11T19:41:45.858955Z",
     "iopub.status.busy": "2022-11-11T19:41:45.858548Z",
     "iopub.status.idle": "2022-11-11T19:41:45.865712Z",
     "shell.execute_reply": "2022-11-11T19:41:45.864473Z"
    },
    "papermill": {
     "duration": 0.035306,
     "end_time": "2022-11-11T19:41:45.868305",
     "exception": false,
     "start_time": "2022-11-11T19:41:45.832999",
     "status": "completed"
    },
    "tags": []
   },
   "outputs": [],
   "source": [
    "df[\"Floor Number\"] = df[\"Floor Number\"].replace(['Lower'],-2)\n"
   ]
  },
  {
   "cell_type": "code",
   "execution_count": 31,
   "id": "80d71fc5",
   "metadata": {
    "execution": {
     "iopub.execute_input": "2022-11-11T19:41:45.920438Z",
     "iopub.status.busy": "2022-11-11T19:41:45.920026Z",
     "iopub.status.idle": "2022-11-11T19:41:45.927244Z",
     "shell.execute_reply": "2022-11-11T19:41:45.925992Z"
    },
    "papermill": {
     "duration": 0.035549,
     "end_time": "2022-11-11T19:41:45.929420",
     "exception": false,
     "start_time": "2022-11-11T19:41:45.893871",
     "status": "completed"
    },
    "tags": []
   },
   "outputs": [],
   "source": [
    "\n",
    "df[\"Floor Number\"] = df[\"Floor Number\"].replace(['Upper'],-1)\n"
   ]
  },
  {
   "cell_type": "code",
   "execution_count": 32,
   "id": "0ee90a6a",
   "metadata": {
    "execution": {
     "iopub.execute_input": "2022-11-11T19:41:45.982503Z",
     "iopub.status.busy": "2022-11-11T19:41:45.981302Z",
     "iopub.status.idle": "2022-11-11T19:41:45.987778Z",
     "shell.execute_reply": "2022-11-11T19:41:45.986928Z"
    },
    "papermill": {
     "duration": 0.036029,
     "end_time": "2022-11-11T19:41:45.990207",
     "exception": false,
     "start_time": "2022-11-11T19:41:45.954178",
     "status": "completed"
    },
    "tags": []
   },
   "outputs": [],
   "source": [
    "\n",
    "df[\"Floor Number\"] = df[\"Floor Number\"].replace(['Ground'],0)"
   ]
  },
  {
   "cell_type": "code",
   "execution_count": 33,
   "id": "c93ff32b",
   "metadata": {
    "execution": {
     "iopub.execute_input": "2022-11-11T19:41:46.043376Z",
     "iopub.status.busy": "2022-11-11T19:41:46.042771Z",
     "iopub.status.idle": "2022-11-11T19:41:46.059128Z",
     "shell.execute_reply": "2022-11-11T19:41:46.057969Z"
    },
    "papermill": {
     "duration": 0.045224,
     "end_time": "2022-11-11T19:41:46.061768",
     "exception": false,
     "start_time": "2022-11-11T19:41:46.016544",
     "status": "completed"
    },
    "tags": []
   },
   "outputs": [
    {
     "data": {
      "text/html": [
       "<div>\n",
       "<style scoped>\n",
       "    .dataframe tbody tr th:only-of-type {\n",
       "        vertical-align: middle;\n",
       "    }\n",
       "\n",
       "    .dataframe tbody tr th {\n",
       "        vertical-align: top;\n",
       "    }\n",
       "\n",
       "    .dataframe thead th {\n",
       "        text-align: right;\n",
       "    }\n",
       "</style>\n",
       "<table border=\"1\" class=\"dataframe\">\n",
       "  <thead>\n",
       "    <tr style=\"text-align: right;\">\n",
       "      <th></th>\n",
       "      <th>BHK</th>\n",
       "      <th>Rent</th>\n",
       "      <th>Size</th>\n",
       "      <th>Area Type</th>\n",
       "      <th>City</th>\n",
       "      <th>Furnishing Status</th>\n",
       "      <th>Tenant Preferred</th>\n",
       "      <th>Bathroom</th>\n",
       "      <th>Point of Contact</th>\n",
       "      <th>Floor Number</th>\n",
       "      <th>Total Floor</th>\n",
       "    </tr>\n",
       "  </thead>\n",
       "  <tbody>\n",
       "    <tr>\n",
       "      <th>3920</th>\n",
       "      <td>2</td>\n",
       "      <td>12000</td>\n",
       "      <td>1800</td>\n",
       "      <td>Super Area</td>\n",
       "      <td>Hyderabad</td>\n",
       "      <td>Semi-Furnished</td>\n",
       "      <td>Bachelors/Family</td>\n",
       "      <td>2</td>\n",
       "      <td>Contact Owner</td>\n",
       "      <td>0</td>\n",
       "      <td>2</td>\n",
       "    </tr>\n",
       "    <tr>\n",
       "      <th>3777</th>\n",
       "      <td>3</td>\n",
       "      <td>24000</td>\n",
       "      <td>2100</td>\n",
       "      <td>Super Area</td>\n",
       "      <td>Chennai</td>\n",
       "      <td>Semi-Furnished</td>\n",
       "      <td>Bachelors/Family</td>\n",
       "      <td>4</td>\n",
       "      <td>Contact Owner</td>\n",
       "      <td>0</td>\n",
       "      <td>2</td>\n",
       "    </tr>\n",
       "    <tr>\n",
       "      <th>1512</th>\n",
       "      <td>1</td>\n",
       "      <td>13500</td>\n",
       "      <td>600</td>\n",
       "      <td>Super Area</td>\n",
       "      <td>Bangalore</td>\n",
       "      <td>Semi-Furnished</td>\n",
       "      <td>Bachelors/Family</td>\n",
       "      <td>1</td>\n",
       "      <td>Contact Owner</td>\n",
       "      <td>1</td>\n",
       "      <td>4</td>\n",
       "    </tr>\n",
       "    <tr>\n",
       "      <th>1884</th>\n",
       "      <td>2</td>\n",
       "      <td>10000</td>\n",
       "      <td>1200</td>\n",
       "      <td>Super Area</td>\n",
       "      <td>Bangalore</td>\n",
       "      <td>Semi-Furnished</td>\n",
       "      <td>Bachelors/Family</td>\n",
       "      <td>2</td>\n",
       "      <td>Contact Owner</td>\n",
       "      <td>0</td>\n",
       "      <td>1</td>\n",
       "    </tr>\n",
       "    <tr>\n",
       "      <th>829</th>\n",
       "      <td>3</td>\n",
       "      <td>130000</td>\n",
       "      <td>1450</td>\n",
       "      <td>Carpet Area</td>\n",
       "      <td>Mumbai</td>\n",
       "      <td>Semi-Furnished</td>\n",
       "      <td>Bachelors/Family</td>\n",
       "      <td>5</td>\n",
       "      <td>Contact Agent</td>\n",
       "      <td>9</td>\n",
       "      <td>10</td>\n",
       "    </tr>\n",
       "  </tbody>\n",
       "</table>\n",
       "</div>"
      ],
      "text/plain": [
       "      BHK    Rent  Size    Area Type       City Furnishing Status  \\\n",
       "3920    2   12000  1800   Super Area  Hyderabad    Semi-Furnished   \n",
       "3777    3   24000  2100   Super Area    Chennai    Semi-Furnished   \n",
       "1512    1   13500   600   Super Area  Bangalore    Semi-Furnished   \n",
       "1884    2   10000  1200   Super Area  Bangalore    Semi-Furnished   \n",
       "829     3  130000  1450  Carpet Area     Mumbai    Semi-Furnished   \n",
       "\n",
       "      Tenant Preferred  Bathroom Point of Contact Floor Number Total Floor  \n",
       "3920  Bachelors/Family         2    Contact Owner            0           2  \n",
       "3777  Bachelors/Family         4    Contact Owner            0           2  \n",
       "1512  Bachelors/Family         1    Contact Owner            1           4  \n",
       "1884  Bachelors/Family         2    Contact Owner            0           1  \n",
       "829   Bachelors/Family         5    Contact Agent            9          10  "
      ]
     },
     "execution_count": 33,
     "metadata": {},
     "output_type": "execute_result"
    }
   ],
   "source": [
    "df.sample(5)"
   ]
  },
  {
   "cell_type": "markdown",
   "id": "603a65b5",
   "metadata": {
    "papermill": {
     "duration": 0.02553,
     "end_time": "2022-11-11T19:41:46.112749",
     "exception": false,
     "start_time": "2022-11-11T19:41:46.087219",
     "status": "completed"
    },
    "tags": []
   },
   "source": [
    "***we had 1 ground value which was equal to 1 so we changed it. \n",
    "***"
   ]
  },
  {
   "cell_type": "code",
   "execution_count": 34,
   "id": "029d6963",
   "metadata": {
    "execution": {
     "iopub.execute_input": "2022-11-11T19:41:46.166217Z",
     "iopub.status.busy": "2022-11-11T19:41:46.165780Z",
     "iopub.status.idle": "2022-11-11T19:41:46.176210Z",
     "shell.execute_reply": "2022-11-11T19:41:46.175019Z"
    },
    "papermill": {
     "duration": 0.039537,
     "end_time": "2022-11-11T19:41:46.178419",
     "exception": false,
     "start_time": "2022-11-11T19:41:46.138882",
     "status": "completed"
    },
    "tags": []
   },
   "outputs": [
    {
     "data": {
      "text/plain": [
       "4         938\n",
       "3         915\n",
       "2         868\n",
       "5         422\n",
       "1         335\n",
       "         ... \n",
       "39          1\n",
       "62          1\n",
       "59          1\n",
       "66          1\n",
       "Ground      1\n",
       "Name: Total Floor, Length: 67, dtype: int64"
      ]
     },
     "execution_count": 34,
     "metadata": {},
     "output_type": "execute_result"
    }
   ],
   "source": [
    "df[\"Total Floor\"].value_counts()"
   ]
  },
  {
   "cell_type": "code",
   "execution_count": 35,
   "id": "79a700c3",
   "metadata": {
    "execution": {
     "iopub.execute_input": "2022-11-11T19:41:46.231660Z",
     "iopub.status.busy": "2022-11-11T19:41:46.230998Z",
     "iopub.status.idle": "2022-11-11T19:41:46.238536Z",
     "shell.execute_reply": "2022-11-11T19:41:46.237347Z"
    },
    "papermill": {
     "duration": 0.037216,
     "end_time": "2022-11-11T19:41:46.241535",
     "exception": false,
     "start_time": "2022-11-11T19:41:46.204319",
     "status": "completed"
    },
    "tags": []
   },
   "outputs": [],
   "source": [
    "df[\"Total Floor\"] = df[\"Total Floor\"].replace(['Ground'],1)"
   ]
  },
  {
   "cell_type": "code",
   "execution_count": 36,
   "id": "e2c8fbb5",
   "metadata": {
    "execution": {
     "iopub.execute_input": "2022-11-11T19:41:46.294756Z",
     "iopub.status.busy": "2022-11-11T19:41:46.294282Z",
     "iopub.status.idle": "2022-11-11T19:41:46.302438Z",
     "shell.execute_reply": "2022-11-11T19:41:46.301311Z"
    },
    "papermill": {
     "duration": 0.036796,
     "end_time": "2022-11-11T19:41:46.304648",
     "exception": false,
     "start_time": "2022-11-11T19:41:46.267852",
     "status": "completed"
    },
    "tags": []
   },
   "outputs": [
    {
     "data": {
      "text/plain": [
       "array(['Super Area', 'Carpet Area', 'Built Area'], dtype=object)"
      ]
     },
     "execution_count": 36,
     "metadata": {},
     "output_type": "execute_result"
    }
   ],
   "source": [
    "df[\"Area Type\"].unique()"
   ]
  },
  {
   "cell_type": "code",
   "execution_count": 37,
   "id": "07f6bf44",
   "metadata": {
    "execution": {
     "iopub.execute_input": "2022-11-11T19:41:46.356616Z",
     "iopub.status.busy": "2022-11-11T19:41:46.355912Z",
     "iopub.status.idle": "2022-11-11T19:41:46.507337Z",
     "shell.execute_reply": "2022-11-11T19:41:46.506450Z"
    },
    "papermill": {
     "duration": 0.180394,
     "end_time": "2022-11-11T19:41:46.509892",
     "exception": false,
     "start_time": "2022-11-11T19:41:46.329498",
     "status": "completed"
    },
    "tags": []
   },
   "outputs": [
    {
     "data": {
      "text/plain": [
       "<AxesSubplot:xlabel='Area Type'>"
      ]
     },
     "execution_count": 37,
     "metadata": {},
     "output_type": "execute_result"
    },
    {
     "data": {
      "image/png": "[encoded data removed]",
      "text/plain": [
       "<Figure size 432x288 with 1 Axes>"
      ]
     },
     "metadata": {
      "needs_background": "light"
     },
     "output_type": "display_data"
    }
   ],
   "source": [
    "df.groupby('Area Type')['Rent'].median().sort_values(ascending=False).plot(kind='bar')"
   ]
  },
  {
   "cell_type": "markdown",
   "id": "f8e9df83",
   "metadata": {
    "papermill": {
     "duration": 0.025622,
     "end_time": "2022-11-11T19:41:46.560537",
     "exception": false,
     "start_time": "2022-11-11T19:41:46.534915",
     "status": "completed"
    },
    "tags": []
   },
   "source": [
    "***# We have 3 values in the \"Area Type\" column. From now on Super Area =0, Carpet Area= 1, Built Area =2.***"
   ]
  },
  {
   "cell_type": "code",
   "execution_count": 38,
   "id": "f0681943",
   "metadata": {
    "execution": {
     "iopub.execute_input": "2022-11-11T19:41:46.613483Z",
     "iopub.status.busy": "2022-11-11T19:41:46.612658Z",
     "iopub.status.idle": "2022-11-11T19:41:46.623215Z",
     "shell.execute_reply": "2022-11-11T19:41:46.622082Z"
    },
    "papermill": {
     "duration": 0.039501,
     "end_time": "2022-11-11T19:41:46.625579",
     "exception": false,
     "start_time": "2022-11-11T19:41:46.586078",
     "status": "completed"
    },
    "tags": []
   },
   "outputs": [
    {
     "data": {
      "text/plain": [
       "array([2, 1, 0])"
      ]
     },
     "execution_count": 38,
     "metadata": {},
     "output_type": "execute_result"
    }
   ],
   "source": [
    "label_encoder = preprocessing.LabelEncoder()\n",
    "  \n",
    "# Encode labels in column \"Area Type\".\n",
    "df[\"Area Type\"]= label_encoder.fit_transform(df[\"Area Type\"])\n",
    "  \n",
    "df[\"Area Type\"].unique()"
   ]
  },
  {
   "cell_type": "code",
   "execution_count": 39,
   "id": "c059351a",
   "metadata": {
    "execution": {
     "iopub.execute_input": "2022-11-11T19:41:46.679525Z",
     "iopub.status.busy": "2022-11-11T19:41:46.679050Z",
     "iopub.status.idle": "2022-11-11T19:41:46.687144Z",
     "shell.execute_reply": "2022-11-11T19:41:46.686243Z"
    },
    "papermill": {
     "duration": 0.038262,
     "end_time": "2022-11-11T19:41:46.689143",
     "exception": false,
     "start_time": "2022-11-11T19:41:46.650881",
     "status": "completed"
    },
    "tags": []
   },
   "outputs": [
    {
     "data": {
      "text/plain": [
       "array(['Unfurnished', 'Semi-Furnished', 'Furnished'], dtype=object)"
      ]
     },
     "execution_count": 39,
     "metadata": {},
     "output_type": "execute_result"
    }
   ],
   "source": [
    "df[\"Furnishing Status\"].unique()"
   ]
  },
  {
   "cell_type": "code",
   "execution_count": 40,
   "id": "049fc160",
   "metadata": {
    "execution": {
     "iopub.execute_input": "2022-11-11T19:41:46.743432Z",
     "iopub.status.busy": "2022-11-11T19:41:46.742677Z",
     "iopub.status.idle": "2022-11-11T19:41:46.883362Z",
     "shell.execute_reply": "2022-11-11T19:41:46.882041Z"
    },
    "papermill": {
     "duration": 0.173388,
     "end_time": "2022-11-11T19:41:46.887728",
     "exception": false,
     "start_time": "2022-11-11T19:41:46.714340",
     "status": "completed"
    },
    "tags": []
   },
   "outputs": [
    {
     "data": {
      "text/plain": [
       "<AxesSubplot:xlabel='Furnishing Status'>"
      ]
     },
     "execution_count": 40,
     "metadata": {},
     "output_type": "execute_result"
    },
    {
     "data": {
      "image/png": "[encoded data removed]",
      "text/plain": [
       "<Figure size 432x288 with 1 Axes>"
      ]
     },
     "metadata": {
      "needs_background": "light"
     },
     "output_type": "display_data"
    }
   ],
   "source": [
    "df.groupby('Furnishing Status')['Rent'].median().sort_values(ascending=False).plot(kind='bar')"
   ]
  },
  {
   "cell_type": "markdown",
   "id": "fd3b977d",
   "metadata": {
    "papermill": {
     "duration": 0.025485,
     "end_time": "2022-11-11T19:41:46.942577",
     "exception": false,
     "start_time": "2022-11-11T19:41:46.917092",
     "status": "completed"
    },
    "tags": []
   },
   "source": [
    "*** We have 3 values in the \"Furnishing Status\" column. From now on Unfurnished =0, Semi-Furnished= 1, Furnished =2.***"
   ]
  },
  {
   "cell_type": "code",
   "execution_count": 41,
   "id": "9ecebb01",
   "metadata": {
    "execution": {
     "iopub.execute_input": "2022-11-11T19:41:47.001403Z",
     "iopub.status.busy": "2022-11-11T19:41:47.000592Z",
     "iopub.status.idle": "2022-11-11T19:41:47.010562Z",
     "shell.execute_reply": "2022-11-11T19:41:47.009657Z"
    },
    "papermill": {
     "duration": 0.043378,
     "end_time": "2022-11-11T19:41:47.012589",
     "exception": false,
     "start_time": "2022-11-11T19:41:46.969211",
     "status": "completed"
    },
    "tags": []
   },
   "outputs": [
    {
     "data": {
      "text/plain": [
       "array([2, 1, 0])"
      ]
     },
     "execution_count": 41,
     "metadata": {},
     "output_type": "execute_result"
    }
   ],
   "source": [
    "label_encoder = preprocessing.LabelEncoder()\n",
    "  \n",
    "# Encode labels in column \"Area Type\".\n",
    "df[\"Furnishing Status\"]= label_encoder.fit_transform(df[\"Furnishing Status\"])\n",
    "  \n",
    "df[\"Furnishing Status\"].unique()"
   ]
  },
  {
   "cell_type": "code",
   "execution_count": 42,
   "id": "0a242576",
   "metadata": {
    "execution": {
     "iopub.execute_input": "2022-11-11T19:41:47.066040Z",
     "iopub.status.busy": "2022-11-11T19:41:47.065294Z",
     "iopub.status.idle": "2022-11-11T19:41:47.072154Z",
     "shell.execute_reply": "2022-11-11T19:41:47.071313Z"
    },
    "papermill": {
     "duration": 0.036097,
     "end_time": "2022-11-11T19:41:47.074148",
     "exception": false,
     "start_time": "2022-11-11T19:41:47.038051",
     "status": "completed"
    },
    "tags": []
   },
   "outputs": [
    {
     "data": {
      "text/plain": [
       "array(['Bachelors/Family', 'Bachelors', 'Family'], dtype=object)"
      ]
     },
     "execution_count": 42,
     "metadata": {},
     "output_type": "execute_result"
    }
   ],
   "source": [
    "df[\"Tenant Preferred\"].unique()"
   ]
  },
  {
   "cell_type": "code",
   "execution_count": 43,
   "id": "60ca5734",
   "metadata": {
    "execution": {
     "iopub.execute_input": "2022-11-11T19:41:47.127903Z",
     "iopub.status.busy": "2022-11-11T19:41:47.127070Z",
     "iopub.status.idle": "2022-11-11T19:41:47.337074Z",
     "shell.execute_reply": "2022-11-11T19:41:47.335700Z"
    },
    "papermill": {
     "duration": 0.239765,
     "end_time": "2022-11-11T19:41:47.339485",
     "exception": false,
     "start_time": "2022-11-11T19:41:47.099720",
     "status": "completed"
    },
    "tags": []
   },
   "outputs": [
    {
     "data": {
      "text/plain": [
       "<AxesSubplot:xlabel='Tenant Preferred'>"
      ]
     },
     "execution_count": 43,
     "metadata": {},
     "output_type": "execute_result"
    },
    {
     "data": {
      "image/png": "[encoded data removed]",
      "text/plain": [
       "<Figure size 432x288 with 1 Axes>"
      ]
     },
     "metadata": {
      "needs_background": "light"
     },
     "output_type": "display_data"
    }
   ],
   "source": [
    "df.groupby(\"Tenant Preferred\")['Rent'].median().sort_values(ascending=False).plot(kind='bar')"
   ]
  },
  {
   "cell_type": "markdown",
   "id": "545404e7",
   "metadata": {
    "papermill": {
     "duration": 0.025792,
     "end_time": "2022-11-11T19:41:47.391880",
     "exception": false,
     "start_time": "2022-11-11T19:41:47.366088",
     "status": "completed"
    },
    "tags": []
   },
   "source": [
    "***# We have 3 values in the \"Tenant Preferred\" column. From now on Bachelors/Family =0, Bachelors= 1, Family =2.***"
   ]
  },
  {
   "cell_type": "code",
   "execution_count": 44,
   "id": "4613dcf2",
   "metadata": {
    "execution": {
     "iopub.execute_input": "2022-11-11T19:41:47.447950Z",
     "iopub.status.busy": "2022-11-11T19:41:47.447465Z",
     "iopub.status.idle": "2022-11-11T19:41:47.459160Z",
     "shell.execute_reply": "2022-11-11T19:41:47.457936Z"
    },
    "papermill": {
     "duration": 0.042185,
     "end_time": "2022-11-11T19:41:47.461709",
     "exception": false,
     "start_time": "2022-11-11T19:41:47.419524",
     "status": "completed"
    },
    "tags": []
   },
   "outputs": [
    {
     "data": {
      "text/plain": [
       "array([1, 0, 2])"
      ]
     },
     "execution_count": 44,
     "metadata": {},
     "output_type": "execute_result"
    }
   ],
   "source": [
    "label_encoder = preprocessing.LabelEncoder()\n",
    "  \n",
    "# Encode labels in column \"Area Type\".\n",
    "df[\"Tenant Preferred\"]= label_encoder.fit_transform(df[\"Tenant Preferred\"])\n",
    "  \n",
    "df[\"Tenant Preferred\"].unique()"
   ]
  },
  {
   "cell_type": "code",
   "execution_count": 45,
   "id": "a64695d7",
   "metadata": {
    "execution": {
     "iopub.execute_input": "2022-11-11T19:41:47.521357Z",
     "iopub.status.busy": "2022-11-11T19:41:47.519789Z",
     "iopub.status.idle": "2022-11-11T19:41:47.529240Z",
     "shell.execute_reply": "2022-11-11T19:41:47.528346Z"
    },
    "papermill": {
     "duration": 0.042348,
     "end_time": "2022-11-11T19:41:47.532095",
     "exception": false,
     "start_time": "2022-11-11T19:41:47.489747",
     "status": "completed"
    },
    "tags": []
   },
   "outputs": [
    {
     "data": {
      "text/plain": [
       "array(['Contact Owner', 'Contact Agent', 'Contact Builder'], dtype=object)"
      ]
     },
     "execution_count": 45,
     "metadata": {},
     "output_type": "execute_result"
    }
   ],
   "source": [
    "df[\"Point of Contact\"].unique()"
   ]
  },
  {
   "cell_type": "markdown",
   "id": "624f323b",
   "metadata": {
    "papermill": {
     "duration": 0.026915,
     "end_time": "2022-11-11T19:41:47.587351",
     "exception": false,
     "start_time": "2022-11-11T19:41:47.560436",
     "status": "completed"
    },
    "tags": []
   },
   "source": [
    "*** We have 3 values in the \"Point of Contact\" column. From now on 'Contact Owner' =0, Contact Agent= 1, Contact Builder =2.***"
   ]
  },
  {
   "cell_type": "code",
   "execution_count": 46,
   "id": "e11cdfda",
   "metadata": {
    "execution": {
     "iopub.execute_input": "2022-11-11T19:41:47.642736Z",
     "iopub.status.busy": "2022-11-11T19:41:47.641965Z",
     "iopub.status.idle": "2022-11-11T19:41:47.651905Z",
     "shell.execute_reply": "2022-11-11T19:41:47.650710Z"
    },
    "papermill": {
     "duration": 0.040313,
     "end_time": "2022-11-11T19:41:47.654495",
     "exception": false,
     "start_time": "2022-11-11T19:41:47.614182",
     "status": "completed"
    },
    "tags": []
   },
   "outputs": [
    {
     "data": {
      "text/plain": [
       "array([2, 0, 1])"
      ]
     },
     "execution_count": 46,
     "metadata": {},
     "output_type": "execute_result"
    }
   ],
   "source": [
    "label_encoder = preprocessing.LabelEncoder()\n",
    "  \n",
    "# Encode labels in column \"Area Type\".\n",
    "df[\"Point of Contact\"]= label_encoder.fit_transform(df[\"Point of Contact\"])\n",
    "  \n",
    "df[\"Point of Contact\"].unique()"
   ]
  },
  {
   "cell_type": "code",
   "execution_count": 47,
   "id": "985d99de",
   "metadata": {
    "execution": {
     "iopub.execute_input": "2022-11-11T19:41:47.709577Z",
     "iopub.status.busy": "2022-11-11T19:41:47.708407Z",
     "iopub.status.idle": "2022-11-11T19:41:47.724296Z",
     "shell.execute_reply": "2022-11-11T19:41:47.723063Z"
    },
    "papermill": {
     "duration": 0.045645,
     "end_time": "2022-11-11T19:41:47.726524",
     "exception": false,
     "start_time": "2022-11-11T19:41:47.680879",
     "status": "completed"
    },
    "tags": []
   },
   "outputs": [
    {
     "data": {
      "text/html": [
       "<div>\n",
       "<style scoped>\n",
       "    .dataframe tbody tr th:only-of-type {\n",
       "        vertical-align: middle;\n",
       "    }\n",
       "\n",
       "    .dataframe tbody tr th {\n",
       "        vertical-align: top;\n",
       "    }\n",
       "\n",
       "    .dataframe thead th {\n",
       "        text-align: right;\n",
       "    }\n",
       "</style>\n",
       "<table border=\"1\" class=\"dataframe\">\n",
       "  <thead>\n",
       "    <tr style=\"text-align: right;\">\n",
       "      <th></th>\n",
       "      <th>BHK</th>\n",
       "      <th>Rent</th>\n",
       "      <th>Size</th>\n",
       "      <th>Area Type</th>\n",
       "      <th>City</th>\n",
       "      <th>Furnishing Status</th>\n",
       "      <th>Tenant Preferred</th>\n",
       "      <th>Bathroom</th>\n",
       "      <th>Point of Contact</th>\n",
       "      <th>Floor Number</th>\n",
       "      <th>Total Floor</th>\n",
       "    </tr>\n",
       "  </thead>\n",
       "  <tbody>\n",
       "    <tr>\n",
       "      <th>0</th>\n",
       "      <td>2</td>\n",
       "      <td>10000</td>\n",
       "      <td>1100</td>\n",
       "      <td>2</td>\n",
       "      <td>Kolkata</td>\n",
       "      <td>2</td>\n",
       "      <td>1</td>\n",
       "      <td>2</td>\n",
       "      <td>2</td>\n",
       "      <td>0</td>\n",
       "      <td>2</td>\n",
       "    </tr>\n",
       "    <tr>\n",
       "      <th>1</th>\n",
       "      <td>2</td>\n",
       "      <td>20000</td>\n",
       "      <td>800</td>\n",
       "      <td>2</td>\n",
       "      <td>Kolkata</td>\n",
       "      <td>1</td>\n",
       "      <td>1</td>\n",
       "      <td>1</td>\n",
       "      <td>2</td>\n",
       "      <td>1</td>\n",
       "      <td>3</td>\n",
       "    </tr>\n",
       "    <tr>\n",
       "      <th>2</th>\n",
       "      <td>2</td>\n",
       "      <td>17000</td>\n",
       "      <td>1000</td>\n",
       "      <td>2</td>\n",
       "      <td>Kolkata</td>\n",
       "      <td>1</td>\n",
       "      <td>1</td>\n",
       "      <td>1</td>\n",
       "      <td>2</td>\n",
       "      <td>1</td>\n",
       "      <td>3</td>\n",
       "    </tr>\n",
       "    <tr>\n",
       "      <th>3</th>\n",
       "      <td>2</td>\n",
       "      <td>10000</td>\n",
       "      <td>800</td>\n",
       "      <td>2</td>\n",
       "      <td>Kolkata</td>\n",
       "      <td>2</td>\n",
       "      <td>1</td>\n",
       "      <td>1</td>\n",
       "      <td>2</td>\n",
       "      <td>1</td>\n",
       "      <td>2</td>\n",
       "    </tr>\n",
       "    <tr>\n",
       "      <th>4</th>\n",
       "      <td>2</td>\n",
       "      <td>7500</td>\n",
       "      <td>850</td>\n",
       "      <td>1</td>\n",
       "      <td>Kolkata</td>\n",
       "      <td>2</td>\n",
       "      <td>0</td>\n",
       "      <td>1</td>\n",
       "      <td>2</td>\n",
       "      <td>1</td>\n",
       "      <td>2</td>\n",
       "    </tr>\n",
       "  </tbody>\n",
       "</table>\n",
       "</div>"
      ],
      "text/plain": [
       "   BHK   Rent  Size  Area Type     City  Furnishing Status  Tenant Preferred  \\\n",
       "0    2  10000  1100          2  Kolkata                  2                 1   \n",
       "1    2  20000   800          2  Kolkata                  1                 1   \n",
       "2    2  17000  1000          2  Kolkata                  1                 1   \n",
       "3    2  10000   800          2  Kolkata                  2                 1   \n",
       "4    2   7500   850          1  Kolkata                  2                 0   \n",
       "\n",
       "   Bathroom  Point of Contact Floor Number Total Floor  \n",
       "0         2                 2            0           2  \n",
       "1         1                 2            1           3  \n",
       "2         1                 2            1           3  \n",
       "3         1                 2            1           2  \n",
       "4         1                 2            1           2  "
      ]
     },
     "execution_count": 47,
     "metadata": {},
     "output_type": "execute_result"
    }
   ],
   "source": [
    "df.head()"
   ]
  },
  {
   "cell_type": "code",
   "execution_count": 48,
   "id": "71b2d28c",
   "metadata": {
    "execution": {
     "iopub.execute_input": "2022-11-11T19:41:47.782433Z",
     "iopub.status.busy": "2022-11-11T19:41:47.781745Z",
     "iopub.status.idle": "2022-11-11T19:41:47.789962Z",
     "shell.execute_reply": "2022-11-11T19:41:47.788985Z"
    },
    "papermill": {
     "duration": 0.039232,
     "end_time": "2022-11-11T19:41:47.792179",
     "exception": false,
     "start_time": "2022-11-11T19:41:47.752947",
     "status": "completed"
    },
    "tags": []
   },
   "outputs": [
    {
     "data": {
      "text/plain": [
       "array(['Kolkata', 'Mumbai', 'Bangalore', 'Delhi', 'Chennai', 'Hyderabad'],\n",
       "      dtype=object)"
      ]
     },
     "execution_count": 48,
     "metadata": {},
     "output_type": "execute_result"
    }
   ],
   "source": [
    "df[\"City\"].unique()"
   ]
  },
  {
   "cell_type": "code",
   "execution_count": 49,
   "id": "80c215dd",
   "metadata": {
    "execution": {
     "iopub.execute_input": "2022-11-11T19:41:47.848044Z",
     "iopub.status.busy": "2022-11-11T19:41:47.847336Z",
     "iopub.status.idle": "2022-11-11T19:41:48.023698Z",
     "shell.execute_reply": "2022-11-11T19:41:48.022418Z"
    },
    "papermill": {
     "duration": 0.207513,
     "end_time": "2022-11-11T19:41:48.026359",
     "exception": false,
     "start_time": "2022-11-11T19:41:47.818846",
     "status": "completed"
    },
    "tags": []
   },
   "outputs": [
    {
     "data": {
      "text/plain": [
       "<AxesSubplot:xlabel='City'>"
      ]
     },
     "execution_count": 49,
     "metadata": {},
     "output_type": "execute_result"
    },
    {
     "data": {
      "image/png": "[encoded data removed]",
      "text/plain": [
       "<Figure size 432x288 with 1 Axes>"
      ]
     },
     "metadata": {
      "needs_background": "light"
     },
     "output_type": "display_data"
    }
   ],
   "source": [
    "df.groupby(\"City\")['Rent'].median().sort_values(ascending=False).plot(kind='bar')"
   ]
  },
  {
   "cell_type": "markdown",
   "id": "70e1d770",
   "metadata": {
    "papermill": {
     "duration": 0.02812,
     "end_time": "2022-11-11T19:41:48.081830",
     "exception": false,
     "start_time": "2022-11-11T19:41:48.053710",
     "status": "completed"
    },
    "tags": []
   },
   "source": [
    "***# We have 6 cities in the \"City\" column. From now on 'Kolkata':0,'Mumbai':1,'Bangalore':2,'Delhi':3,'Chennai':4,'Hyderabad':5.***"
   ]
  },
  {
   "cell_type": "code",
   "execution_count": 50,
   "id": "878edff3",
   "metadata": {
    "execution": {
     "iopub.execute_input": "2022-11-11T19:41:48.140646Z",
     "iopub.status.busy": "2022-11-11T19:41:48.140221Z",
     "iopub.status.idle": "2022-11-11T19:41:48.149663Z",
     "shell.execute_reply": "2022-11-11T19:41:48.148647Z"
    },
    "papermill": {
     "duration": 0.041812,
     "end_time": "2022-11-11T19:41:48.151993",
     "exception": false,
     "start_time": "2022-11-11T19:41:48.110181",
     "status": "completed"
    },
    "tags": []
   },
   "outputs": [
    {
     "data": {
      "text/plain": [
       "array([4, 5, 0, 2, 1, 3])"
      ]
     },
     "execution_count": 50,
     "metadata": {},
     "output_type": "execute_result"
    }
   ],
   "source": [
    "label_encoder = preprocessing.LabelEncoder()\n",
    "  \n",
    "# Encode labels in column \"Area Type\".\n",
    "df['City']= label_encoder.fit_transform(df['City'])\n",
    "  \n",
    "df['City'].unique()"
   ]
  },
  {
   "cell_type": "code",
   "execution_count": 51,
   "id": "82f04402",
   "metadata": {
    "execution": {
     "iopub.execute_input": "2022-11-11T19:41:48.210403Z",
     "iopub.status.busy": "2022-11-11T19:41:48.209639Z",
     "iopub.status.idle": "2022-11-11T19:41:48.226597Z",
     "shell.execute_reply": "2022-11-11T19:41:48.225415Z"
    },
    "papermill": {
     "duration": 0.049361,
     "end_time": "2022-11-11T19:41:48.229217",
     "exception": false,
     "start_time": "2022-11-11T19:41:48.179856",
     "status": "completed"
    },
    "tags": []
   },
   "outputs": [
    {
     "data": {
      "text/html": [
       "<div>\n",
       "<style scoped>\n",
       "    .dataframe tbody tr th:only-of-type {\n",
       "        vertical-align: middle;\n",
       "    }\n",
       "\n",
       "    .dataframe tbody tr th {\n",
       "        vertical-align: top;\n",
       "    }\n",
       "\n",
       "    .dataframe thead th {\n",
       "        text-align: right;\n",
       "    }\n",
       "</style>\n",
       "<table border=\"1\" class=\"dataframe\">\n",
       "  <thead>\n",
       "    <tr style=\"text-align: right;\">\n",
       "      <th></th>\n",
       "      <th>BHK</th>\n",
       "      <th>Rent</th>\n",
       "      <th>Size</th>\n",
       "      <th>Area Type</th>\n",
       "      <th>City</th>\n",
       "      <th>Furnishing Status</th>\n",
       "      <th>Tenant Preferred</th>\n",
       "      <th>Bathroom</th>\n",
       "      <th>Point of Contact</th>\n",
       "      <th>Floor Number</th>\n",
       "      <th>Total Floor</th>\n",
       "    </tr>\n",
       "  </thead>\n",
       "  <tbody>\n",
       "    <tr>\n",
       "      <th>0</th>\n",
       "      <td>2</td>\n",
       "      <td>10000</td>\n",
       "      <td>1100</td>\n",
       "      <td>2</td>\n",
       "      <td>4</td>\n",
       "      <td>2</td>\n",
       "      <td>1</td>\n",
       "      <td>2</td>\n",
       "      <td>2</td>\n",
       "      <td>0</td>\n",
       "      <td>2</td>\n",
       "    </tr>\n",
       "    <tr>\n",
       "      <th>1</th>\n",
       "      <td>2</td>\n",
       "      <td>20000</td>\n",
       "      <td>800</td>\n",
       "      <td>2</td>\n",
       "      <td>4</td>\n",
       "      <td>1</td>\n",
       "      <td>1</td>\n",
       "      <td>1</td>\n",
       "      <td>2</td>\n",
       "      <td>1</td>\n",
       "      <td>3</td>\n",
       "    </tr>\n",
       "    <tr>\n",
       "      <th>2</th>\n",
       "      <td>2</td>\n",
       "      <td>17000</td>\n",
       "      <td>1000</td>\n",
       "      <td>2</td>\n",
       "      <td>4</td>\n",
       "      <td>1</td>\n",
       "      <td>1</td>\n",
       "      <td>1</td>\n",
       "      <td>2</td>\n",
       "      <td>1</td>\n",
       "      <td>3</td>\n",
       "    </tr>\n",
       "    <tr>\n",
       "      <th>3</th>\n",
       "      <td>2</td>\n",
       "      <td>10000</td>\n",
       "      <td>800</td>\n",
       "      <td>2</td>\n",
       "      <td>4</td>\n",
       "      <td>2</td>\n",
       "      <td>1</td>\n",
       "      <td>1</td>\n",
       "      <td>2</td>\n",
       "      <td>1</td>\n",
       "      <td>2</td>\n",
       "    </tr>\n",
       "    <tr>\n",
       "      <th>4</th>\n",
       "      <td>2</td>\n",
       "      <td>7500</td>\n",
       "      <td>850</td>\n",
       "      <td>1</td>\n",
       "      <td>4</td>\n",
       "      <td>2</td>\n",
       "      <td>0</td>\n",
       "      <td>1</td>\n",
       "      <td>2</td>\n",
       "      <td>1</td>\n",
       "      <td>2</td>\n",
       "    </tr>\n",
       "    <tr>\n",
       "      <th>5</th>\n",
       "      <td>2</td>\n",
       "      <td>7000</td>\n",
       "      <td>600</td>\n",
       "      <td>2</td>\n",
       "      <td>4</td>\n",
       "      <td>2</td>\n",
       "      <td>1</td>\n",
       "      <td>2</td>\n",
       "      <td>2</td>\n",
       "      <td>0</td>\n",
       "      <td>1</td>\n",
       "    </tr>\n",
       "    <tr>\n",
       "      <th>6</th>\n",
       "      <td>2</td>\n",
       "      <td>10000</td>\n",
       "      <td>700</td>\n",
       "      <td>2</td>\n",
       "      <td>4</td>\n",
       "      <td>2</td>\n",
       "      <td>0</td>\n",
       "      <td>2</td>\n",
       "      <td>0</td>\n",
       "      <td>0</td>\n",
       "      <td>4</td>\n",
       "    </tr>\n",
       "    <tr>\n",
       "      <th>7</th>\n",
       "      <td>1</td>\n",
       "      <td>5000</td>\n",
       "      <td>250</td>\n",
       "      <td>2</td>\n",
       "      <td>4</td>\n",
       "      <td>2</td>\n",
       "      <td>0</td>\n",
       "      <td>1</td>\n",
       "      <td>0</td>\n",
       "      <td>1</td>\n",
       "      <td>2</td>\n",
       "    </tr>\n",
       "    <tr>\n",
       "      <th>8</th>\n",
       "      <td>2</td>\n",
       "      <td>26000</td>\n",
       "      <td>800</td>\n",
       "      <td>1</td>\n",
       "      <td>4</td>\n",
       "      <td>2</td>\n",
       "      <td>0</td>\n",
       "      <td>2</td>\n",
       "      <td>0</td>\n",
       "      <td>1</td>\n",
       "      <td>2</td>\n",
       "    </tr>\n",
       "    <tr>\n",
       "      <th>9</th>\n",
       "      <td>2</td>\n",
       "      <td>10000</td>\n",
       "      <td>1000</td>\n",
       "      <td>1</td>\n",
       "      <td>4</td>\n",
       "      <td>1</td>\n",
       "      <td>1</td>\n",
       "      <td>2</td>\n",
       "      <td>2</td>\n",
       "      <td>1</td>\n",
       "      <td>3</td>\n",
       "    </tr>\n",
       "    <tr>\n",
       "      <th>10</th>\n",
       "      <td>3</td>\n",
       "      <td>25000</td>\n",
       "      <td>1200</td>\n",
       "      <td>1</td>\n",
       "      <td>4</td>\n",
       "      <td>1</td>\n",
       "      <td>1</td>\n",
       "      <td>2</td>\n",
       "      <td>0</td>\n",
       "      <td>1</td>\n",
       "      <td>4</td>\n",
       "    </tr>\n",
       "    <tr>\n",
       "      <th>11</th>\n",
       "      <td>1</td>\n",
       "      <td>5000</td>\n",
       "      <td>400</td>\n",
       "      <td>1</td>\n",
       "      <td>4</td>\n",
       "      <td>2</td>\n",
       "      <td>1</td>\n",
       "      <td>1</td>\n",
       "      <td>0</td>\n",
       "      <td>1</td>\n",
       "      <td>1</td>\n",
       "    </tr>\n",
       "    <tr>\n",
       "      <th>12</th>\n",
       "      <td>1</td>\n",
       "      <td>6500</td>\n",
       "      <td>250</td>\n",
       "      <td>1</td>\n",
       "      <td>4</td>\n",
       "      <td>0</td>\n",
       "      <td>0</td>\n",
       "      <td>1</td>\n",
       "      <td>2</td>\n",
       "      <td>1</td>\n",
       "      <td>4</td>\n",
       "    </tr>\n",
       "    <tr>\n",
       "      <th>13</th>\n",
       "      <td>1</td>\n",
       "      <td>5500</td>\n",
       "      <td>375</td>\n",
       "      <td>1</td>\n",
       "      <td>4</td>\n",
       "      <td>2</td>\n",
       "      <td>1</td>\n",
       "      <td>1</td>\n",
       "      <td>0</td>\n",
       "      <td>1</td>\n",
       "      <td>2</td>\n",
       "    </tr>\n",
       "    <tr>\n",
       "      <th>14</th>\n",
       "      <td>3</td>\n",
       "      <td>8500</td>\n",
       "      <td>900</td>\n",
       "      <td>1</td>\n",
       "      <td>4</td>\n",
       "      <td>2</td>\n",
       "      <td>0</td>\n",
       "      <td>2</td>\n",
       "      <td>2</td>\n",
       "      <td>0</td>\n",
       "      <td>2</td>\n",
       "    </tr>\n",
       "    <tr>\n",
       "      <th>15</th>\n",
       "      <td>3</td>\n",
       "      <td>40000</td>\n",
       "      <td>1286</td>\n",
       "      <td>1</td>\n",
       "      <td>4</td>\n",
       "      <td>0</td>\n",
       "      <td>1</td>\n",
       "      <td>2</td>\n",
       "      <td>2</td>\n",
       "      <td>1</td>\n",
       "      <td>1</td>\n",
       "    </tr>\n",
       "    <tr>\n",
       "      <th>16</th>\n",
       "      <td>2</td>\n",
       "      <td>6000</td>\n",
       "      <td>600</td>\n",
       "      <td>2</td>\n",
       "      <td>4</td>\n",
       "      <td>1</td>\n",
       "      <td>1</td>\n",
       "      <td>1</td>\n",
       "      <td>2</td>\n",
       "      <td>1</td>\n",
       "      <td>2</td>\n",
       "    </tr>\n",
       "    <tr>\n",
       "      <th>17</th>\n",
       "      <td>2</td>\n",
       "      <td>10000</td>\n",
       "      <td>800</td>\n",
       "      <td>2</td>\n",
       "      <td>4</td>\n",
       "      <td>2</td>\n",
       "      <td>1</td>\n",
       "      <td>1</td>\n",
       "      <td>2</td>\n",
       "      <td>0</td>\n",
       "      <td>2</td>\n",
       "    </tr>\n",
       "    <tr>\n",
       "      <th>18</th>\n",
       "      <td>2</td>\n",
       "      <td>11000</td>\n",
       "      <td>2000</td>\n",
       "      <td>1</td>\n",
       "      <td>4</td>\n",
       "      <td>2</td>\n",
       "      <td>1</td>\n",
       "      <td>1</td>\n",
       "      <td>2</td>\n",
       "      <td>0</td>\n",
       "      <td>3</td>\n",
       "    </tr>\n",
       "    <tr>\n",
       "      <th>19</th>\n",
       "      <td>2</td>\n",
       "      <td>6000</td>\n",
       "      <td>660</td>\n",
       "      <td>2</td>\n",
       "      <td>4</td>\n",
       "      <td>2</td>\n",
       "      <td>1</td>\n",
       "      <td>1</td>\n",
       "      <td>2</td>\n",
       "      <td>1</td>\n",
       "      <td>2</td>\n",
       "    </tr>\n",
       "  </tbody>\n",
       "</table>\n",
       "</div>"
      ],
      "text/plain": [
       "    BHK   Rent  Size  Area Type  City  Furnishing Status  Tenant Preferred  \\\n",
       "0     2  10000  1100          2     4                  2                 1   \n",
       "1     2  20000   800          2     4                  1                 1   \n",
       "2     2  17000  1000          2     4                  1                 1   \n",
       "3     2  10000   800          2     4                  2                 1   \n",
       "4     2   7500   850          1     4                  2                 0   \n",
       "5     2   7000   600          2     4                  2                 1   \n",
       "6     2  10000   700          2     4                  2                 0   \n",
       "7     1   5000   250          2     4                  2                 0   \n",
       "8     2  26000   800          1     4                  2                 0   \n",
       "9     2  10000  1000          1     4                  1                 1   \n",
       "10    3  25000  1200          1     4                  1                 1   \n",
       "11    1   5000   400          1     4                  2                 1   \n",
       "12    1   6500   250          1     4                  0                 0   \n",
       "13    1   5500   375          1     4                  2                 1   \n",
       "14    3   8500   900          1     4                  2                 0   \n",
       "15    3  40000  1286          1     4                  0                 1   \n",
       "16    2   6000   600          2     4                  1                 1   \n",
       "17    2  10000   800          2     4                  2                 1   \n",
       "18    2  11000  2000          1     4                  2                 1   \n",
       "19    2   6000   660          2     4                  2                 1   \n",
       "\n",
       "    Bathroom  Point of Contact Floor Number Total Floor  \n",
       "0          2                 2            0           2  \n",
       "1          1                 2            1           3  \n",
       "2          1                 2            1           3  \n",
       "3          1                 2            1           2  \n",
       "4          1                 2            1           2  \n",
       "5          2                 2            0           1  \n",
       "6          2                 0            0           4  \n",
       "7          1                 0            1           2  \n",
       "8          2                 0            1           2  \n",
       "9          2                 2            1           3  \n",
       "10         2                 0            1           4  \n",
       "11         1                 0            1           1  \n",
       "12         1                 2            1           4  \n",
       "13         1                 0            1           2  \n",
       "14         2                 2            0           2  \n",
       "15         2                 2            1           1  \n",
       "16         1                 2            1           2  \n",
       "17         1                 2            0           2  \n",
       "18         1                 2            0           3  \n",
       "19         1                 2            1           2  "
      ]
     },
     "execution_count": 51,
     "metadata": {},
     "output_type": "execute_result"
    }
   ],
   "source": [
    "df.head(20)"
   ]
  },
  {
   "cell_type": "markdown",
   "id": "544171b9",
   "metadata": {
    "papermill": {
     "duration": 0.028319,
     "end_time": "2022-11-11T19:41:48.285485",
     "exception": false,
     "start_time": "2022-11-11T19:41:48.257166",
     "status": "completed"
    },
    "tags": []
   },
   "source": [
    "***Our rent value and Size of the houses are so high, it is better to use minmax_scale to change these values from 0 to 1.***"
   ]
  },
  {
   "cell_type": "code",
   "execution_count": 52,
   "id": "afa44eaf",
   "metadata": {
    "execution": {
     "iopub.execute_input": "2022-11-11T19:41:48.343305Z",
     "iopub.status.busy": "2022-11-11T19:41:48.342883Z",
     "iopub.status.idle": "2022-11-11T19:41:48.349773Z",
     "shell.execute_reply": "2022-11-11T19:41:48.348729Z"
    },
    "papermill": {
     "duration": 0.038584,
     "end_time": "2022-11-11T19:41:48.352004",
     "exception": false,
     "start_time": "2022-11-11T19:41:48.313420",
     "status": "completed"
    },
    "tags": []
   },
   "outputs": [],
   "source": [
    "#min-max scale\n",
    "from sklearn.preprocessing import minmax_scale\n",
    "\n",
    "df[\"Rent\"] = minmax_scale(df[\"Rent\"])"
   ]
  },
  {
   "cell_type": "code",
   "execution_count": 53,
   "id": "83fb9cae",
   "metadata": {
    "execution": {
     "iopub.execute_input": "2022-11-11T19:41:48.410185Z",
     "iopub.status.busy": "2022-11-11T19:41:48.409319Z",
     "iopub.status.idle": "2022-11-11T19:41:48.417096Z",
     "shell.execute_reply": "2022-11-11T19:41:48.415859Z"
    },
    "papermill": {
     "duration": 0.039347,
     "end_time": "2022-11-11T19:41:48.419501",
     "exception": false,
     "start_time": "2022-11-11T19:41:48.380154",
     "status": "completed"
    },
    "tags": []
   },
   "outputs": [
    {
     "name": "stdout",
     "output_type": "stream",
     "text": [
      "0       0.002515\n",
      "1       0.005373\n",
      "2       0.004516\n",
      "3       0.002515\n",
      "4       0.001801\n",
      "          ...   \n",
      "4741    0.003944\n",
      "4742    0.007946\n",
      "4743    0.009660\n",
      "4744    0.012519\n",
      "4745    0.003944\n",
      "Name: Rent, Length: 4746, dtype: float64\n"
     ]
    }
   ],
   "source": [
    "print(df[\"Rent\"])"
   ]
  },
  {
   "cell_type": "code",
   "execution_count": 54,
   "id": "b93e6e0d",
   "metadata": {
    "execution": {
     "iopub.execute_input": "2022-11-11T19:41:48.477760Z",
     "iopub.status.busy": "2022-11-11T19:41:48.477344Z",
     "iopub.status.idle": "2022-11-11T19:41:48.483555Z",
     "shell.execute_reply": "2022-11-11T19:41:48.482448Z"
    },
    "papermill": {
     "duration": 0.037886,
     "end_time": "2022-11-11T19:41:48.485729",
     "exception": false,
     "start_time": "2022-11-11T19:41:48.447843",
     "status": "completed"
    },
    "tags": []
   },
   "outputs": [],
   "source": [
    "from sklearn.preprocessing import minmax_scale\n",
    "\n",
    "df[\"Size\"] = minmax_scale(df[\"Size\"])"
   ]
  },
  {
   "cell_type": "code",
   "execution_count": 55,
   "id": "99788398",
   "metadata": {
    "execution": {
     "iopub.execute_input": "2022-11-11T19:41:48.544495Z",
     "iopub.status.busy": "2022-11-11T19:41:48.543378Z",
     "iopub.status.idle": "2022-11-11T19:41:48.559711Z",
     "shell.execute_reply": "2022-11-11T19:41:48.558581Z"
    },
    "papermill": {
     "duration": 0.048644,
     "end_time": "2022-11-11T19:41:48.562299",
     "exception": false,
     "start_time": "2022-11-11T19:41:48.513655",
     "status": "completed"
    },
    "tags": []
   },
   "outputs": [
    {
     "data": {
      "text/html": [
       "<div>\n",
       "<style scoped>\n",
       "    .dataframe tbody tr th:only-of-type {\n",
       "        vertical-align: middle;\n",
       "    }\n",
       "\n",
       "    .dataframe tbody tr th {\n",
       "        vertical-align: top;\n",
       "    }\n",
       "\n",
       "    .dataframe thead th {\n",
       "        text-align: right;\n",
       "    }\n",
       "</style>\n",
       "<table border=\"1\" class=\"dataframe\">\n",
       "  <thead>\n",
       "    <tr style=\"text-align: right;\">\n",
       "      <th></th>\n",
       "      <th>BHK</th>\n",
       "      <th>Rent</th>\n",
       "      <th>Size</th>\n",
       "      <th>Area Type</th>\n",
       "      <th>City</th>\n",
       "      <th>Furnishing Status</th>\n",
       "      <th>Tenant Preferred</th>\n",
       "      <th>Bathroom</th>\n",
       "      <th>Point of Contact</th>\n",
       "      <th>Floor Number</th>\n",
       "      <th>Total Floor</th>\n",
       "    </tr>\n",
       "  </thead>\n",
       "  <tbody>\n",
       "    <tr>\n",
       "      <th>0</th>\n",
       "      <td>2</td>\n",
       "      <td>0.002515</td>\n",
       "      <td>0.136421</td>\n",
       "      <td>2</td>\n",
       "      <td>4</td>\n",
       "      <td>2</td>\n",
       "      <td>1</td>\n",
       "      <td>2</td>\n",
       "      <td>2</td>\n",
       "      <td>0</td>\n",
       "      <td>2</td>\n",
       "    </tr>\n",
       "    <tr>\n",
       "      <th>1</th>\n",
       "      <td>2</td>\n",
       "      <td>0.005373</td>\n",
       "      <td>0.098874</td>\n",
       "      <td>2</td>\n",
       "      <td>4</td>\n",
       "      <td>1</td>\n",
       "      <td>1</td>\n",
       "      <td>1</td>\n",
       "      <td>2</td>\n",
       "      <td>1</td>\n",
       "      <td>3</td>\n",
       "    </tr>\n",
       "    <tr>\n",
       "      <th>2</th>\n",
       "      <td>2</td>\n",
       "      <td>0.004516</td>\n",
       "      <td>0.123905</td>\n",
       "      <td>2</td>\n",
       "      <td>4</td>\n",
       "      <td>1</td>\n",
       "      <td>1</td>\n",
       "      <td>1</td>\n",
       "      <td>2</td>\n",
       "      <td>1</td>\n",
       "      <td>3</td>\n",
       "    </tr>\n",
       "    <tr>\n",
       "      <th>3</th>\n",
       "      <td>2</td>\n",
       "      <td>0.002515</td>\n",
       "      <td>0.098874</td>\n",
       "      <td>2</td>\n",
       "      <td>4</td>\n",
       "      <td>2</td>\n",
       "      <td>1</td>\n",
       "      <td>1</td>\n",
       "      <td>2</td>\n",
       "      <td>1</td>\n",
       "      <td>2</td>\n",
       "    </tr>\n",
       "    <tr>\n",
       "      <th>4</th>\n",
       "      <td>2</td>\n",
       "      <td>0.001801</td>\n",
       "      <td>0.105131</td>\n",
       "      <td>1</td>\n",
       "      <td>4</td>\n",
       "      <td>2</td>\n",
       "      <td>0</td>\n",
       "      <td>1</td>\n",
       "      <td>2</td>\n",
       "      <td>1</td>\n",
       "      <td>2</td>\n",
       "    </tr>\n",
       "  </tbody>\n",
       "</table>\n",
       "</div>"
      ],
      "text/plain": [
       "   BHK      Rent      Size  Area Type  City  Furnishing Status  \\\n",
       "0    2  0.002515  0.136421          2     4                  2   \n",
       "1    2  0.005373  0.098874          2     4                  1   \n",
       "2    2  0.004516  0.123905          2     4                  1   \n",
       "3    2  0.002515  0.098874          2     4                  2   \n",
       "4    2  0.001801  0.105131          1     4                  2   \n",
       "\n",
       "   Tenant Preferred  Bathroom  Point of Contact Floor Number Total Floor  \n",
       "0                 1         2                 2            0           2  \n",
       "1                 1         1                 2            1           3  \n",
       "2                 1         1                 2            1           3  \n",
       "3                 1         1                 2            1           2  \n",
       "4                 0         1                 2            1           2  "
      ]
     },
     "execution_count": 55,
     "metadata": {},
     "output_type": "execute_result"
    }
   ],
   "source": [
    "df.head()"
   ]
  },
  {
   "cell_type": "markdown",
   "id": "e9dc6131",
   "metadata": {
    "papermill": {
     "duration": 0.028067,
     "end_time": "2022-11-11T19:41:48.618728",
     "exception": false,
     "start_time": "2022-11-11T19:41:48.590661",
     "status": "completed"
    },
    "tags": []
   },
   "source": [
    "# **ML**"
   ]
  },
  {
   "cell_type": "code",
   "execution_count": 56,
   "id": "83d97902",
   "metadata": {
    "execution": {
     "iopub.execute_input": "2022-11-11T19:41:48.677404Z",
     "iopub.status.busy": "2022-11-11T19:41:48.676550Z",
     "iopub.status.idle": "2022-11-11T19:41:50.237670Z",
     "shell.execute_reply": "2022-11-11T19:41:50.236504Z"
    },
    "papermill": {
     "duration": 1.593626,
     "end_time": "2022-11-11T19:41:50.240490",
     "exception": false,
     "start_time": "2022-11-11T19:41:48.646864",
     "status": "completed"
    },
    "tags": []
   },
   "outputs": [
    {
     "data": {
      "text/html": [
       "<style type='text/css'>\n",
       ".datatable table.frame { margin-bottom: 0; }\n",
       ".datatable table.frame thead { border-bottom: none; }\n",
       ".datatable table.frame tr.coltypes td {  color: #FFFFFF;  line-height: 6px;  padding: 0 0.5em;}\n",
       ".datatable .bool    { background: #DDDD99; }\n",
       ".datatable .object  { background: #565656; }\n",
       ".datatable .int     { background: #5D9E5D; }\n",
       ".datatable .float   { background: #4040CC; }\n",
       ".datatable .str     { background: #CC4040; }\n",
       ".datatable .time    { background: #40CC40; }\n",
       ".datatable .row_index {  background: var(--jp-border-color3);  border-right: 1px solid var(--jp-border-color0);  color: var(--jp-ui-font-color3);  font-size: 9px;}\n",
       ".datatable .frame tbody td { text-align: left; }\n",
       ".datatable .frame tr.coltypes .row_index {  background: var(--jp-border-color0);}\n",
       ".datatable th:nth-child(2) { padding-left: 12px; }\n",
       ".datatable .hellipsis {  color: var(--jp-cell-editor-border-color);}\n",
       ".datatable .vellipsis {  background: var(--jp-layout-color0);  color: var(--jp-cell-editor-border-color);}\n",
       ".datatable .na {  color: var(--jp-cell-editor-border-color);  font-size: 80%;}\n",
       ".datatable .sp {  opacity: 0.25;}\n",
       ".datatable .footer { font-size: 9px; }\n",
       ".datatable .frame_dimensions {  background: var(--jp-border-color3);  border-top: 1px solid var(--jp-border-color0);  color: var(--jp-ui-font-color3);  display: inline-block;  opacity: 0.6;  padding: 1px 10px 1px 5px;}\n",
       "</style>\n"
      ],
      "text/plain": [
       "<IPython.core.display.HTML object>"
      ]
     },
     "metadata": {},
     "output_type": "display_data"
    }
   ],
   "source": [
    "#Data Preprocessing\n",
    "from sklearn.preprocessing import LabelEncoder,StandardScaler\n",
    "from sklearn.model_selection import train_test_split,cross_val_score,KFold\n",
    "#Importing Models\n",
    "from sklearn.linear_model import LinearRegression,Lasso,Ridge,BayesianRidge\n",
    "from sklearn.neighbors import KNeighborsRegressor\n",
    "from sklearn.ensemble import RandomForestRegressor, GradientBoostingRegressor\n",
    "from sklearn.svm import SVR\n",
    "from catboost import CatBoostRegressor\n",
    "from lightgbm import LGBMRegressor\n",
    "from xgboost import XGBRegressor\n",
    "from sklearn.metrics import r2_score,mean_squared_error"
   ]
  },
  {
   "cell_type": "markdown",
   "id": "963817a3",
   "metadata": {
    "papermill": {
     "duration": 0.031423,
     "end_time": "2022-11-11T19:41:50.301729",
     "exception": false,
     "start_time": "2022-11-11T19:41:50.270306",
     "status": "completed"
    },
    "tags": []
   },
   "source": [
    "*** split the dataset back to train and test sets\n",
    "***"
   ]
  },
  {
   "cell_type": "code",
   "execution_count": 57,
   "id": "931452c8",
   "metadata": {
    "execution": {
     "iopub.execute_input": "2022-11-11T19:41:50.360195Z",
     "iopub.status.busy": "2022-11-11T19:41:50.359415Z",
     "iopub.status.idle": "2022-11-11T19:41:50.385421Z",
     "shell.execute_reply": "2022-11-11T19:41:50.384460Z"
    },
    "papermill": {
     "duration": 0.057957,
     "end_time": "2022-11-11T19:41:50.387805",
     "exception": false,
     "start_time": "2022-11-11T19:41:50.329848",
     "status": "completed"
    },
    "tags": []
   },
   "outputs": [],
   "source": [
    "X=df.drop('Rent',axis=1)\n",
    "y=df['Rent']\n",
    "# Train-Test Split\n",
    "X_train,X_test,y_train,y_test=train_test_split(X,y,test_size=0.2,random_state=42)\n",
    "ss=StandardScaler()\n",
    "X_train=ss.fit_transform(X_train)\n",
    "X_test=ss.transform(X_test)"
   ]
  },
  {
   "cell_type": "code",
   "execution_count": 58,
   "id": "012c3808",
   "metadata": {
    "execution": {
     "iopub.execute_input": "2022-11-11T19:41:50.446561Z",
     "iopub.status.busy": "2022-11-11T19:41:50.445752Z",
     "iopub.status.idle": "2022-11-11T19:41:50.456781Z",
     "shell.execute_reply": "2022-11-11T19:41:50.455778Z"
    },
    "papermill": {
     "duration": 0.043677,
     "end_time": "2022-11-11T19:41:50.459526",
     "exception": false,
     "start_time": "2022-11-11T19:41:50.415849",
     "status": "completed"
    },
    "tags": []
   },
   "outputs": [],
   "source": [
    "models = {\n",
    "    'Linear' : LinearRegression(),\n",
    "    'ridge' : Ridge(),\n",
    "    'xgboost' : XGBRegressor(),\n",
    "    'catboost' : CatBoostRegressor(verbose=0),\n",
    "    'lightgbm' : LGBMRegressor(),\n",
    "    'gradient boosting' : GradientBoostingRegressor(),\n",
    "    'lasso' : Lasso(),\n",
    "    'random forest' : RandomForestRegressor(),\n",
    "    'bayesian ridge' : BayesianRidge(),\n",
    "    'support vector': SVR(),\n",
    "    'knn' : KNeighborsRegressor(n_neighbors = 4)\n",
    "}"
   ]
  },
  {
   "cell_type": "markdown",
   "id": "68065c20",
   "metadata": {
    "papermill": {
     "duration": 0.02796,
     "end_time": "2022-11-11T19:41:50.515922",
     "exception": false,
     "start_time": "2022-11-11T19:41:50.487962",
     "status": "completed"
    },
    "tags": []
   },
   "source": [
    "*** Training Different Models\n",
    "***"
   ]
  },
  {
   "cell_type": "code",
   "execution_count": 59,
   "id": "afd3866d",
   "metadata": {
    "execution": {
     "iopub.execute_input": "2022-11-11T19:41:50.574203Z",
     "iopub.status.busy": "2022-11-11T19:41:50.573805Z",
     "iopub.status.idle": "2022-11-11T19:41:54.556982Z",
     "shell.execute_reply": "2022-11-11T19:41:54.553138Z"
    },
    "papermill": {
     "duration": 4.017232,
     "end_time": "2022-11-11T19:41:54.561411",
     "exception": false,
     "start_time": "2022-11-11T19:41:50.544179",
     "status": "completed"
    },
    "tags": []
   },
   "outputs": [
    {
     "name": "stdout",
     "output_type": "stream",
     "text": [
      "Linear trained\n",
      "ridge trained\n",
      "xgboost trained\n",
      "catboost trained\n",
      "lightgbm trained\n",
      "gradient boosting trained\n",
      "lasso trained\n",
      "random forest trained\n",
      "bayesian ridge trained\n",
      "support vector trained\n",
      "knn trained\n"
     ]
    }
   ],
   "source": [
    "for name, model in models.items():\n",
    "    model.fit(X_train, y_train)\n",
    "    print(f'{name} trained')"
   ]
  },
  {
   "cell_type": "markdown",
   "id": "03241235",
   "metadata": {
    "papermill": {
     "duration": 0.02887,
     "end_time": "2022-11-11T19:41:54.687101",
     "exception": false,
     "start_time": "2022-11-11T19:41:54.658231",
     "status": "completed"
    },
    "tags": []
   },
   "source": [
    "*** evulating the model.***"
   ]
  },
  {
   "cell_type": "code",
   "execution_count": 60,
   "id": "5cb80fc4",
   "metadata": {
    "execution": {
     "iopub.execute_input": "2022-11-11T19:41:54.747069Z",
     "iopub.status.busy": "2022-11-11T19:41:54.746616Z",
     "iopub.status.idle": "2022-11-11T19:42:29.635046Z",
     "shell.execute_reply": "2022-11-11T19:42:29.633792Z"
    },
    "papermill": {
     "duration": 34.922048,
     "end_time": "2022-11-11T19:42:29.637928",
     "exception": false,
     "start_time": "2022-11-11T19:41:54.715880",
     "status": "completed"
    },
    "tags": []
   },
   "outputs": [],
   "source": [
    "results = {}\n",
    "kf = KFold(n_splits= 10)\n",
    "\n",
    "for name, model in models.items():\n",
    "    result = np.mean(np.sqrt(-cross_val_score(model, X_train, y_train,scoring='neg_mean_squared_error', cv= kf)))\n",
    "    results[name] = result"
   ]
  },
  {
   "cell_type": "code",
   "execution_count": 61,
   "id": "014fbe6b",
   "metadata": {
    "execution": {
     "iopub.execute_input": "2022-11-11T19:42:29.700977Z",
     "iopub.status.busy": "2022-11-11T19:42:29.700512Z",
     "iopub.status.idle": "2022-11-11T19:42:29.707379Z",
     "shell.execute_reply": "2022-11-11T19:42:29.706104Z"
    },
    "papermill": {
     "duration": 0.041402,
     "end_time": "2022-11-11T19:42:29.709358",
     "exception": false,
     "start_time": "2022-11-11T19:42:29.667956",
     "status": "completed"
    },
    "tags": []
   },
   "outputs": [
    {
     "name": "stdout",
     "output_type": "stream",
     "text": [
      "Linear : 0.016\n",
      "ridge : 0.016\n",
      "xgboost : 0.02\n",
      "catboost : 0.018\n",
      "lightgbm : 0.014\n",
      "gradient boosting : 0.018\n",
      "lasso : 0.02\n",
      "random forest : 0.018\n",
      "bayesian ridge : 0.016\n",
      "support vector : 0.087\n",
      "knn : 0.017\n"
     ]
    }
   ],
   "source": [
    "for name, result in results.items():\n",
    "    print(f\"{name} : {round(result, 3)}\")"
   ]
  },
  {
   "cell_type": "code",
   "execution_count": 62,
   "id": "f34867a8",
   "metadata": {
    "execution": {
     "iopub.execute_input": "2022-11-11T19:42:29.771411Z",
     "iopub.status.busy": "2022-11-11T19:42:29.770268Z",
     "iopub.status.idle": "2022-11-11T19:42:29.790745Z",
     "shell.execute_reply": "2022-11-11T19:42:29.789307Z"
    },
    "papermill": {
     "duration": 0.053812,
     "end_time": "2022-11-11T19:42:29.793619",
     "exception": false,
     "start_time": "2022-11-11T19:42:29.739807",
     "status": "completed"
    },
    "tags": []
   },
   "outputs": [
    {
     "data": {
      "text/html": [
       "<div>\n",
       "<style scoped>\n",
       "    .dataframe tbody tr th:only-of-type {\n",
       "        vertical-align: middle;\n",
       "    }\n",
       "\n",
       "    .dataframe tbody tr th {\n",
       "        vertical-align: top;\n",
       "    }\n",
       "\n",
       "    .dataframe thead th {\n",
       "        text-align: right;\n",
       "    }\n",
       "</style>\n",
       "<table border=\"1\" class=\"dataframe\">\n",
       "  <thead>\n",
       "    <tr style=\"text-align: right;\">\n",
       "      <th></th>\n",
       "      <th>support vector</th>\n",
       "      <th>lasso</th>\n",
       "      <th>xgboost</th>\n",
       "      <th>random forest</th>\n",
       "      <th>gradient boosting</th>\n",
       "      <th>catboost</th>\n",
       "      <th>knn</th>\n",
       "      <th>Linear</th>\n",
       "      <th>ridge</th>\n",
       "      <th>bayesian ridge</th>\n",
       "      <th>lightgbm</th>\n",
       "    </tr>\n",
       "  </thead>\n",
       "  <tbody>\n",
       "    <tr>\n",
       "      <th>RMSE</th>\n",
       "      <td>0.086939</td>\n",
       "      <td>0.020245</td>\n",
       "      <td>0.019549</td>\n",
       "      <td>0.017838</td>\n",
       "      <td>0.017509</td>\n",
       "      <td>0.017506</td>\n",
       "      <td>0.017204</td>\n",
       "      <td>0.016049</td>\n",
       "      <td>0.016048</td>\n",
       "      <td>0.016037</td>\n",
       "      <td>0.014156</td>\n",
       "    </tr>\n",
       "  </tbody>\n",
       "</table>\n",
       "</div>"
      ],
      "text/plain": [
       "      support vector     lasso   xgboost  random forest  gradient boosting  \\\n",
       "RMSE        0.086939  0.020245  0.019549       0.017838           0.017509   \n",
       "\n",
       "      catboost       knn    Linear     ridge  bayesian ridge  lightgbm  \n",
       "RMSE  0.017506  0.017204  0.016049  0.016048        0.016037  0.014156  "
      ]
     },
     "execution_count": 62,
     "metadata": {},
     "output_type": "execute_result"
    }
   ],
   "source": [
    "results_df = pd.DataFrame(results, index=range(0,1)).T.rename(columns={0: 'RMSE'}).sort_values('RMSE', ascending=False)\n",
    "results_df.T"
   ]
  },
  {
   "cell_type": "code",
   "execution_count": 63,
   "id": "90b79d81",
   "metadata": {
    "execution": {
     "iopub.execute_input": "2022-11-11T19:42:29.855143Z",
     "iopub.status.busy": "2022-11-11T19:42:29.854284Z",
     "iopub.status.idle": "2022-11-11T19:42:30.151296Z",
     "shell.execute_reply": "2022-11-11T19:42:30.150280Z"
    },
    "papermill": {
     "duration": 0.330535,
     "end_time": "2022-11-11T19:42:30.153760",
     "exception": false,
     "start_time": "2022-11-11T19:42:29.823225",
     "status": "completed"
    },
    "tags": []
   },
   "outputs": [
    {
     "data": {
      "image/png": "[encoded data removed]",
      "text/plain": [
       "<Figure size 1080x360 with 1 Axes>"
      ]
     },
     "metadata": {
      "needs_background": "light"
     },
     "output_type": "display_data"
    }
   ],
   "source": [
    "plt.figure(figsize = (15, 5))\n",
    "sns.barplot(x= results_df.index, y = results_df['RMSE'], palette = 'winter')\n",
    "plt.ylim(0,0.1)\n",
    "plt.xlabel('Model')\n",
    "plt.ylabel('RMSE')\n",
    "plt.title('RMSE of different models');"
   ]
  },
  {
   "cell_type": "markdown",
   "id": "ff977f13",
   "metadata": {
    "papermill": {
     "duration": 0.030031,
     "end_time": "2022-11-11T19:42:30.213008",
     "exception": false,
     "start_time": "2022-11-11T19:42:30.182977",
     "status": "completed"
    },
    "tags": []
   },
   "source": [
    "***Defining the Method in order to get the r2_score of each Model on Test Data and Based\n",
    "# on that,We will select our Model***"
   ]
  },
  {
   "cell_type": "code",
   "execution_count": 64,
   "id": "15f53945",
   "metadata": {
    "execution": {
     "iopub.execute_input": "2022-11-11T19:42:30.274341Z",
     "iopub.status.busy": "2022-11-11T19:42:30.273681Z",
     "iopub.status.idle": "2022-11-11T19:42:30.279417Z",
     "shell.execute_reply": "2022-11-11T19:42:30.278629Z"
    },
    "papermill": {
     "duration": 0.039393,
     "end_time": "2022-11-11T19:42:30.281571",
     "exception": false,
     "start_time": "2022-11-11T19:42:30.242178",
     "status": "completed"
    },
    "tags": []
   },
   "outputs": [],
   "source": [
    "\n",
    "\n",
    "def prediction(model,X_train,y_train,X_test,y_test):\n",
    "    model.fit(X_train,y_train)\n",
    "    pred_data=np.exp(model.predict(X_test))\n",
    "    return r2_score(np.exp(y_test),pred_data)"
   ]
  },
  {
   "cell_type": "code",
   "execution_count": 65,
   "id": "e5d50ab0",
   "metadata": {
    "execution": {
     "iopub.execute_input": "2022-11-11T19:42:30.347061Z",
     "iopub.status.busy": "2022-11-11T19:42:30.345535Z",
     "iopub.status.idle": "2022-11-11T19:42:35.064275Z",
     "shell.execute_reply": "2022-11-11T19:42:35.062866Z"
    },
    "papermill": {
     "duration": 4.756443,
     "end_time": "2022-11-11T19:42:35.067056",
     "exception": false,
     "start_time": "2022-11-11T19:42:30.310613",
     "status": "completed"
    },
    "tags": []
   },
   "outputs": [
    {
     "name": "stdout",
     "output_type": "stream",
     "text": [
      "Linear r2_score is 0.4389670897310588\n",
      "ridge r2_score is 0.438942860686074\n",
      "xgboost r2_score is 0.4262832828206591\n",
      "catboost r2_score is 0.48083628061488615\n",
      "lightgbm r2_score is 0.6127910816992097\n",
      "gradient boosting r2_score is 0.6037649736071731\n",
      "lasso r2_score is -7.546012042114469e-06\n",
      "random forest r2_score is 0.40574166474500095\n",
      "bayesian ridge r2_score is 0.4373230275672848\n",
      "support vector r2_score is -20.241897522520127\n",
      "knn r2_score is 0.25718859392380766\n"
     ]
    }
   ],
   "source": [
    "for name,model in models.items():\n",
    "    score=prediction(model,X_train,y_train,X_test,y_test)\n",
    "    print(f'{name} r2_score is {score}')"
   ]
  },
  {
   "cell_type": "markdown",
   "id": "208c1f2c",
   "metadata": {
    "papermill": {
     "duration": 0.030658,
     "end_time": "2022-11-11T19:42:35.127521",
     "exception": false,
     "start_time": "2022-11-11T19:42:35.096863",
     "status": "completed"
    },
    "tags": []
   },
   "source": [
    "***#we will try for linear and lightgbm boosting.***#Error of the Predicted Y with the True Y\n"
   ]
  },
  {
   "cell_type": "markdown",
   "id": "ce86ca1b",
   "metadata": {
    "papermill": {
     "duration": 0.029602,
     "end_time": "2022-11-11T19:42:35.188571",
     "exception": false,
     "start_time": "2022-11-11T19:42:35.158969",
     "status": "completed"
    },
    "tags": []
   },
   "source": [
    "*** Error of the Predicted Y with the True Y\n",
    "***"
   ]
  },
  {
   "cell_type": "code",
   "execution_count": 66,
   "id": "7c71a15d",
   "metadata": {
    "execution": {
     "iopub.execute_input": "2022-11-11T19:42:35.250182Z",
     "iopub.status.busy": "2022-11-11T19:42:35.249739Z",
     "iopub.status.idle": "2022-11-11T19:42:35.930635Z",
     "shell.execute_reply": "2022-11-11T19:42:35.929766Z"
    },
    "papermill": {
     "duration": 0.713851,
     "end_time": "2022-11-11T19:42:35.932778",
     "exception": false,
     "start_time": "2022-11-11T19:42:35.218927",
     "status": "completed"
    },
    "tags": []
   },
   "outputs": [
    {
     "data": {
      "image/png": "[encoded data removed]",
      "text/plain": [
       "<Figure size 432x288 with 1 Axes>"
      ]
     },
     "metadata": {
      "needs_background": "light"
     },
     "output_type": "display_data"
    }
   ],
   "source": [
    "model=LinearRegression()\n",
    "model.fit(X_train,y_train)\n",
    "pred_y=np.exp(model.predict(X_test))\n",
    "sns.histplot(np.exp(y_test)-pred_y)\n",
    "plt.xlim(-0.1,0.1)\n",
    "plt.ylim(0,80)\n",
    "plt.show()"
   ]
  },
  {
   "cell_type": "code",
   "execution_count": 67,
   "id": "39e1d2e6",
   "metadata": {
    "execution": {
     "iopub.execute_input": "2022-11-11T19:42:35.996522Z",
     "iopub.status.busy": "2022-11-11T19:42:35.995079Z",
     "iopub.status.idle": "2022-11-11T19:42:37.739440Z",
     "shell.execute_reply": "2022-11-11T19:42:37.738190Z"
    },
    "papermill": {
     "duration": 1.779698,
     "end_time": "2022-11-11T19:42:37.742427",
     "exception": false,
     "start_time": "2022-11-11T19:42:35.962729",
     "status": "completed"
    },
    "tags": []
   },
   "outputs": [
    {
     "data": {
      "image/png": "[encoded data removed]",
      "text/plain": [
       "<Figure size 432x288 with 1 Axes>"
      ]
     },
     "metadata": {
      "needs_background": "light"
     },
     "output_type": "display_data"
    }
   ],
   "source": [
    "model=LGBMRegressor()\n",
    "model.fit(X_train,y_train)\n",
    "pred_y=np.exp(model.predict(X_test))\n",
    "sns.histplot(np.exp(y_test)-pred_y)\n",
    "plt.xlim(-0.1,0.1)\n",
    "plt.ylim(0,80)\n",
    "plt.show()"
   ]
  },
  {
   "cell_type": "markdown",
   "id": "49cdad69",
   "metadata": {
    "papermill": {
     "duration": 0.030894,
     "end_time": "2022-11-11T19:42:37.804055",
     "exception": false,
     "start_time": "2022-11-11T19:42:37.773161",
     "status": "completed"
    },
    "tags": []
   },
   "source": [
    "*** Applying Voting Ensemble on the 3 Models\n",
    "***"
   ]
  },
  {
   "cell_type": "code",
   "execution_count": 68,
   "id": "a40837fb",
   "metadata": {
    "execution": {
     "iopub.execute_input": "2022-11-11T19:42:37.867456Z",
     "iopub.status.busy": "2022-11-11T19:42:37.867039Z",
     "iopub.status.idle": "2022-11-11T19:42:39.897943Z",
     "shell.execute_reply": "2022-11-11T19:42:39.897048Z"
    },
    "papermill": {
     "duration": 2.065129,
     "end_time": "2022-11-11T19:42:39.900267",
     "exception": false,
     "start_time": "2022-11-11T19:42:37.835138",
     "status": "completed"
    },
    "tags": []
   },
   "outputs": [
    {
     "name": "stdout",
     "output_type": "stream",
     "text": [
      "0.58\n"
     ]
    }
   ],
   "source": [
    "from sklearn.ensemble import VotingRegressor\n",
    "estimators=[('lr',LinearRegression()),('lgbm',LGBMRegressor())]\n",
    "vc=VotingRegressor(estimators=estimators)\n",
    "x=cross_val_score(vc,X_train,y_train,cv=10,scoring='r2')\n",
    "print(np.round(np.mean(x),2))"
   ]
  },
  {
   "cell_type": "markdown",
   "id": "602951c1",
   "metadata": {
    "papermill": {
     "duration": 0.030163,
     "end_time": "2022-11-11T19:42:39.974207",
     "exception": false,
     "start_time": "2022-11-11T19:42:39.944044",
     "status": "completed"
    },
    "tags": []
   },
   "source": [
    "*** Fitting the Model\n",
    "***"
   ]
  },
  {
   "cell_type": "code",
   "execution_count": 69,
   "id": "a0900edc",
   "metadata": {
    "execution": {
     "iopub.execute_input": "2022-11-11T19:42:40.037040Z",
     "iopub.status.busy": "2022-11-11T19:42:40.036596Z",
     "iopub.status.idle": "2022-11-11T19:42:40.265983Z",
     "shell.execute_reply": "2022-11-11T19:42:40.265082Z"
    },
    "papermill": {
     "duration": 0.263553,
     "end_time": "2022-11-11T19:42:40.268380",
     "exception": false,
     "start_time": "2022-11-11T19:42:40.004827",
     "status": "completed"
    },
    "tags": []
   },
   "outputs": [
    {
     "data": {
      "text/plain": [
       "VotingRegressor(estimators=[('lr', LinearRegression()),\n",
       "                            ('lgbm', LGBMRegressor())])"
      ]
     },
     "execution_count": 69,
     "metadata": {},
     "output_type": "execute_result"
    }
   ],
   "source": [
    "vc.fit(X_train,y_train)"
   ]
  },
  {
   "cell_type": "code",
   "execution_count": 70,
   "id": "2045cba7",
   "metadata": {
    "execution": {
     "iopub.execute_input": "2022-11-11T19:42:40.332547Z",
     "iopub.status.busy": "2022-11-11T19:42:40.332120Z",
     "iopub.status.idle": "2022-11-11T19:42:40.384343Z",
     "shell.execute_reply": "2022-11-11T19:42:40.383071Z"
    },
    "papermill": {
     "duration": 0.086978,
     "end_time": "2022-11-11T19:42:40.387323",
     "exception": false,
     "start_time": "2022-11-11T19:42:40.300345",
     "status": "completed"
    },
    "tags": []
   },
   "outputs": [
    {
     "name": "stdout",
     "output_type": "stream",
     "text": [
      "0.5998697162939679\n"
     ]
    }
   ],
   "source": [
    "pred_y=vc.predict(X_test)\n",
    "print(r2_score(np.exp(y_test),np.exp(pred_y)))"
   ]
  },
  {
   "cell_type": "markdown",
   "id": "fb2f60b5",
   "metadata": {
    "papermill": {
     "duration": 0.03141,
     "end_time": "2022-11-11T19:42:40.488729",
     "exception": false,
     "start_time": "2022-11-11T19:42:40.457319",
     "status": "completed"
    },
    "tags": []
   },
   "source": [
    "***#only linear reg 0.43. linear reg+lgbm = 0.599=0.6***"
   ]
  },
  {
   "cell_type": "code",
   "execution_count": null,
   "id": "0c0db18a",
   "metadata": {
    "papermill": {
     "duration": 0.030672,
     "end_time": "2022-11-11T19:42:40.550360",
     "exception": false,
     "start_time": "2022-11-11T19:42:40.519688",
     "status": "completed"
    },
    "tags": []
   },
   "outputs": [],
   "source": []
  }
 ],
 "metadata": {
  "kernelspec": {
   "display_name": "Python 3",
   "language": "python",
   "name": "python3"
  },
  "language_info": {
   "codemirror_mode": {
    "name": "ipython",
    "version": 3
   },
   "file_extension": ".py",
   "mimetype": "text/x-python",
   "name": "python",
   "nbconvert_exporter": "python",
   "pygments_lexer": "ipython3",
   "version": "3.7.12"
  },
  "papermill": {
   "default_parameters": {},
   "duration": 81.953977,
   "end_time": "2022-11-11T19:42:41.705863",
   "environment_variables": {},
   "exception": null,
   "input_path": "__notebook__.ipynb",
   "output_path": "__notebook__.ipynb",
   "parameters": {},
   "start_time": "2022-11-11T19:41:19.751886",
   "version": "2.3.4"
  }
 },
 "nbformat": 4,
 "nbformat_minor": 5
}
