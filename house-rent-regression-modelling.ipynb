{
 "cells": [
  {
   "cell_type": "markdown",
   "id": "d0534cd7",
   "metadata": {
    "papermill": {
     "duration": 0.026355,
     "end_time": "2022-11-21T03:00:53.293503",
     "exception": false,
     "start_time": "2022-11-21T03:00:53.267148",
     "status": "completed"
    },
    "tags": []
   },
   "source": [
    "**Nama Anggota:**\n",
    "1. Lisya Apriliani       24060119120016\n",
    "2. Roikhatul Miskiyah    24060119120021\n",
    "3. Kania Zalfa Huwaida   24060119140117"
   ]
  },
  {
   "cell_type": "markdown",
   "id": "f0ac6b40",
   "metadata": {
    "papermill": {
     "duration": 0.022078,
     "end_time": "2022-11-21T03:00:53.338408",
     "exception": false,
     "start_time": "2022-11-21T03:00:53.316330",
     "status": "completed"
    },
    "tags": []
   },
   "source": [
    "# Latar Belakang\n",
    "\n",
    "Perumahan di India bervariasi dari istana-istana bekas maharaja hingga bangunan apartemen modern di kota-kota besar hingga gubuk-gubuk kecil di desa-desa yang jauh. Telah terjadi pertumbuhan luar biasa di sektor perumahan India karena pendapatan telah meningkat. Inisiatif Pengukuran Hak Asasi Manusia menemukan bahwa India melakukan 60,9% dari apa yang seharusnya dimungkinkan pada tingkat pendapatannya untuk hak atas perumahan.\n",
    "\n",
    "Menyewa, juga dikenal sebagai rent, adalah perjanjian di mana pembayaran dilakukan untuk penggunaan sementara barang, jasa, atau properti milik orang lain. Sewa kotor adalah ketika penyewa membayar jumlah sewa tetap dan pemilik membayar semua biaya properti yang secara teratur dikeluarkan oleh kepemilikan. Menyewa bisa menjadi contoh sharing economy.\n",
    "\n",
    "Regresi yang dilakukan terhadap dataset ini dilakukan untuk menentukan model terbaik yang dapat digunakan dalam prediksi harga sewa rumah."
   ]
  },
  {
   "cell_type": "markdown",
   "id": "b531740e",
   "metadata": {
    "papermill": {
     "duration": 0.021391,
     "end_time": "2022-11-21T03:00:53.382235",
     "exception": false,
     "start_time": "2022-11-21T03:00:53.360844",
     "status": "completed"
    },
    "tags": []
   },
   "source": [
    "# Dataset\n",
    "House Rent Prediction dataset merupakan dataset yang memuat informasi mengenai  lebih dari 4700 data rumah, apartemen, dan rumah susun yang tersedia untuk disewakan.Dataset ini terdiri dari beberapa atribut/fitur di antaranya adalah sebagai berikut:\n",
    "1. Posted On: tanggal data masuk.\n",
    "2. BHK: jumlah kamar tidur, aula, dan dapur.\n",
    "3. Rent: harga sewa rumah/apartemen/rumah susun.\n",
    "4. Size: ukuran rumah/apartemen/rumah susun dalam m2.\n",
    "5. Floor: rumah/apartemen/rumah susun terletak di lantai berapa dari total lantai yang ada (contoh: ground dari 2, 3 dari 5, dll.)\n",
    "6. Area Type: ukuran rumah/apartemen/rumah susun dikategorikan menjadi super area or carpet area, atau build area.\n",
    "7. Area Locality: lokalitas rumah/apartemen/rumah susun.\n",
    "8. City: kota dimana rumah/apartemen/rumah susun berada.\n",
    "9. Furnishing Status: status perabotan rumah/apartemen/rumah susun, apakah furnished,semi-furnished, atau unfurnished.\n",
    "10. Tenant Preferred: jenis penyewa apakah didapatkan dari owner, builder, atau agent. \n",
    "11. Bathroom: jumlah kamar mandi.\n",
    "12. Point of Contact: siapa yang harus dihubungi untuk informasi lebih lanjut mengenai rumah/apartemen/rumah susun."
   ]
  },
  {
   "cell_type": "markdown",
   "id": "2c70d225",
   "metadata": {
    "papermill": {
     "duration": 0.021226,
     "end_time": "2022-11-21T03:00:53.425784",
     "exception": false,
     "start_time": "2022-11-21T03:00:53.404558",
     "status": "completed"
    },
    "tags": []
   },
   "source": [
    "# Import dan Load Data"
   ]
  },
  {
   "cell_type": "markdown",
   "id": "d3127299",
   "metadata": {
    "id": "kYvpipmN2CKJ",
    "papermill": {
     "duration": 0.021807,
     "end_time": "2022-11-21T03:00:53.469091",
     "exception": false,
     "start_time": "2022-11-21T03:00:53.447284",
     "status": "completed"
    },
    "tags": []
   },
   "source": [
    "## Import Library yang Diperlukan"
   ]
  },
  {
   "cell_type": "code",
   "execution_count": 1,
   "id": "d66cac2b",
   "metadata": {
    "execution": {
     "iopub.execute_input": "2022-11-21T03:00:53.514639Z",
     "iopub.status.busy": "2022-11-21T03:00:53.514198Z",
     "iopub.status.idle": "2022-11-21T03:00:55.978767Z",
     "shell.execute_reply": "2022-11-21T03:00:55.977408Z"
    },
    "id": "mhyCAm6-tCmu",
    "papermill": {
     "duration": 2.490732,
     "end_time": "2022-11-21T03:00:55.981935",
     "exception": false,
     "start_time": "2022-11-21T03:00:53.491203",
     "status": "completed"
    },
    "tags": []
   },
   "outputs": [
    {
     "data": {
      "text/html": [
       "<style type='text/css'>\n",
       ".datatable table.frame { margin-bottom: 0; }\n",
       ".datatable table.frame thead { border-bottom: none; }\n",
       ".datatable table.frame tr.coltypes td {  color: #FFFFFF;  line-height: 6px;  padding: 0 0.5em;}\n",
       ".datatable .bool    { background: #DDDD99; }\n",
       ".datatable .object  { background: #565656; }\n",
       ".datatable .int     { background: #5D9E5D; }\n",
       ".datatable .float   { background: #4040CC; }\n",
       ".datatable .str     { background: #CC4040; }\n",
       ".datatable .time    { background: #40CC40; }\n",
       ".datatable .row_index {  background: var(--jp-border-color3);  border-right: 1px solid var(--jp-border-color0);  color: var(--jp-ui-font-color3);  font-size: 9px;}\n",
       ".datatable .frame tbody td { text-align: left; }\n",
       ".datatable .frame tr.coltypes .row_index {  background: var(--jp-border-color0);}\n",
       ".datatable th:nth-child(2) { padding-left: 12px; }\n",
       ".datatable .hellipsis {  color: var(--jp-cell-editor-border-color);}\n",
       ".datatable .vellipsis {  background: var(--jp-layout-color0);  color: var(--jp-cell-editor-border-color);}\n",
       ".datatable .na {  color: var(--jp-cell-editor-border-color);  font-size: 80%;}\n",
       ".datatable .sp {  opacity: 0.25;}\n",
       ".datatable .footer { font-size: 9px; }\n",
       ".datatable .frame_dimensions {  background: var(--jp-border-color3);  border-top: 1px solid var(--jp-border-color0);  color: var(--jp-ui-font-color3);  display: inline-block;  opacity: 0.6;  padding: 1px 10px 1px 5px;}\n",
       "</style>\n"
      ],
      "text/plain": [
       "<IPython.core.display.HTML object>"
      ]
     },
     "metadata": {},
     "output_type": "display_data"
    }
   ],
   "source": [
    "import pandas as pd\n",
    "import numpy as np\n",
    "import matplotlib.pyplot as plt\n",
    "import seaborn as sns\n",
    "\n",
    "from sklearn.preprocessing import StandardScaler\n",
    "from sklearn.model_selection import train_test_split,cross_val_score\n",
    "\n",
    "from sklearn import metrics\n",
    "from sklearn.linear_model import LinearRegression\n",
    "from sklearn.tree import DecisionTreeRegressor\n",
    "from sklearn.ensemble import RandomForestRegressor, GradientBoostingRegressor\n",
    "from lightgbm import LGBMRegressor\n",
    "\n",
    "from sklearn.metrics import r2_score, mean_absolute_error, mean_squared_error"
   ]
  },
  {
   "cell_type": "code",
   "execution_count": 2,
   "id": "d59e86b5",
   "metadata": {
    "execution": {
     "iopub.execute_input": "2022-11-21T03:00:56.028380Z",
     "iopub.status.busy": "2022-11-21T03:00:56.027984Z",
     "iopub.status.idle": "2022-11-21T03:00:56.032818Z",
     "shell.execute_reply": "2022-11-21T03:00:56.031602Z"
    },
    "id": "jrBJSlscIMZO",
    "papermill": {
     "duration": 0.030694,
     "end_time": "2022-11-21T03:00:56.035093",
     "exception": false,
     "start_time": "2022-11-21T03:00:56.004399",
     "status": "completed"
    },
    "tags": []
   },
   "outputs": [],
   "source": [
    "import warnings\n",
    "warnings.filterwarnings('ignore')"
   ]
  },
  {
   "cell_type": "markdown",
   "id": "d38fb9c2",
   "metadata": {
    "id": "SjJ7C-yi2R1k",
    "papermill": {
     "duration": 0.021804,
     "end_time": "2022-11-21T03:00:56.079870",
     "exception": false,
     "start_time": "2022-11-21T03:00:56.058066",
     "status": "completed"
    },
    "tags": []
   },
   "source": [
    "## Load Dataset"
   ]
  },
  {
   "cell_type": "code",
   "execution_count": 3,
   "id": "7783eb1f",
   "metadata": {
    "_kg_hide-input": true,
    "execution": {
     "iopub.execute_input": "2022-11-21T03:00:56.126075Z",
     "iopub.status.busy": "2022-11-21T03:00:56.125618Z",
     "iopub.status.idle": "2022-11-21T03:00:56.140718Z",
     "shell.execute_reply": "2022-11-21T03:00:56.139275Z"
    },
    "papermill": {
     "duration": 0.042169,
     "end_time": "2022-11-21T03:00:56.143768",
     "exception": false,
     "start_time": "2022-11-21T03:00:56.101599",
     "status": "completed"
    },
    "tags": []
   },
   "outputs": [
    {
     "name": "stdout",
     "output_type": "stream",
     "text": [
      "/kaggle/input/house-rent-prediction-dataset/Dataset Glossary.txt\n",
      "/kaggle/input/house-rent-prediction-dataset/House_Rent_Dataset.csv\n"
     ]
    }
   ],
   "source": [
    "# # This Python 3 environment comes with many helpful analytics libraries installed\n",
    "# # It is defined by the kaggle/python Docker image: https://github.com/kaggle/docker-python\n",
    "# # For example, here's several helpful packages to load\n",
    "\n",
    "# import numpy as np # linear algebra\n",
    "# import pandas as pd # data processing, CSV file I/O (e.g. pd.read_csv)\n",
    "\n",
    "# Input data files are available in the read-only \"../input/\" directory\n",
    "# For example, running this (by clicking run or pressing Shift+Enter) will list all files under the input directory\n",
    "\n",
    "import os\n",
    "for dirname, _, filenames in os.walk('/kaggle/input'):\n",
    "    for filename in filenames:\n",
    "        print(os.path.join(dirname, filename))\n",
    "\n",
    "# You can write up to 20GB to the current directory (/kaggle/working/) that gets preserved as output when you create a version using \"Save & Run All\" \n",
    "# You can also write temporary files to /kaggle/temp/, but they won't be saved outside of the current session"
   ]
  },
  {
   "cell_type": "code",
   "execution_count": 4,
   "id": "44e145b5",
   "metadata": {
    "execution": {
     "iopub.execute_input": "2022-11-21T03:00:56.191431Z",
     "iopub.status.busy": "2022-11-21T03:00:56.191003Z",
     "iopub.status.idle": "2022-11-21T03:00:56.252088Z",
     "shell.execute_reply": "2022-11-21T03:00:56.250927Z"
    },
    "id": "y_T18Ulw5a6b",
    "outputId": "51eb1104-e9b4-432a-b2c8-47e54e3b0218",
    "papermill": {
     "duration": 0.087472,
     "end_time": "2022-11-21T03:00:56.254622",
     "exception": false,
     "start_time": "2022-11-21T03:00:56.167150",
     "status": "completed"
    },
    "tags": []
   },
   "outputs": [
    {
     "data": {
      "text/html": [
       "<div>\n",
       "<style scoped>\n",
       "    .dataframe tbody tr th:only-of-type {\n",
       "        vertical-align: middle;\n",
       "    }\n",
       "\n",
       "    .dataframe tbody tr th {\n",
       "        vertical-align: top;\n",
       "    }\n",
       "\n",
       "    .dataframe thead th {\n",
       "        text-align: right;\n",
       "    }\n",
       "</style>\n",
       "<table border=\"1\" class=\"dataframe\">\n",
       "  <thead>\n",
       "    <tr style=\"text-align: right;\">\n",
       "      <th></th>\n",
       "      <th>Posted On</th>\n",
       "      <th>BHK</th>\n",
       "      <th>Rent</th>\n",
       "      <th>Size</th>\n",
       "      <th>Floor</th>\n",
       "      <th>Area Type</th>\n",
       "      <th>Area Locality</th>\n",
       "      <th>City</th>\n",
       "      <th>Furnishing Status</th>\n",
       "      <th>Tenant Preferred</th>\n",
       "      <th>Bathroom</th>\n",
       "      <th>Point of Contact</th>\n",
       "    </tr>\n",
       "  </thead>\n",
       "  <tbody>\n",
       "    <tr>\n",
       "      <th>0</th>\n",
       "      <td>2022-05-18</td>\n",
       "      <td>2</td>\n",
       "      <td>10000</td>\n",
       "      <td>1100</td>\n",
       "      <td>Ground out of 2</td>\n",
       "      <td>Super Area</td>\n",
       "      <td>Bandel</td>\n",
       "      <td>Kolkata</td>\n",
       "      <td>Unfurnished</td>\n",
       "      <td>Bachelors/Family</td>\n",
       "      <td>2</td>\n",
       "      <td>Contact Owner</td>\n",
       "    </tr>\n",
       "    <tr>\n",
       "      <th>1</th>\n",
       "      <td>2022-05-13</td>\n",
       "      <td>2</td>\n",
       "      <td>20000</td>\n",
       "      <td>800</td>\n",
       "      <td>1 out of 3</td>\n",
       "      <td>Super Area</td>\n",
       "      <td>Phool Bagan, Kankurgachi</td>\n",
       "      <td>Kolkata</td>\n",
       "      <td>Semi-Furnished</td>\n",
       "      <td>Bachelors/Family</td>\n",
       "      <td>1</td>\n",
       "      <td>Contact Owner</td>\n",
       "    </tr>\n",
       "    <tr>\n",
       "      <th>2</th>\n",
       "      <td>2022-05-16</td>\n",
       "      <td>2</td>\n",
       "      <td>17000</td>\n",
       "      <td>1000</td>\n",
       "      <td>1 out of 3</td>\n",
       "      <td>Super Area</td>\n",
       "      <td>Salt Lake City Sector 2</td>\n",
       "      <td>Kolkata</td>\n",
       "      <td>Semi-Furnished</td>\n",
       "      <td>Bachelors/Family</td>\n",
       "      <td>1</td>\n",
       "      <td>Contact Owner</td>\n",
       "    </tr>\n",
       "    <tr>\n",
       "      <th>3</th>\n",
       "      <td>2022-07-04</td>\n",
       "      <td>2</td>\n",
       "      <td>10000</td>\n",
       "      <td>800</td>\n",
       "      <td>1 out of 2</td>\n",
       "      <td>Super Area</td>\n",
       "      <td>Dumdum Park</td>\n",
       "      <td>Kolkata</td>\n",
       "      <td>Unfurnished</td>\n",
       "      <td>Bachelors/Family</td>\n",
       "      <td>1</td>\n",
       "      <td>Contact Owner</td>\n",
       "    </tr>\n",
       "    <tr>\n",
       "      <th>4</th>\n",
       "      <td>2022-05-09</td>\n",
       "      <td>2</td>\n",
       "      <td>7500</td>\n",
       "      <td>850</td>\n",
       "      <td>1 out of 2</td>\n",
       "      <td>Carpet Area</td>\n",
       "      <td>South Dum Dum</td>\n",
       "      <td>Kolkata</td>\n",
       "      <td>Unfurnished</td>\n",
       "      <td>Bachelors</td>\n",
       "      <td>1</td>\n",
       "      <td>Contact Owner</td>\n",
       "    </tr>\n",
       "    <tr>\n",
       "      <th>5</th>\n",
       "      <td>2022-04-29</td>\n",
       "      <td>2</td>\n",
       "      <td>7000</td>\n",
       "      <td>600</td>\n",
       "      <td>Ground out of 1</td>\n",
       "      <td>Super Area</td>\n",
       "      <td>Thakurpukur</td>\n",
       "      <td>Kolkata</td>\n",
       "      <td>Unfurnished</td>\n",
       "      <td>Bachelors/Family</td>\n",
       "      <td>2</td>\n",
       "      <td>Contact Owner</td>\n",
       "    </tr>\n",
       "    <tr>\n",
       "      <th>6</th>\n",
       "      <td>2022-06-21</td>\n",
       "      <td>2</td>\n",
       "      <td>10000</td>\n",
       "      <td>700</td>\n",
       "      <td>Ground out of 4</td>\n",
       "      <td>Super Area</td>\n",
       "      <td>Malancha</td>\n",
       "      <td>Kolkata</td>\n",
       "      <td>Unfurnished</td>\n",
       "      <td>Bachelors</td>\n",
       "      <td>2</td>\n",
       "      <td>Contact Agent</td>\n",
       "    </tr>\n",
       "    <tr>\n",
       "      <th>7</th>\n",
       "      <td>2022-06-21</td>\n",
       "      <td>1</td>\n",
       "      <td>5000</td>\n",
       "      <td>250</td>\n",
       "      <td>1 out of 2</td>\n",
       "      <td>Super Area</td>\n",
       "      <td>Malancha</td>\n",
       "      <td>Kolkata</td>\n",
       "      <td>Unfurnished</td>\n",
       "      <td>Bachelors</td>\n",
       "      <td>1</td>\n",
       "      <td>Contact Agent</td>\n",
       "    </tr>\n",
       "    <tr>\n",
       "      <th>8</th>\n",
       "      <td>2022-06-07</td>\n",
       "      <td>2</td>\n",
       "      <td>26000</td>\n",
       "      <td>800</td>\n",
       "      <td>1 out of 2</td>\n",
       "      <td>Carpet Area</td>\n",
       "      <td>Palm Avenue Kolkata, Ballygunge</td>\n",
       "      <td>Kolkata</td>\n",
       "      <td>Unfurnished</td>\n",
       "      <td>Bachelors</td>\n",
       "      <td>2</td>\n",
       "      <td>Contact Agent</td>\n",
       "    </tr>\n",
       "    <tr>\n",
       "      <th>9</th>\n",
       "      <td>2022-06-20</td>\n",
       "      <td>2</td>\n",
       "      <td>10000</td>\n",
       "      <td>1000</td>\n",
       "      <td>1 out of 3</td>\n",
       "      <td>Carpet Area</td>\n",
       "      <td>Natunhat</td>\n",
       "      <td>Kolkata</td>\n",
       "      <td>Semi-Furnished</td>\n",
       "      <td>Bachelors/Family</td>\n",
       "      <td>2</td>\n",
       "      <td>Contact Owner</td>\n",
       "    </tr>\n",
       "  </tbody>\n",
       "</table>\n",
       "</div>"
      ],
      "text/plain": [
       "    Posted On  BHK   Rent  Size            Floor    Area Type  \\\n",
       "0  2022-05-18    2  10000  1100  Ground out of 2   Super Area   \n",
       "1  2022-05-13    2  20000   800       1 out of 3   Super Area   \n",
       "2  2022-05-16    2  17000  1000       1 out of 3   Super Area   \n",
       "3  2022-07-04    2  10000   800       1 out of 2   Super Area   \n",
       "4  2022-05-09    2   7500   850       1 out of 2  Carpet Area   \n",
       "5  2022-04-29    2   7000   600  Ground out of 1   Super Area   \n",
       "6  2022-06-21    2  10000   700  Ground out of 4   Super Area   \n",
       "7  2022-06-21    1   5000   250       1 out of 2   Super Area   \n",
       "8  2022-06-07    2  26000   800       1 out of 2  Carpet Area   \n",
       "9  2022-06-20    2  10000  1000       1 out of 3  Carpet Area   \n",
       "\n",
       "                     Area Locality     City Furnishing Status  \\\n",
       "0                           Bandel  Kolkata       Unfurnished   \n",
       "1         Phool Bagan, Kankurgachi  Kolkata    Semi-Furnished   \n",
       "2          Salt Lake City Sector 2  Kolkata    Semi-Furnished   \n",
       "3                      Dumdum Park  Kolkata       Unfurnished   \n",
       "4                    South Dum Dum  Kolkata       Unfurnished   \n",
       "5                      Thakurpukur  Kolkata       Unfurnished   \n",
       "6                         Malancha  Kolkata       Unfurnished   \n",
       "7                         Malancha  Kolkata       Unfurnished   \n",
       "8  Palm Avenue Kolkata, Ballygunge  Kolkata       Unfurnished   \n",
       "9                         Natunhat  Kolkata    Semi-Furnished   \n",
       "\n",
       "   Tenant Preferred  Bathroom Point of Contact  \n",
       "0  Bachelors/Family         2    Contact Owner  \n",
       "1  Bachelors/Family         1    Contact Owner  \n",
       "2  Bachelors/Family         1    Contact Owner  \n",
       "3  Bachelors/Family         1    Contact Owner  \n",
       "4         Bachelors         1    Contact Owner  \n",
       "5  Bachelors/Family         2    Contact Owner  \n",
       "6         Bachelors         2    Contact Agent  \n",
       "7         Bachelors         1    Contact Agent  \n",
       "8         Bachelors         2    Contact Agent  \n",
       "9  Bachelors/Family         2    Contact Owner  "
      ]
     },
     "execution_count": 4,
     "metadata": {},
     "output_type": "execute_result"
    }
   ],
   "source": [
    "df = pd.read_csv('/kaggle/input/house-rent-prediction-dataset/House_Rent_Dataset.csv')\n",
    "df.head(10)"
   ]
  },
  {
   "cell_type": "markdown",
   "id": "3b108c8e",
   "metadata": {
    "id": "ZTvamMVa6IzX",
    "papermill": {
     "duration": 0.022502,
     "end_time": "2022-11-21T03:00:56.299660",
     "exception": false,
     "start_time": "2022-11-21T03:00:56.277158",
     "status": "completed"
    },
    "tags": []
   },
   "source": [
    "# Data Understanding"
   ]
  },
  {
   "cell_type": "code",
   "execution_count": 5,
   "id": "a7e7fdcb",
   "metadata": {
    "execution": {
     "iopub.execute_input": "2022-11-21T03:00:56.347158Z",
     "iopub.status.busy": "2022-11-21T03:00:56.346433Z",
     "iopub.status.idle": "2022-11-21T03:00:56.353369Z",
     "shell.execute_reply": "2022-11-21T03:00:56.352278Z"
    },
    "id": "AaPm8tr-6LcY",
    "outputId": "ccfe6d71-c3c9-49d6-e020-26f9f3bdf7a7",
    "papermill": {
     "duration": 0.033108,
     "end_time": "2022-11-21T03:00:56.355860",
     "exception": false,
     "start_time": "2022-11-21T03:00:56.322752",
     "status": "completed"
    },
    "tags": []
   },
   "outputs": [
    {
     "data": {
      "text/plain": [
       "(4746, 12)"
      ]
     },
     "execution_count": 5,
     "metadata": {},
     "output_type": "execute_result"
    }
   ],
   "source": [
    "#Jumlah baris dan kolom pada dataset\n",
    "df.shape"
   ]
  },
  {
   "cell_type": "markdown",
   "id": "7bbf23ab",
   "metadata": {
    "papermill": {
     "duration": 0.02222,
     "end_time": "2022-11-21T03:00:56.400743",
     "exception": false,
     "start_time": "2022-11-21T03:00:56.378523",
     "status": "completed"
    },
    "tags": []
   },
   "source": [
    "Dataset memiliki 4746 baris dan 12 kolom"
   ]
  },
  {
   "cell_type": "code",
   "execution_count": 6,
   "id": "513dbb7e",
   "metadata": {
    "execution": {
     "iopub.execute_input": "2022-11-21T03:00:56.448177Z",
     "iopub.status.busy": "2022-11-21T03:00:56.447497Z",
     "iopub.status.idle": "2022-11-21T03:00:56.456484Z",
     "shell.execute_reply": "2022-11-21T03:00:56.455275Z"
    },
    "id": "lIvdVFsX3ayu",
    "outputId": "d9bb745f-da01-475a-b4db-797c66222f78",
    "papermill": {
     "duration": 0.035524,
     "end_time": "2022-11-21T03:00:56.459164",
     "exception": false,
     "start_time": "2022-11-21T03:00:56.423640",
     "status": "completed"
    },
    "tags": []
   },
   "outputs": [
    {
     "data": {
      "text/plain": [
       "Posted On            object\n",
       "BHK                   int64\n",
       "Rent                  int64\n",
       "Size                  int64\n",
       "Floor                object\n",
       "Area Type            object\n",
       "Area Locality        object\n",
       "City                 object\n",
       "Furnishing Status    object\n",
       "Tenant Preferred     object\n",
       "Bathroom              int64\n",
       "Point of Contact     object\n",
       "dtype: object"
      ]
     },
     "execution_count": 6,
     "metadata": {},
     "output_type": "execute_result"
    }
   ],
   "source": [
    "#Melihat kolom dan tipe data\n",
    "df.dtypes"
   ]
  },
  {
   "cell_type": "markdown",
   "id": "1f23051c",
   "metadata": {
    "papermill": {
     "duration": 0.022273,
     "end_time": "2022-11-21T03:00:56.504139",
     "exception": false,
     "start_time": "2022-11-21T03:00:56.481866",
     "status": "completed"
    },
    "tags": []
   },
   "source": [
    "Berdasarkan hasil di atas terdapat dua jenis tipe data yaitu object dan int64. Kolom dengan tipe data object adalah Posted On, Floor, Area Type,Area Locality, City, Furnishing Status, Tenant Preferred, dan Point of Contact. Sedangkan kolom dengan tipe data int64 adalah BHK, Rent, Size, dan Bathroom."
   ]
  },
  {
   "cell_type": "markdown",
   "id": "e6a1f273",
   "metadata": {
    "id": "2J_JUzLKcKe_",
    "papermill": {
     "duration": 0.023145,
     "end_time": "2022-11-21T03:00:56.550805",
     "exception": false,
     "start_time": "2022-11-21T03:00:56.527660",
     "status": "completed"
    },
    "tags": []
   },
   "source": [
    "## Data Categorical"
   ]
  },
  {
   "cell_type": "code",
   "execution_count": 7,
   "id": "fae0824b",
   "metadata": {
    "execution": {
     "iopub.execute_input": "2022-11-21T03:00:56.599703Z",
     "iopub.status.busy": "2022-11-21T03:00:56.599251Z",
     "iopub.status.idle": "2022-11-21T03:00:56.613824Z",
     "shell.execute_reply": "2022-11-21T03:00:56.612987Z"
    },
    "id": "BfFFOPAD5hyc",
    "outputId": "bf62789a-1ade-4890-c432-c9da92d95970",
    "papermill": {
     "duration": 0.041607,
     "end_time": "2022-11-21T03:00:56.615952",
     "exception": false,
     "start_time": "2022-11-21T03:00:56.574345",
     "status": "completed"
    },
    "tags": []
   },
   "outputs": [
    {
     "data": {
      "text/plain": [
       "2022-07-06    311\n",
       "2022-05-12    149\n",
       "2022-06-04    135\n",
       "2022-07-09    126\n",
       "2022-05-23    125\n",
       "             ... \n",
       "2022-04-24      6\n",
       "2022-04-25      6\n",
       "2022-04-26      2\n",
       "2022-04-13      1\n",
       "2022-07-11      1\n",
       "Name: Posted On, Length: 81, dtype: int64"
      ]
     },
     "execution_count": 7,
     "metadata": {},
     "output_type": "execute_result"
    }
   ],
   "source": [
    "#Mengecek jumlah dari setiap nilai pada fitur Posted On\n",
    "df[\"Posted On\"].value_counts()"
   ]
  },
  {
   "cell_type": "markdown",
   "id": "614c6514",
   "metadata": {
    "id": "5q5CZ4nqI248",
    "papermill": {
     "duration": 0.023259,
     "end_time": "2022-11-21T03:00:56.662565",
     "exception": false,
     "start_time": "2022-11-21T03:00:56.639306",
     "status": "completed"
    },
    "tags": []
   },
   "source": [
    "Fitur Posted On memiliki 81 nilai unique"
   ]
  },
  {
   "cell_type": "code",
   "execution_count": 8,
   "id": "a4a9ba83",
   "metadata": {
    "execution": {
     "iopub.execute_input": "2022-11-21T03:00:56.711142Z",
     "iopub.status.busy": "2022-11-21T03:00:56.710393Z",
     "iopub.status.idle": "2022-11-21T03:00:56.719767Z",
     "shell.execute_reply": "2022-11-21T03:00:56.718387Z"
    },
    "id": "F1Ul9vss7Z1-",
    "outputId": "1e8d127e-f0cb-48b1-cbb1-091ecb6d0a17",
    "papermill": {
     "duration": 0.036445,
     "end_time": "2022-11-21T03:00:56.722106",
     "exception": false,
     "start_time": "2022-11-21T03:00:56.685661",
     "status": "completed"
    },
    "tags": []
   },
   "outputs": [
    {
     "data": {
      "text/plain": [
       "1 out of 2         379\n",
       "Ground out of 2    350\n",
       "2 out of 3         312\n",
       "2 out of 4         308\n",
       "1 out of 3         293\n",
       "                  ... \n",
       "11 out of 31         1\n",
       "50 out of 75         1\n",
       "18 out of 26         1\n",
       "12 out of 27         1\n",
       "23 out of 34         1\n",
       "Name: Floor, Length: 480, dtype: int64"
      ]
     },
     "execution_count": 8,
     "metadata": {},
     "output_type": "execute_result"
    }
   ],
   "source": [
    "#Mengecek jumlah dari setiap nilai pada fitur Floor\n",
    "df[\"Floor\"].value_counts()"
   ]
  },
  {
   "cell_type": "markdown",
   "id": "4a36a13f",
   "metadata": {
    "id": "2ghz3PTjJdTu",
    "papermill": {
     "duration": 0.022778,
     "end_time": "2022-11-21T03:00:56.768409",
     "exception": false,
     "start_time": "2022-11-21T03:00:56.745631",
     "status": "completed"
    },
    "tags": []
   },
   "source": [
    "Fitur Posted On memiliki 480 nilai unique"
   ]
  },
  {
   "cell_type": "code",
   "execution_count": 9,
   "id": "51da181c",
   "metadata": {
    "execution": {
     "iopub.execute_input": "2022-11-21T03:00:56.817311Z",
     "iopub.status.busy": "2022-11-21T03:00:56.816328Z",
     "iopub.status.idle": "2022-11-21T03:00:56.826304Z",
     "shell.execute_reply": "2022-11-21T03:00:56.825416Z"
    },
    "id": "qk8YS2fN6Xmu",
    "outputId": "702e785d-1d80-47fc-aa41-a6ae51787e57",
    "papermill": {
     "duration": 0.036753,
     "end_time": "2022-11-21T03:00:56.828563",
     "exception": false,
     "start_time": "2022-11-21T03:00:56.791810",
     "status": "completed"
    },
    "tags": []
   },
   "outputs": [
    {
     "data": {
      "text/plain": [
       "Bandra West                                37\n",
       "Gachibowli                                 29\n",
       "Electronic City                            24\n",
       "Velachery                                  22\n",
       "Miyapur, NH 9                              22\n",
       "                                           ..\n",
       "Kengeri Upanagara                           1\n",
       "Ittamadu, Banashankari, Outer Ring Road     1\n",
       "Rmv Extension, Armane Nagar                 1\n",
       "snv la                                      1\n",
       "Manikonda, Hyderabad                        1\n",
       "Name: Area Locality, Length: 2235, dtype: int64"
      ]
     },
     "execution_count": 9,
     "metadata": {},
     "output_type": "execute_result"
    }
   ],
   "source": [
    "#Mengecek jumlah dari setiap nilai pada fitur Area Locality\n",
    "df[\"Area Locality\"].value_counts()"
   ]
  },
  {
   "cell_type": "markdown",
   "id": "9e47d3be",
   "metadata": {
    "id": "C1JEPvkhOpCE",
    "papermill": {
     "duration": 0.023226,
     "end_time": "2022-11-21T03:00:56.875844",
     "exception": false,
     "start_time": "2022-11-21T03:00:56.852618",
     "status": "completed"
    },
    "tags": []
   },
   "source": [
    "Fitur Area Locality memiliki 2235 nilai unique"
   ]
  },
  {
   "cell_type": "code",
   "execution_count": 10,
   "id": "eb4e314f",
   "metadata": {
    "execution": {
     "iopub.execute_input": "2022-11-21T03:00:56.924894Z",
     "iopub.status.busy": "2022-11-21T03:00:56.924458Z",
     "iopub.status.idle": "2022-11-21T03:00:56.933141Z",
     "shell.execute_reply": "2022-11-21T03:00:56.932031Z"
    },
    "id": "qtv94MSD7337",
    "outputId": "b48dbb53-a59f-44a9-a7fe-89a7779a92da",
    "papermill": {
     "duration": 0.035908,
     "end_time": "2022-11-21T03:00:56.935401",
     "exception": false,
     "start_time": "2022-11-21T03:00:56.899493",
     "status": "completed"
    },
    "tags": []
   },
   "outputs": [
    {
     "data": {
      "text/plain": [
       "Super Area     2446\n",
       "Carpet Area    2298\n",
       "Built Area        2\n",
       "Name: Area Type, dtype: int64"
      ]
     },
     "execution_count": 10,
     "metadata": {},
     "output_type": "execute_result"
    }
   ],
   "source": [
    "#Mengecek jumlah dari setiap nilai pada fitur Area Type\n",
    "df[\"Area Type\"].value_counts()"
   ]
  },
  {
   "cell_type": "markdown",
   "id": "eae6eb34",
   "metadata": {
    "id": "quzgDd4xPiXR",
    "papermill": {
     "duration": 0.023066,
     "end_time": "2022-11-21T03:00:56.982587",
     "exception": false,
     "start_time": "2022-11-21T03:00:56.959521",
     "status": "completed"
    },
    "tags": []
   },
   "source": [
    "Fitur Area Type memiliki 3 nilai unique"
   ]
  },
  {
   "cell_type": "code",
   "execution_count": 11,
   "id": "9e849a6c",
   "metadata": {
    "execution": {
     "iopub.execute_input": "2022-11-21T03:00:57.030490Z",
     "iopub.status.busy": "2022-11-21T03:00:57.030032Z",
     "iopub.status.idle": "2022-11-21T03:00:57.039237Z",
     "shell.execute_reply": "2022-11-21T03:00:57.038000Z"
    },
    "id": "0UQYJp8t8KUW",
    "outputId": "e1555dfd-4549-4c9e-eb31-5970bb45a4fc",
    "papermill": {
     "duration": 0.03625,
     "end_time": "2022-11-21T03:00:57.041875",
     "exception": false,
     "start_time": "2022-11-21T03:00:57.005625",
     "status": "completed"
    },
    "tags": []
   },
   "outputs": [
    {
     "data": {
      "text/plain": [
       "Mumbai       972\n",
       "Chennai      891\n",
       "Bangalore    886\n",
       "Hyderabad    868\n",
       "Delhi        605\n",
       "Kolkata      524\n",
       "Name: City, dtype: int64"
      ]
     },
     "execution_count": 11,
     "metadata": {},
     "output_type": "execute_result"
    }
   ],
   "source": [
    "#Mengecek jumlah dari setiap nilai pada fitur City\n",
    "df[\"City\"].value_counts()"
   ]
  },
  {
   "cell_type": "markdown",
   "id": "0e73f7ca",
   "metadata": {
    "id": "NES-tDwCPnHh",
    "papermill": {
     "duration": 0.023358,
     "end_time": "2022-11-21T03:00:57.088733",
     "exception": false,
     "start_time": "2022-11-21T03:00:57.065375",
     "status": "completed"
    },
    "tags": []
   },
   "source": [
    "Fitur City memiliki 6 nilai unique"
   ]
  },
  {
   "cell_type": "code",
   "execution_count": 12,
   "id": "ec34ed61",
   "metadata": {
    "execution": {
     "iopub.execute_input": "2022-11-21T03:00:57.136986Z",
     "iopub.status.busy": "2022-11-21T03:00:57.136274Z",
     "iopub.status.idle": "2022-11-21T03:00:57.146016Z",
     "shell.execute_reply": "2022-11-21T03:00:57.144858Z"
    },
    "id": "9rvKiVYL8RZe",
    "outputId": "a49f3a24-be8e-4d0b-a40c-eacad69086d3",
    "papermill": {
     "duration": 0.036644,
     "end_time": "2022-11-21T03:00:57.148487",
     "exception": false,
     "start_time": "2022-11-21T03:00:57.111843",
     "status": "completed"
    },
    "tags": []
   },
   "outputs": [
    {
     "data": {
      "text/plain": [
       "Bachelors/Family    3444\n",
       "Bachelors            830\n",
       "Family               472\n",
       "Name: Tenant Preferred, dtype: int64"
      ]
     },
     "execution_count": 12,
     "metadata": {},
     "output_type": "execute_result"
    }
   ],
   "source": [
    "#Mengecek jumlah dari setiap nilai pada fitur Tenant Preferred\n",
    "df[\"Tenant Preferred\"].value_counts()"
   ]
  },
  {
   "cell_type": "markdown",
   "id": "c79bc905",
   "metadata": {
    "id": "5cHdgQ2rPwbE",
    "papermill": {
     "duration": 0.022853,
     "end_time": "2022-11-21T03:00:57.194415",
     "exception": false,
     "start_time": "2022-11-21T03:00:57.171562",
     "status": "completed"
    },
    "tags": []
   },
   "source": [
    "Fitur Tenant Preferred memiliki 3 nilai unique"
   ]
  },
  {
   "cell_type": "code",
   "execution_count": 13,
   "id": "e3640661",
   "metadata": {
    "execution": {
     "iopub.execute_input": "2022-11-21T03:00:57.244242Z",
     "iopub.status.busy": "2022-11-21T03:00:57.243442Z",
     "iopub.status.idle": "2022-11-21T03:00:57.251535Z",
     "shell.execute_reply": "2022-11-21T03:00:57.250395Z"
    },
    "id": "il6n4zW38MEc",
    "outputId": "2934c5c8-995e-40ad-863b-4f24e1675e60",
    "papermill": {
     "duration": 0.035293,
     "end_time": "2022-11-21T03:00:57.253833",
     "exception": false,
     "start_time": "2022-11-21T03:00:57.218540",
     "status": "completed"
    },
    "tags": []
   },
   "outputs": [
    {
     "data": {
      "text/plain": [
       "Semi-Furnished    2251\n",
       "Unfurnished       1815\n",
       "Furnished          680\n",
       "Name: Furnishing Status, dtype: int64"
      ]
     },
     "execution_count": 13,
     "metadata": {},
     "output_type": "execute_result"
    }
   ],
   "source": [
    "#Mengecek jumlah dari setiap nilai pada fitur Furnishing Status\n",
    "df[\"Furnishing Status\"].value_counts()"
   ]
  },
  {
   "cell_type": "markdown",
   "id": "2cc9226c",
   "metadata": {
    "id": "TmSp1PlMPybz",
    "papermill": {
     "duration": 0.023028,
     "end_time": "2022-11-21T03:00:57.299981",
     "exception": false,
     "start_time": "2022-11-21T03:00:57.276953",
     "status": "completed"
    },
    "tags": []
   },
   "source": [
    "Fitur Furnishing Status memiliki 3 nilai unique"
   ]
  },
  {
   "cell_type": "code",
   "execution_count": 14,
   "id": "39695a5e",
   "metadata": {
    "execution": {
     "iopub.execute_input": "2022-11-21T03:00:57.349483Z",
     "iopub.status.busy": "2022-11-21T03:00:57.349039Z",
     "iopub.status.idle": "2022-11-21T03:00:57.357902Z",
     "shell.execute_reply": "2022-11-21T03:00:57.356587Z"
    },
    "id": "Xwq5ga5p8bK4",
    "outputId": "025c762f-7fc4-4fa0-e2f3-4298645d61f7",
    "papermill": {
     "duration": 0.036875,
     "end_time": "2022-11-21T03:00:57.360356",
     "exception": false,
     "start_time": "2022-11-21T03:00:57.323481",
     "status": "completed"
    },
    "tags": []
   },
   "outputs": [
    {
     "data": {
      "text/plain": [
       "Contact Owner      3216\n",
       "Contact Agent      1529\n",
       "Contact Builder       1\n",
       "Name: Point of Contact, dtype: int64"
      ]
     },
     "execution_count": 14,
     "metadata": {},
     "output_type": "execute_result"
    }
   ],
   "source": [
    "#Mengecek jumlah dari setiap nilai pada fitur Point of Contact\n",
    "df[\"Point of Contact\"].value_counts()"
   ]
  },
  {
   "cell_type": "markdown",
   "id": "e2cc1336",
   "metadata": {
    "id": "e1HDJGf5P8eu",
    "papermill": {
     "duration": 0.023018,
     "end_time": "2022-11-21T03:00:57.406871",
     "exception": false,
     "start_time": "2022-11-21T03:00:57.383853",
     "status": "completed"
    },
    "tags": []
   },
   "source": [
    "Fitur Point of Contact memiliki 3 nilai unique"
   ]
  },
  {
   "cell_type": "code",
   "execution_count": 15,
   "id": "6ff2367e",
   "metadata": {
    "execution": {
     "iopub.execute_input": "2022-11-21T03:00:57.455204Z",
     "iopub.status.busy": "2022-11-21T03:00:57.454799Z",
     "iopub.status.idle": "2022-11-21T03:00:57.639872Z",
     "shell.execute_reply": "2022-11-21T03:00:57.638586Z"
    },
    "id": "dvK85WPX7e6z",
    "outputId": "c17a7842-6ba6-4d0c-f2c1-42260e66cd0f",
    "papermill": {
     "duration": 0.212187,
     "end_time": "2022-11-21T03:00:57.642344",
     "exception": false,
     "start_time": "2022-11-21T03:00:57.430157",
     "status": "completed"
    },
    "tags": []
   },
   "outputs": [
    {
     "data": {
      "text/plain": [
       "<AxesSubplot:xlabel='Area Type', ylabel='count'>"
      ]
     },
     "execution_count": 15,
     "metadata": {},
     "output_type": "execute_result"
    },
    {
     "data": {
      "image/png": "[encoded data removed]",
      "text/plain": [
       "<Figure size 432x288 with 1 Axes>"
      ]
     },
     "metadata": {
      "needs_background": "light"
     },
     "output_type": "display_data"
    }
   ],
   "source": [
    "#Countplot Area Type\n",
    "sns.countplot(\"Area Type\",data=df)"
   ]
  },
  {
   "cell_type": "markdown",
   "id": "7d7a33d4",
   "metadata": {
    "papermill": {
     "duration": 0.023692,
     "end_time": "2022-11-21T03:00:57.690640",
     "exception": false,
     "start_time": "2022-11-21T03:00:57.666948",
     "status": "completed"
    },
    "tags": []
   },
   "source": [
    "Berdasarkan visualisasi di atas, dapat terlihat bahwa mayoritas rumah berada pada super area."
   ]
  },
  {
   "cell_type": "code",
   "execution_count": 16,
   "id": "6393df89",
   "metadata": {
    "execution": {
     "iopub.execute_input": "2022-11-21T03:00:57.740465Z",
     "iopub.status.busy": "2022-11-21T03:00:57.740073Z",
     "iopub.status.idle": "2022-11-21T03:00:57.890886Z",
     "shell.execute_reply": "2022-11-21T03:00:57.889542Z"
    },
    "id": "RpK9nqnI87r_",
    "outputId": "b281826e-d2c1-4598-8cee-dca4a2210d2d",
    "papermill": {
     "duration": 0.179205,
     "end_time": "2022-11-21T03:00:57.893863",
     "exception": false,
     "start_time": "2022-11-21T03:00:57.714658",
     "status": "completed"
    },
    "tags": []
   },
   "outputs": [
    {
     "data": {
      "text/plain": [
       "<AxesSubplot:xlabel='City', ylabel='count'>"
      ]
     },
     "execution_count": 16,
     "metadata": {},
     "output_type": "execute_result"
    },
    {
     "data": {
      "image/png": "[encoded data removed]",
      "text/plain": [
       "<Figure size 432x288 with 1 Axes>"
      ]
     },
     "metadata": {
      "needs_background": "light"
     },
     "output_type": "display_data"
    }
   ],
   "source": [
    "#Countplot City\n",
    "sns.countplot(\"City\",data=df)"
   ]
  },
  {
   "cell_type": "markdown",
   "id": "cea8ed11",
   "metadata": {
    "papermill": {
     "duration": 0.024721,
     "end_time": "2022-11-21T03:00:57.944488",
     "exception": false,
     "start_time": "2022-11-21T03:00:57.919767",
     "status": "completed"
    },
    "tags": []
   },
   "source": [
    "Berdasarkan visualisasi di atas, dapat terlihat bahwa jumlah rumah terbanyak berada di kota Mumbai."
   ]
  },
  {
   "cell_type": "code",
   "execution_count": 17,
   "id": "fc38606c",
   "metadata": {
    "execution": {
     "iopub.execute_input": "2022-11-21T03:00:57.997079Z",
     "iopub.status.busy": "2022-11-21T03:00:57.995937Z",
     "iopub.status.idle": "2022-11-21T03:00:58.143814Z",
     "shell.execute_reply": "2022-11-21T03:00:58.142115Z"
    },
    "id": "d8ZQZdaz9COb",
    "outputId": "adb324e3-486e-405e-9c6b-4b085504ee37",
    "papermill": {
     "duration": 0.179075,
     "end_time": "2022-11-21T03:00:58.148511",
     "exception": false,
     "start_time": "2022-11-21T03:00:57.969436",
     "status": "completed"
    },
    "tags": []
   },
   "outputs": [
    {
     "data": {
      "text/plain": [
       "<AxesSubplot:xlabel='Tenant Preferred', ylabel='count'>"
      ]
     },
     "execution_count": 17,
     "metadata": {},
     "output_type": "execute_result"
    },
    {
     "data": {
      "image/png": "[encoded data removed]",
      "text/plain": [
       "<Figure size 432x288 with 1 Axes>"
      ]
     },
     "metadata": {
      "needs_background": "light"
     },
     "output_type": "display_data"
    }
   ],
   "source": [
    "#Countplot Tenant Preferred\n",
    "sns.countplot(\"Tenant Preferred\",data=df)"
   ]
  },
  {
   "cell_type": "markdown",
   "id": "df001a85",
   "metadata": {
    "papermill": {
     "duration": 0.024467,
     "end_time": "2022-11-21T03:00:58.206204",
     "exception": false,
     "start_time": "2022-11-21T03:00:58.181737",
     "status": "completed"
    },
    "tags": []
   },
   "source": [
    "Berdasarkan visualisasi di atas, dapat terlihat bahwa preferensi penyewa terbanyak berasal dari bachelors/family."
   ]
  },
  {
   "cell_type": "code",
   "execution_count": 18,
   "id": "c74766d5",
   "metadata": {
    "execution": {
     "iopub.execute_input": "2022-11-21T03:00:58.257857Z",
     "iopub.status.busy": "2022-11-21T03:00:58.257424Z",
     "iopub.status.idle": "2022-11-21T03:00:58.455646Z",
     "shell.execute_reply": "2022-11-21T03:00:58.454321Z"
    },
    "id": "QlYmiQoM8-jl",
    "outputId": "92998f8b-0bf8-4523-f8bb-a76a8761ac9f",
    "papermill": {
     "duration": 0.227082,
     "end_time": "2022-11-21T03:00:58.458238",
     "exception": false,
     "start_time": "2022-11-21T03:00:58.231156",
     "status": "completed"
    },
    "tags": []
   },
   "outputs": [
    {
     "data": {
      "text/plain": [
       "<AxesSubplot:xlabel='Furnishing Status', ylabel='count'>"
      ]
     },
     "execution_count": 18,
     "metadata": {},
     "output_type": "execute_result"
    },
    {
     "data": {
      "image/png": "[encoded data removed]",
      "text/plain": [
       "<Figure size 432x288 with 1 Axes>"
      ]
     },
     "metadata": {
      "needs_background": "light"
     },
     "output_type": "display_data"
    }
   ],
   "source": [
    "#Countplot Furnishing Status\n",
    "sns.countplot(\"Furnishing Status\",data=df)"
   ]
  },
  {
   "cell_type": "markdown",
   "id": "2a62c418",
   "metadata": {
    "papermill": {
     "duration": 0.027953,
     "end_time": "2022-11-21T03:00:58.511868",
     "exception": false,
     "start_time": "2022-11-21T03:00:58.483915",
     "status": "completed"
    },
    "tags": []
   },
   "source": [
    "Berdasarkan visualisasi di atas, dapat terlihat bahwa mayoritas rumah adalah semi furnished."
   ]
  },
  {
   "cell_type": "code",
   "execution_count": 19,
   "id": "792bf0b8",
   "metadata": {
    "execution": {
     "iopub.execute_input": "2022-11-21T03:00:58.566559Z",
     "iopub.status.busy": "2022-11-21T03:00:58.565780Z",
     "iopub.status.idle": "2022-11-21T03:00:58.767752Z",
     "shell.execute_reply": "2022-11-21T03:00:58.766508Z"
    },
    "id": "8LuJvHJ49GXF",
    "outputId": "8b23936f-357d-4b37-cf66-8e8f7eda3497",
    "papermill": {
     "duration": 0.232036,
     "end_time": "2022-11-21T03:00:58.770462",
     "exception": false,
     "start_time": "2022-11-21T03:00:58.538426",
     "status": "completed"
    },
    "tags": []
   },
   "outputs": [
    {
     "data": {
      "text/plain": [
       "<AxesSubplot:xlabel='Point of Contact', ylabel='count'>"
      ]
     },
     "execution_count": 19,
     "metadata": {},
     "output_type": "execute_result"
    },
    {
     "data": {
      "image/png": "[encoded data removed]",
      "text/plain": [
       "<Figure size 432x288 with 1 Axes>"
      ]
     },
     "metadata": {
      "needs_background": "light"
     },
     "output_type": "display_data"
    }
   ],
   "source": [
    "#Countplot Point of Contact\n",
    "sns.countplot(\"Point of Contact\",data=df)"
   ]
  },
  {
   "cell_type": "markdown",
   "id": "49471cbc",
   "metadata": {
    "papermill": {
     "duration": 0.025031,
     "end_time": "2022-11-21T03:00:58.821015",
     "exception": false,
     "start_time": "2022-11-21T03:00:58.795984",
     "status": "completed"
    },
    "tags": []
   },
   "source": [
    "Berdasarkan visualisasi di atas, dapat terlihat bahwa mayoritas point of contact adalah contact owner."
   ]
  },
  {
   "cell_type": "code",
   "execution_count": 20,
   "id": "e0626631",
   "metadata": {
    "execution": {
     "iopub.execute_input": "2022-11-21T03:00:58.875410Z",
     "iopub.status.busy": "2022-11-21T03:00:58.874609Z",
     "iopub.status.idle": "2022-11-21T03:00:59.209867Z",
     "shell.execute_reply": "2022-11-21T03:00:59.208668Z"
    },
    "id": "IbJkpq0NBUGl",
    "outputId": "dd0c60fc-5d16-4a04-c20b-9e077c08bbd6",
    "papermill": {
     "duration": 0.366016,
     "end_time": "2022-11-21T03:00:59.212526",
     "exception": false,
     "start_time": "2022-11-21T03:00:58.846510",
     "status": "completed"
    },
    "tags": []
   },
   "outputs": [
    {
     "data": {
      "text/plain": [
       "<AxesSubplot:xlabel='Area Type', ylabel='Rent'>"
      ]
     },
     "execution_count": 20,
     "metadata": {},
     "output_type": "execute_result"
    },
    {
     "data": {
      "image/png": "[encoded data removed]",
      "text/plain": [
       "<Figure size 432x288 with 1 Axes>"
      ]
     },
     "metadata": {
      "needs_background": "light"
     },
     "output_type": "display_data"
    }
   ],
   "source": [
    "#Lineplot Area Type\n",
    "sns.lineplot(x=df['Area Type'], y=df['Rent'])"
   ]
  },
  {
   "cell_type": "code",
   "execution_count": 21,
   "id": "306970f7",
   "metadata": {
    "execution": {
     "iopub.execute_input": "2022-11-21T03:00:59.268063Z",
     "iopub.status.busy": "2022-11-21T03:00:59.267658Z",
     "iopub.status.idle": "2022-11-21T03:00:59.711131Z",
     "shell.execute_reply": "2022-11-21T03:00:59.709836Z"
    },
    "id": "HivqovkRBV2G",
    "outputId": "913217f2-2a11-4cf7-c26f-f874544de307",
    "papermill": {
     "duration": 0.47401,
     "end_time": "2022-11-21T03:00:59.713817",
     "exception": false,
     "start_time": "2022-11-21T03:00:59.239807",
     "status": "completed"
    },
    "tags": []
   },
   "outputs": [
    {
     "data": {
      "text/plain": [
       "<AxesSubplot:xlabel='City', ylabel='Rent'>"
      ]
     },
     "execution_count": 21,
     "metadata": {},
     "output_type": "execute_result"
    },
    {
     "data": {
      "image/png": "[encoded data removed]",
      "text/plain": [
       "<Figure size 432x288 with 1 Axes>"
      ]
     },
     "metadata": {
      "needs_background": "light"
     },
     "output_type": "display_data"
    }
   ],
   "source": [
    "#Lineplot City\n",
    "sns.lineplot(x=df['City'], y=df['Rent'])"
   ]
  },
  {
   "cell_type": "code",
   "execution_count": 22,
   "id": "d1b1bc82",
   "metadata": {
    "execution": {
     "iopub.execute_input": "2022-11-21T03:00:59.769130Z",
     "iopub.status.busy": "2022-11-21T03:00:59.768210Z",
     "iopub.status.idle": "2022-11-21T03:01:00.183711Z",
     "shell.execute_reply": "2022-11-21T03:01:00.182853Z"
    },
    "id": "KBb2jWvsBmyx",
    "outputId": "54739a13-ba2b-43f5-e4f3-8b758670e421",
    "papermill": {
     "duration": 0.445746,
     "end_time": "2022-11-21T03:01:00.186099",
     "exception": false,
     "start_time": "2022-11-21T03:00:59.740353",
     "status": "completed"
    },
    "tags": []
   },
   "outputs": [
    {
     "data": {
      "text/plain": [
       "<AxesSubplot:xlabel='Furnishing Status', ylabel='Rent'>"
      ]
     },
     "execution_count": 22,
     "metadata": {},
     "output_type": "execute_result"
    },
    {
     "data": {
      "image/png": "[encoded data removed]",
      "text/plain": [
       "<Figure size 432x288 with 1 Axes>"
      ]
     },
     "metadata": {
      "needs_background": "light"
     },
     "output_type": "display_data"
    }
   ],
   "source": [
    "#Lineplot Furnishing Status\n",
    "sns.lineplot(x=df['Furnishing Status'], y=df['Rent'])"
   ]
  },
  {
   "cell_type": "code",
   "execution_count": 23,
   "id": "112796d7",
   "metadata": {
    "execution": {
     "iopub.execute_input": "2022-11-21T03:01:00.242903Z",
     "iopub.status.busy": "2022-11-21T03:01:00.241647Z",
     "iopub.status.idle": "2022-11-21T03:01:00.506158Z",
     "shell.execute_reply": "2022-11-21T03:01:00.504964Z"
    },
    "id": "pB7F8UWMBZOn",
    "outputId": "976e8faa-9438-4f8f-8e6c-d719f7cad3a1",
    "papermill": {
     "duration": 0.295406,
     "end_time": "2022-11-21T03:01:00.508804",
     "exception": false,
     "start_time": "2022-11-21T03:01:00.213398",
     "status": "completed"
    },
    "tags": []
   },
   "outputs": [
    {
     "data": {
      "text/plain": [
       "<AxesSubplot:xlabel='Tenant Preferred', ylabel='Rent'>"
      ]
     },
     "execution_count": 23,
     "metadata": {},
     "output_type": "execute_result"
    },
    {
     "data": {
      "image/png": "[encoded data removed]",
      "text/plain": [
       "<Figure size 432x288 with 1 Axes>"
      ]
     },
     "metadata": {
      "needs_background": "light"
     },
     "output_type": "display_data"
    }
   ],
   "source": [
    "#Lineplot Tenant Preferred\n",
    "sns.lineplot(x=df['Tenant Preferred'], y=df['Rent'])"
   ]
  },
  {
   "cell_type": "code",
   "execution_count": 24,
   "id": "4a6c4474",
   "metadata": {
    "execution": {
     "iopub.execute_input": "2022-11-21T03:01:00.565561Z",
     "iopub.status.busy": "2022-11-21T03:01:00.565174Z",
     "iopub.status.idle": "2022-11-21T03:01:00.822127Z",
     "shell.execute_reply": "2022-11-21T03:01:00.820818Z"
    },
    "id": "w1WjXXx6BgiF",
    "outputId": "aa237f5a-4ce9-4281-f109-bcd363b091c0",
    "papermill": {
     "duration": 0.289704,
     "end_time": "2022-11-21T03:01:00.825602",
     "exception": false,
     "start_time": "2022-11-21T03:01:00.535898",
     "status": "completed"
    },
    "tags": []
   },
   "outputs": [
    {
     "data": {
      "text/plain": [
       "<AxesSubplot:xlabel='Point of Contact', ylabel='Rent'>"
      ]
     },
     "execution_count": 24,
     "metadata": {},
     "output_type": "execute_result"
    },
    {
     "data": {
      "image/png": "[encoded data removed]",
      "text/plain": [
       "<Figure size 432x288 with 1 Axes>"
      ]
     },
     "metadata": {
      "needs_background": "light"
     },
     "output_type": "display_data"
    }
   ],
   "source": [
    "#Lineplot Point of Contact\n",
    "sns.lineplot(x=df['Point of Contact'], y=df['Rent'])"
   ]
  },
  {
   "cell_type": "markdown",
   "id": "52e5b5ef",
   "metadata": {
    "papermill": {
     "duration": 0.028101,
     "end_time": "2022-11-21T03:01:00.881388",
     "exception": false,
     "start_time": "2022-11-21T03:01:00.853287",
     "status": "completed"
    },
    "tags": []
   },
   "source": [
    "Berdasarkan output di atas dapat disimpulkan bahwa biaya sewa pada tipe area Carpet Area lebih bervariasi dan biaya tertinggi pun berada pada area tersebut. Kemudian, jika didasarkan pada kota maka biaya sewa di kota Mumbai adalah biaya sewa yang paling mahal. Jika dilihat dari furnishing status, rumah dengan yang sudah semi furnished dan furnished harganya akan semakin mahal. Lalu untuk tenant preferred, biaya sewa akan lebih mahal jika tenant dibawa oleh keluarga. Terakhir berdasarkan kontak, jika orang yang dihubungi adalah agent maka biaya sewanya cenderung lebih mahal."
   ]
  },
  {
   "cell_type": "markdown",
   "id": "46a9e6cb",
   "metadata": {
    "id": "eEnby_1McQ5A",
    "papermill": {
     "duration": 0.027297,
     "end_time": "2022-11-21T03:01:00.936362",
     "exception": false,
     "start_time": "2022-11-21T03:01:00.909065",
     "status": "completed"
    },
    "tags": []
   },
   "source": [
    "## Data Numerical"
   ]
  },
  {
   "cell_type": "code",
   "execution_count": 25,
   "id": "2e9763e4",
   "metadata": {
    "execution": {
     "iopub.execute_input": "2022-11-21T03:01:00.993671Z",
     "iopub.status.busy": "2022-11-21T03:01:00.993273Z",
     "iopub.status.idle": "2022-11-21T03:01:01.209548Z",
     "shell.execute_reply": "2022-11-21T03:01:01.208664Z"
    },
    "id": "BlC83ID1cgWp",
    "outputId": "7ddb6825-54c0-4ad6-b994-9ebbcdb623e0",
    "papermill": {
     "duration": 0.248226,
     "end_time": "2022-11-21T03:01:01.212030",
     "exception": false,
     "start_time": "2022-11-21T03:01:00.963804",
     "status": "completed"
    },
    "tags": []
   },
   "outputs": [
    {
     "data": {
      "image/png": "[encoded data removed]",
      "text/plain": [
       "<Figure size 432x288 with 1 Axes>"
      ]
     },
     "metadata": {
      "needs_background": "light"
     },
     "output_type": "display_data"
    }
   ],
   "source": [
    "#BHK Distribution\n",
    "df['BHK'].hist(bins=5)\n",
    "plt.suptitle('BHK distribution of rented house')\n",
    "plt.xlabel('BHK')\n",
    "plt.ylabel('Count')\n",
    "plt.show()"
   ]
  },
  {
   "cell_type": "code",
   "execution_count": 26,
   "id": "5d8ed92d",
   "metadata": {
    "execution": {
     "iopub.execute_input": "2022-11-21T03:01:01.271348Z",
     "iopub.status.busy": "2022-11-21T03:01:01.270662Z",
     "iopub.status.idle": "2022-11-21T03:01:01.500648Z",
     "shell.execute_reply": "2022-11-21T03:01:01.499430Z"
    },
    "id": "xo2qjRbMCe5J",
    "outputId": "9df18b72-4050-4a36-c7ca-44e4b2096529",
    "papermill": {
     "duration": 0.261706,
     "end_time": "2022-11-21T03:01:01.502931",
     "exception": false,
     "start_time": "2022-11-21T03:01:01.241225",
     "status": "completed"
    },
    "tags": []
   },
   "outputs": [
    {
     "data": {
      "image/png": "[encoded data removed]",
      "text/plain": [
       "<Figure size 432x288 with 1 Axes>"
      ]
     },
     "metadata": {
      "needs_background": "light"
     },
     "output_type": "display_data"
    }
   ],
   "source": [
    "#Size Distribution\n",
    "df['Size'].hist(bins=5)\n",
    "plt.suptitle('Size distribution of rented house')\n",
    "plt.xlabel('Size')\n",
    "plt.ylabel('Count')\n",
    "plt.show()"
   ]
  },
  {
   "cell_type": "code",
   "execution_count": 27,
   "id": "ed9e96b7",
   "metadata": {
    "execution": {
     "iopub.execute_input": "2022-11-21T03:01:01.561301Z",
     "iopub.status.busy": "2022-11-21T03:01:01.560915Z",
     "iopub.status.idle": "2022-11-21T03:01:01.782533Z",
     "shell.execute_reply": "2022-11-21T03:01:01.781078Z"
    },
    "id": "7DBK9w1gC2_z",
    "outputId": "48941092-cbfe-4bc8-b701-0256e4f8c29f",
    "papermill": {
     "duration": 0.253865,
     "end_time": "2022-11-21T03:01:01.785229",
     "exception": false,
     "start_time": "2022-11-21T03:01:01.531364",
     "status": "completed"
    },
    "tags": []
   },
   "outputs": [
    {
     "data": {
      "image/png": "[encoded data removed]",
      "text/plain": [
       "<Figure size 432x288 with 1 Axes>"
      ]
     },
     "metadata": {
      "needs_background": "light"
     },
     "output_type": "display_data"
    }
   ],
   "source": [
    "#Rent Distribution\n",
    "df['Rent'].hist(bins=5)\n",
    "plt.suptitle('Rent distribution of rented house')\n",
    "plt.xlabel('Rent')\n",
    "plt.ylabel('Count')\n",
    "plt.show()"
   ]
  },
  {
   "cell_type": "code",
   "execution_count": 28,
   "id": "0b9b03c4",
   "metadata": {
    "execution": {
     "iopub.execute_input": "2022-11-21T03:01:01.845608Z",
     "iopub.status.busy": "2022-11-21T03:01:01.845233Z",
     "iopub.status.idle": "2022-11-21T03:01:02.059447Z",
     "shell.execute_reply": "2022-11-21T03:01:02.058596Z"
    },
    "id": "HIuaj41YckLO",
    "outputId": "d897163f-14a4-4251-c114-a1ba1ae44745",
    "papermill": {
     "duration": 0.24729,
     "end_time": "2022-11-21T03:01:02.061597",
     "exception": false,
     "start_time": "2022-11-21T03:01:01.814307",
     "status": "completed"
    },
    "tags": []
   },
   "outputs": [
    {
     "data": {
      "image/png": "[encoded data removed]",
      "text/plain": [
       "<Figure size 432x288 with 1 Axes>"
      ]
     },
     "metadata": {
      "needs_background": "light"
     },
     "output_type": "display_data"
    }
   ],
   "source": [
    "#Bathroom Distribution\n",
    "df['Bathroom'].hist(bins=5)\n",
    "plt.suptitle('Bathroom distribution of rented house')\n",
    "plt.xlabel('Bathroom')\n",
    "plt.ylabel('Count')\n",
    "plt.show()"
   ]
  },
  {
   "cell_type": "markdown",
   "id": "9a6e75ab",
   "metadata": {
    "papermill": {
     "duration": 0.028719,
     "end_time": "2022-11-21T03:01:02.120457",
     "exception": false,
     "start_time": "2022-11-21T03:01:02.091738",
     "status": "completed"
    },
    "tags": []
   },
   "source": [
    "Berdasarkan output yang diperoleh pada gambar di atas, dapat terlihat bahwa kebanyakan rumah memiliki BHK yang berjumlah 2-3. Kemudian untuk ukuran rumah, kebanyakan berukuran kurang dari 2000m2. Untuk biaya sewa, kebanyakan rumah memiliki biaya sewa sekitar 10000-15000. Terakhir, untuk kamar mandi, kebanyakan rumah memiliki kamar mandi yang berjumlah sekitar 1-3."
   ]
  },
  {
   "cell_type": "code",
   "execution_count": 29,
   "id": "c557717a",
   "metadata": {
    "execution": {
     "iopub.execute_input": "2022-11-21T03:01:02.179921Z",
     "iopub.status.busy": "2022-11-21T03:01:02.179253Z",
     "iopub.status.idle": "2022-11-21T03:01:02.202256Z",
     "shell.execute_reply": "2022-11-21T03:01:02.201112Z"
    },
    "id": "0KR03ka76ffI",
    "outputId": "13220341-ce25-42d5-9313-37de7b0e80f1",
    "papermill": {
     "duration": 0.055791,
     "end_time": "2022-11-21T03:01:02.204870",
     "exception": false,
     "start_time": "2022-11-21T03:01:02.149079",
     "status": "completed"
    },
    "tags": []
   },
   "outputs": [
    {
     "data": {
      "text/html": [
       "<div>\n",
       "<style scoped>\n",
       "    .dataframe tbody tr th:only-of-type {\n",
       "        vertical-align: middle;\n",
       "    }\n",
       "\n",
       "    .dataframe tbody tr th {\n",
       "        vertical-align: top;\n",
       "    }\n",
       "\n",
       "    .dataframe thead th {\n",
       "        text-align: right;\n",
       "    }\n",
       "</style>\n",
       "<table border=\"1\" class=\"dataframe\">\n",
       "  <thead>\n",
       "    <tr style=\"text-align: right;\">\n",
       "      <th></th>\n",
       "      <th>BHK</th>\n",
       "      <th>Rent</th>\n",
       "      <th>Size</th>\n",
       "      <th>Bathroom</th>\n",
       "    </tr>\n",
       "  </thead>\n",
       "  <tbody>\n",
       "    <tr>\n",
       "      <th>count</th>\n",
       "      <td>4746.000000</td>\n",
       "      <td>4.746000e+03</td>\n",
       "      <td>4746.000000</td>\n",
       "      <td>4746.000000</td>\n",
       "    </tr>\n",
       "    <tr>\n",
       "      <th>mean</th>\n",
       "      <td>2.083860</td>\n",
       "      <td>3.499345e+04</td>\n",
       "      <td>967.490729</td>\n",
       "      <td>1.965866</td>\n",
       "    </tr>\n",
       "    <tr>\n",
       "      <th>std</th>\n",
       "      <td>0.832256</td>\n",
       "      <td>7.810641e+04</td>\n",
       "      <td>634.202328</td>\n",
       "      <td>0.884532</td>\n",
       "    </tr>\n",
       "    <tr>\n",
       "      <th>min</th>\n",
       "      <td>1.000000</td>\n",
       "      <td>1.200000e+03</td>\n",
       "      <td>10.000000</td>\n",
       "      <td>1.000000</td>\n",
       "    </tr>\n",
       "    <tr>\n",
       "      <th>25%</th>\n",
       "      <td>2.000000</td>\n",
       "      <td>1.000000e+04</td>\n",
       "      <td>550.000000</td>\n",
       "      <td>1.000000</td>\n",
       "    </tr>\n",
       "    <tr>\n",
       "      <th>50%</th>\n",
       "      <td>2.000000</td>\n",
       "      <td>1.600000e+04</td>\n",
       "      <td>850.000000</td>\n",
       "      <td>2.000000</td>\n",
       "    </tr>\n",
       "    <tr>\n",
       "      <th>75%</th>\n",
       "      <td>3.000000</td>\n",
       "      <td>3.300000e+04</td>\n",
       "      <td>1200.000000</td>\n",
       "      <td>2.000000</td>\n",
       "    </tr>\n",
       "    <tr>\n",
       "      <th>max</th>\n",
       "      <td>6.000000</td>\n",
       "      <td>3.500000e+06</td>\n",
       "      <td>8000.000000</td>\n",
       "      <td>10.000000</td>\n",
       "    </tr>\n",
       "  </tbody>\n",
       "</table>\n",
       "</div>"
      ],
      "text/plain": [
       "               BHK          Rent         Size     Bathroom\n",
       "count  4746.000000  4.746000e+03  4746.000000  4746.000000\n",
       "mean      2.083860  3.499345e+04   967.490729     1.965866\n",
       "std       0.832256  7.810641e+04   634.202328     0.884532\n",
       "min       1.000000  1.200000e+03    10.000000     1.000000\n",
       "25%       2.000000  1.000000e+04   550.000000     1.000000\n",
       "50%       2.000000  1.600000e+04   850.000000     2.000000\n",
       "75%       3.000000  3.300000e+04  1200.000000     2.000000\n",
       "max       6.000000  3.500000e+06  8000.000000    10.000000"
      ]
     },
     "execution_count": 29,
     "metadata": {},
     "output_type": "execute_result"
    }
   ],
   "source": [
    "#Describe data\n",
    "df.describe()"
   ]
  },
  {
   "cell_type": "markdown",
   "id": "793e9886",
   "metadata": {
    "papermill": {
     "duration": 0.028453,
     "end_time": "2022-11-21T03:01:02.262770",
     "exception": false,
     "start_time": "2022-11-21T03:01:02.234317",
     "status": "completed"
    },
    "tags": []
   },
   "source": [
    "Berdasarkan output di atas, diperoleh informasi tentang jumlah, rata-rata (mean), standar deviasi (std), nilai minimum (min), kuartil bawah (25%), median (50%), kuartil .atas (75%), dan nilai maksimum (max) dari kolom BHK, Rent, Size, dan Bathroom"
   ]
  },
  {
   "cell_type": "code",
   "execution_count": 30,
   "id": "21b997ef",
   "metadata": {
    "execution": {
     "iopub.execute_input": "2022-11-21T03:01:02.322315Z",
     "iopub.status.busy": "2022-11-21T03:01:02.321907Z",
     "iopub.status.idle": "2022-11-21T03:01:02.335717Z",
     "shell.execute_reply": "2022-11-21T03:01:02.334381Z"
    },
    "id": "lTxv8cDw6nr2",
    "outputId": "53149db3-9591-4aeb-e542-dd8b32525091",
    "papermill": {
     "duration": 0.046522,
     "end_time": "2022-11-21T03:01:02.338213",
     "exception": false,
     "start_time": "2022-11-21T03:01:02.291691",
     "status": "completed"
    },
    "tags": []
   },
   "outputs": [
    {
     "data": {
      "text/html": [
       "<div>\n",
       "<style scoped>\n",
       "    .dataframe tbody tr th:only-of-type {\n",
       "        vertical-align: middle;\n",
       "    }\n",
       "\n",
       "    .dataframe tbody tr th {\n",
       "        vertical-align: top;\n",
       "    }\n",
       "\n",
       "    .dataframe thead th {\n",
       "        text-align: right;\n",
       "    }\n",
       "</style>\n",
       "<table border=\"1\" class=\"dataframe\">\n",
       "  <thead>\n",
       "    <tr style=\"text-align: right;\">\n",
       "      <th></th>\n",
       "      <th>BHK</th>\n",
       "      <th>Rent</th>\n",
       "      <th>Size</th>\n",
       "      <th>Bathroom</th>\n",
       "    </tr>\n",
       "  </thead>\n",
       "  <tbody>\n",
       "    <tr>\n",
       "      <th>BHK</th>\n",
       "      <td>1.000000</td>\n",
       "      <td>0.369718</td>\n",
       "      <td>0.716145</td>\n",
       "      <td>0.794885</td>\n",
       "    </tr>\n",
       "    <tr>\n",
       "      <th>Rent</th>\n",
       "      <td>0.369718</td>\n",
       "      <td>1.000000</td>\n",
       "      <td>0.413551</td>\n",
       "      <td>0.441215</td>\n",
       "    </tr>\n",
       "    <tr>\n",
       "      <th>Size</th>\n",
       "      <td>0.716145</td>\n",
       "      <td>0.413551</td>\n",
       "      <td>1.000000</td>\n",
       "      <td>0.740703</td>\n",
       "    </tr>\n",
       "    <tr>\n",
       "      <th>Bathroom</th>\n",
       "      <td>0.794885</td>\n",
       "      <td>0.441215</td>\n",
       "      <td>0.740703</td>\n",
       "      <td>1.000000</td>\n",
       "    </tr>\n",
       "  </tbody>\n",
       "</table>\n",
       "</div>"
      ],
      "text/plain": [
       "               BHK      Rent      Size  Bathroom\n",
       "BHK       1.000000  0.369718  0.716145  0.794885\n",
       "Rent      0.369718  1.000000  0.413551  0.441215\n",
       "Size      0.716145  0.413551  1.000000  0.740703\n",
       "Bathroom  0.794885  0.441215  0.740703  1.000000"
      ]
     },
     "execution_count": 30,
     "metadata": {},
     "output_type": "execute_result"
    }
   ],
   "source": [
    "#Melihat Korelasi/Hubungan antar Kolom\n",
    "df.corr()"
   ]
  },
  {
   "cell_type": "markdown",
   "id": "c4dc1c5b",
   "metadata": {
    "papermill": {
     "duration": 0.028705,
     "end_time": "2022-11-21T03:01:02.395913",
     "exception": false,
     "start_time": "2022-11-21T03:01:02.367208",
     "status": "completed"
    },
    "tags": []
   },
   "source": [
    "Berdasarkan hasil di atas, dapat terlihat bahwa antar fitur bertipe numerical semuanya berkorelasi positif. BHK dengan bathroom memiliki nilai korelasi terbesar yaitu 0.79. Rent dan size juga mmemiliki korelasi terbesar dengan bathroom yaitu sebesar 0.44 dan 0.74."
   ]
  },
  {
   "cell_type": "markdown",
   "id": "c53aa18f",
   "metadata": {
    "id": "R8xcZHm36BxY",
    "papermill": {
     "duration": 0.028468,
     "end_time": "2022-11-21T03:01:02.453299",
     "exception": false,
     "start_time": "2022-11-21T03:01:02.424831",
     "status": "completed"
    },
    "tags": []
   },
   "source": [
    "# Data Preparation and Cleaning"
   ]
  },
  {
   "cell_type": "markdown",
   "id": "cee19558",
   "metadata": {
    "id": "CCFC3aejPOpB",
    "papermill": {
     "duration": 0.029244,
     "end_time": "2022-11-21T03:01:02.511473",
     "exception": false,
     "start_time": "2022-11-21T03:01:02.482229",
     "status": "completed"
    },
    "tags": []
   },
   "source": [
    "## Drop kolom yang tidak diperlukan"
   ]
  },
  {
   "cell_type": "code",
   "execution_count": 31,
   "id": "ad43519e",
   "metadata": {
    "execution": {
     "iopub.execute_input": "2022-11-21T03:01:02.571526Z",
     "iopub.status.busy": "2022-11-21T03:01:02.571140Z",
     "iopub.status.idle": "2022-11-21T03:01:02.578080Z",
     "shell.execute_reply": "2022-11-21T03:01:02.576642Z"
    },
    "id": "ckSuxWd79-R0",
    "papermill": {
     "duration": 0.040067,
     "end_time": "2022-11-21T03:01:02.580454",
     "exception": false,
     "start_time": "2022-11-21T03:01:02.540387",
     "status": "completed"
    },
    "tags": []
   },
   "outputs": [],
   "source": [
    "#drop kolom yang tidak digunakan\n",
    "df.drop(['Posted On', 'Floor','Area Locality'],axis=1,inplace=True)"
   ]
  },
  {
   "cell_type": "markdown",
   "id": "dc0c4a75",
   "metadata": {
    "id": "55xajItk-Nhx",
    "papermill": {
     "duration": 0.029766,
     "end_time": "2022-11-21T03:01:02.640366",
     "exception": false,
     "start_time": "2022-11-21T03:01:02.610600",
     "status": "completed"
    },
    "tags": []
   },
   "source": [
    "Kolom 'Posted On', 'Floor', dan 'Area Locality' di-drop karena kolom-kolom tersebut memiliki banyak sekali nilai yang unique"
   ]
  },
  {
   "cell_type": "code",
   "execution_count": 32,
   "id": "2105af80",
   "metadata": {
    "execution": {
     "iopub.execute_input": "2022-11-21T03:01:02.701177Z",
     "iopub.status.busy": "2022-11-21T03:01:02.700041Z",
     "iopub.status.idle": "2022-11-21T03:01:02.706703Z",
     "shell.execute_reply": "2022-11-21T03:01:02.705707Z"
    },
    "id": "5bg5MFVB-qJ6",
    "outputId": "22d6bf47-4253-4c77-9c0d-c96a48c6a1c5",
    "papermill": {
     "duration": 0.039136,
     "end_time": "2022-11-21T03:01:02.708786",
     "exception": false,
     "start_time": "2022-11-21T03:01:02.669650",
     "status": "completed"
    },
    "tags": []
   },
   "outputs": [
    {
     "data": {
      "text/plain": [
       "Index(['BHK', 'Rent', 'Size', 'Area Type', 'City', 'Furnishing Status',\n",
       "       'Tenant Preferred', 'Bathroom', 'Point of Contact'],\n",
       "      dtype='object')"
      ]
     },
     "execution_count": 32,
     "metadata": {},
     "output_type": "execute_result"
    }
   ],
   "source": [
    "#Mengecek kolom setelah drop tiga kolom\n",
    "df.columns"
   ]
  },
  {
   "cell_type": "markdown",
   "id": "31fac74a",
   "metadata": {
    "id": "3t9nO2aSPU0t",
    "papermill": {
     "duration": 0.028894,
     "end_time": "2022-11-21T03:01:02.766972",
     "exception": false,
     "start_time": "2022-11-21T03:01:02.738078",
     "status": "completed"
    },
    "tags": []
   },
   "source": [
    "## Menghapus baris duplikat"
   ]
  },
  {
   "cell_type": "code",
   "execution_count": 33,
   "id": "e34606bc",
   "metadata": {
    "execution": {
     "iopub.execute_input": "2022-11-21T03:01:02.827767Z",
     "iopub.status.busy": "2022-11-21T03:01:02.826775Z",
     "iopub.status.idle": "2022-11-21T03:01:02.838897Z",
     "shell.execute_reply": "2022-11-21T03:01:02.837741Z"
    },
    "id": "fdWag7Cp-64c",
    "papermill": {
     "duration": 0.045808,
     "end_time": "2022-11-21T03:01:02.841987",
     "exception": false,
     "start_time": "2022-11-21T03:01:02.796179",
     "status": "completed"
    },
    "tags": []
   },
   "outputs": [],
   "source": [
    "#Menghapus baris duplikat\n",
    "df = df[~df.duplicated()]"
   ]
  },
  {
   "cell_type": "code",
   "execution_count": 34,
   "id": "0b693586",
   "metadata": {
    "execution": {
     "iopub.execute_input": "2022-11-21T03:01:02.904110Z",
     "iopub.status.busy": "2022-11-21T03:01:02.903419Z",
     "iopub.status.idle": "2022-11-21T03:01:02.910219Z",
     "shell.execute_reply": "2022-11-21T03:01:02.909086Z"
    },
    "id": "ruYYLTmw_Ae3",
    "outputId": "a3ea2a85-845a-43bd-ba4a-84f866a9be29",
    "papermill": {
     "duration": 0.041358,
     "end_time": "2022-11-21T03:01:02.912750",
     "exception": false,
     "start_time": "2022-11-21T03:01:02.871392",
     "status": "completed"
    },
    "tags": []
   },
   "outputs": [
    {
     "data": {
      "text/plain": [
       "(4486, 9)"
      ]
     },
     "execution_count": 34,
     "metadata": {},
     "output_type": "execute_result"
    }
   ],
   "source": [
    "#Mengecek jumlah baris dan kolom setelah menghapus baris duplikat\n",
    "df.shape"
   ]
  },
  {
   "cell_type": "markdown",
   "id": "6be800a4",
   "metadata": {
    "papermill": {
     "duration": 0.029236,
     "end_time": "2022-11-21T03:01:02.972312",
     "exception": false,
     "start_time": "2022-11-21T03:01:02.943076",
     "status": "completed"
    },
    "tags": []
   },
   "source": [
    "Untuk menghapus baris duplikat digunakan ~df.duplicated(). Hal ini dilakukan untuk menyimpan data ke dalam variabel dengan mengecualikan semua data duplikatnya. Hasilnya, setelah semua data duplikat dihapus jumlah baris yang awalnya 4746 berkurang menjadi 4486."
   ]
  },
  {
   "cell_type": "markdown",
   "id": "72910121",
   "metadata": {
    "id": "YZchGRKGPYRG",
    "papermill": {
     "duration": 0.02923,
     "end_time": "2022-11-21T03:01:03.031356",
     "exception": false,
     "start_time": "2022-11-21T03:01:03.002126",
     "status": "completed"
    },
    "tags": []
   },
   "source": [
    "## Mengecek missing values"
   ]
  },
  {
   "cell_type": "code",
   "execution_count": 35,
   "id": "a17c2cfb",
   "metadata": {
    "execution": {
     "iopub.execute_input": "2022-11-21T03:01:03.093019Z",
     "iopub.status.busy": "2022-11-21T03:01:03.092250Z",
     "iopub.status.idle": "2022-11-21T03:01:03.101509Z",
     "shell.execute_reply": "2022-11-21T03:01:03.100670Z"
    },
    "id": "4ZNo-HHI_usb",
    "outputId": "21579f8e-76f0-4b61-fe11-12b621767098",
    "papermill": {
     "duration": 0.042634,
     "end_time": "2022-11-21T03:01:03.103625",
     "exception": false,
     "start_time": "2022-11-21T03:01:03.060991",
     "status": "completed"
    },
    "tags": []
   },
   "outputs": [
    {
     "data": {
      "text/plain": [
       "BHK                  0\n",
       "Rent                 0\n",
       "Size                 0\n",
       "Area Type            0\n",
       "City                 0\n",
       "Furnishing Status    0\n",
       "Tenant Preferred     0\n",
       "Bathroom             0\n",
       "Point of Contact     0\n",
       "dtype: int64"
      ]
     },
     "execution_count": 35,
     "metadata": {},
     "output_type": "execute_result"
    }
   ],
   "source": [
    "#Mengecek missing values\n",
    "df.isnull().sum()"
   ]
  },
  {
   "cell_type": "markdown",
   "id": "2c3780cc",
   "metadata": {
    "id": "tv72xtA5AD1U",
    "papermill": {
     "duration": 0.029405,
     "end_time": "2022-11-21T03:01:03.162654",
     "exception": false,
     "start_time": "2022-11-21T03:01:03.133249",
     "status": "completed"
    },
    "tags": []
   },
   "source": [
    "Tidak ditemukan missing values pada data"
   ]
  },
  {
   "cell_type": "markdown",
   "id": "a99da196",
   "metadata": {
    "id": "FWzLE1BoZw9L",
    "papermill": {
     "duration": 0.02982,
     "end_time": "2022-11-21T03:01:03.221757",
     "exception": false,
     "start_time": "2022-11-21T03:01:03.191937",
     "status": "completed"
    },
    "tags": []
   },
   "source": [
    "## Outliers handling"
   ]
  },
  {
   "cell_type": "code",
   "execution_count": 36,
   "id": "c85bc4db",
   "metadata": {
    "execution": {
     "iopub.execute_input": "2022-11-21T03:01:03.284652Z",
     "iopub.status.busy": "2022-11-21T03:01:03.283930Z",
     "iopub.status.idle": "2022-11-21T03:01:03.397805Z",
     "shell.execute_reply": "2022-11-21T03:01:03.396589Z"
    },
    "id": "KIgiEoC4AHzz",
    "outputId": "67f58f06-1c0b-4980-b9c0-5dd2485b8396",
    "papermill": {
     "duration": 0.147769,
     "end_time": "2022-11-21T03:01:03.400322",
     "exception": false,
     "start_time": "2022-11-21T03:01:03.252553",
     "status": "completed"
    },
    "tags": []
   },
   "outputs": [
    {
     "data": {
      "text/plain": [
       "<AxesSubplot:xlabel='BHK'>"
      ]
     },
     "execution_count": 36,
     "metadata": {},
     "output_type": "execute_result"
    },
    {
     "data": {
      "image/png": "[encoded data removed]",
      "text/plain": [
       "<Figure size 432x288 with 1 Axes>"
      ]
     },
     "metadata": {
      "needs_background": "light"
     },
     "output_type": "display_data"
    }
   ],
   "source": [
    "#Mengecek Outliers pada kolom BHK\n",
    "sns.boxplot(x=\"BHK\",data=df)"
   ]
  },
  {
   "cell_type": "code",
   "execution_count": 37,
   "id": "b649ecf6",
   "metadata": {
    "execution": {
     "iopub.execute_input": "2022-11-21T03:01:03.462904Z",
     "iopub.status.busy": "2022-11-21T03:01:03.462108Z",
     "iopub.status.idle": "2022-11-21T03:01:03.599443Z",
     "shell.execute_reply": "2022-11-21T03:01:03.598267Z"
    },
    "id": "zYvFiKpBDNZI",
    "outputId": "188aee58-6e20-4808-fff2-d57e28b89245",
    "papermill": {
     "duration": 0.171643,
     "end_time": "2022-11-21T03:01:03.602060",
     "exception": false,
     "start_time": "2022-11-21T03:01:03.430417",
     "status": "completed"
    },
    "tags": []
   },
   "outputs": [
    {
     "data": {
      "text/plain": [
       "<AxesSubplot:xlabel='Rent'>"
      ]
     },
     "execution_count": 37,
     "metadata": {},
     "output_type": "execute_result"
    },
    {
     "data": {
      "image/png": "[encoded data removed]",
      "text/plain": [
       "<Figure size 432x288 with 1 Axes>"
      ]
     },
     "metadata": {
      "needs_background": "light"
     },
     "output_type": "display_data"
    }
   ],
   "source": [
    "#Mengecek Outliers pada kolom Rent\n",
    "sns.boxplot(x=\"Rent\",data=df)"
   ]
  },
  {
   "cell_type": "code",
   "execution_count": 38,
   "id": "849046bd",
   "metadata": {
    "execution": {
     "iopub.execute_input": "2022-11-21T03:01:03.667387Z",
     "iopub.status.busy": "2022-11-21T03:01:03.666975Z",
     "iopub.status.idle": "2022-11-21T03:01:03.857235Z",
     "shell.execute_reply": "2022-11-21T03:01:03.856103Z"
    },
    "id": "mZS-tjeECwNO",
    "outputId": "141dafa8-be95-4de7-87c6-f04ebb6b6bc5",
    "papermill": {
     "duration": 0.227112,
     "end_time": "2022-11-21T03:01:03.859951",
     "exception": false,
     "start_time": "2022-11-21T03:01:03.632839",
     "status": "completed"
    },
    "tags": []
   },
   "outputs": [
    {
     "data": {
      "text/plain": [
       "<AxesSubplot:xlabel='Size'>"
      ]
     },
     "execution_count": 38,
     "metadata": {},
     "output_type": "execute_result"
    },
    {
     "data": {
      "image/png": "[encoded data removed]",
      "text/plain": [
       "<Figure size 432x288 with 1 Axes>"
      ]
     },
     "metadata": {
      "needs_background": "light"
     },
     "output_type": "display_data"
    }
   ],
   "source": [
    "#Mengecek Outliers pada kolom Size\n",
    "sns.boxplot(x=\"Size\",data=df)"
   ]
  },
  {
   "cell_type": "code",
   "execution_count": 39,
   "id": "a80d163e",
   "metadata": {
    "execution": {
     "iopub.execute_input": "2022-11-21T03:01:03.923637Z",
     "iopub.status.busy": "2022-11-21T03:01:03.923206Z",
     "iopub.status.idle": "2022-11-21T03:01:04.102257Z",
     "shell.execute_reply": "2022-11-21T03:01:04.101142Z"
    },
    "id": "w2agQ8X9DUi5",
    "outputId": "f41a621d-cf59-4a3a-f89c-d100cde59cf4",
    "papermill": {
     "duration": 0.214468,
     "end_time": "2022-11-21T03:01:04.104747",
     "exception": false,
     "start_time": "2022-11-21T03:01:03.890279",
     "status": "completed"
    },
    "tags": []
   },
   "outputs": [
    {
     "data": {
      "text/plain": [
       "<AxesSubplot:xlabel='Bathroom'>"
      ]
     },
     "execution_count": 39,
     "metadata": {},
     "output_type": "execute_result"
    },
    {
     "data": {
      "image/png": "[encoded data removed]",
      "text/plain": [
       "<Figure size 432x288 with 1 Axes>"
      ]
     },
     "metadata": {
      "needs_background": "light"
     },
     "output_type": "display_data"
    }
   ],
   "source": [
    "#Mengecek Outliers pada kolom Bathroom\n",
    "sns.boxplot(x=\"Bathroom\", data=df)"
   ]
  },
  {
   "cell_type": "markdown",
   "id": "17f5c2f7",
   "metadata": {
    "papermill": {
     "duration": 0.029995,
     "end_time": "2022-11-21T03:01:04.166450",
     "exception": false,
     "start_time": "2022-11-21T03:01:04.136455",
     "status": "completed"
    },
    "tags": []
   },
   "source": [
    "Berdasarkan gambar di atas, dapat dilihat bahwa terdapat outliers dari kolom BHK, Rent, Size, dan Bathroom. Outliers tersebut ditunjukkan dengan titik-titik yang berada di luar boxplot. "
   ]
  },
  {
   "cell_type": "code",
   "execution_count": 40,
   "id": "9ad99909",
   "metadata": {
    "execution": {
     "iopub.execute_input": "2022-11-21T03:01:04.229784Z",
     "iopub.status.busy": "2022-11-21T03:01:04.229347Z",
     "iopub.status.idle": "2022-11-21T03:01:04.242075Z",
     "shell.execute_reply": "2022-11-21T03:01:04.240908Z"
    },
    "id": "VT3jZjk2rpIv",
    "papermill": {
     "duration": 0.047667,
     "end_time": "2022-11-21T03:01:04.244616",
     "exception": false,
     "start_time": "2022-11-21T03:01:04.196949",
     "status": "completed"
    },
    "tags": []
   },
   "outputs": [],
   "source": [
    "#Ouliers Handling Kolom BHK\n",
    "Q1=df['BHK'].quantile(0.25)\n",
    "Q3=df['BHK'].quantile(0.75)\n",
    "IQR=Q3-Q1\n",
    "Lower_Bound = Q1 - (1.5 * IQR)\n",
    "Upper_Bound = Q3 + (1.5 * IQR)\n",
    "\n",
    "df.loc[(df['BHK']>Upper_Bound)] = df['BHK'].median()"
   ]
  },
  {
   "cell_type": "code",
   "execution_count": 41,
   "id": "ea106d24",
   "metadata": {
    "execution": {
     "iopub.execute_input": "2022-11-21T03:01:04.309497Z",
     "iopub.status.busy": "2022-11-21T03:01:04.309058Z",
     "iopub.status.idle": "2022-11-21T03:01:04.499542Z",
     "shell.execute_reply": "2022-11-21T03:01:04.498295Z"
    },
    "id": "6_hX8IFisgyf",
    "outputId": "11cd124d-ef5a-46fd-ffad-b17cbe2fb686",
    "papermill": {
     "duration": 0.226101,
     "end_time": "2022-11-21T03:01:04.502514",
     "exception": false,
     "start_time": "2022-11-21T03:01:04.276413",
     "status": "completed"
    },
    "tags": []
   },
   "outputs": [
    {
     "data": {
      "text/plain": [
       "<AxesSubplot:xlabel='BHK'>"
      ]
     },
     "execution_count": 41,
     "metadata": {},
     "output_type": "execute_result"
    },
    {
     "data": {
      "image/png": "[encoded data removed]",
      "text/plain": [
       "<Figure size 432x288 with 1 Axes>"
      ]
     },
     "metadata": {
      "needs_background": "light"
     },
     "output_type": "display_data"
    }
   ],
   "source": [
    "sns.boxplot(x=\"BHK\",data=df)"
   ]
  },
  {
   "cell_type": "code",
   "execution_count": 42,
   "id": "32cc077b",
   "metadata": {
    "execution": {
     "iopub.execute_input": "2022-11-21T03:01:04.568234Z",
     "iopub.status.busy": "2022-11-21T03:01:04.567812Z",
     "iopub.status.idle": "2022-11-21T03:01:04.581188Z",
     "shell.execute_reply": "2022-11-21T03:01:04.580250Z"
    },
    "id": "RP3ruUO-smEQ",
    "papermill": {
     "duration": 0.049431,
     "end_time": "2022-11-21T03:01:04.583516",
     "exception": false,
     "start_time": "2022-11-21T03:01:04.534085",
     "status": "completed"
    },
    "tags": []
   },
   "outputs": [],
   "source": [
    "#Ouliers Handling Kolom Rent\n",
    "Q1_Rent=df['Rent'].quantile(0.25)\n",
    "Q3_Rent=df['Rent'].quantile(0.75)\n",
    "IQR_Rent=Q3_Rent-Q1_Rent\n",
    "LowerBoundRent = Q1_Rent - 1.5 * IQR_Rent\n",
    "UpperBoundRent = Q3_Rent + 1.5 * IQR_Rent\n",
    "\n",
    "df.loc[(df['Rent']>UpperBoundRent)] = UpperBoundRent"
   ]
  },
  {
   "cell_type": "code",
   "execution_count": 43,
   "id": "49552ba7",
   "metadata": {
    "execution": {
     "iopub.execute_input": "2022-11-21T03:01:04.649205Z",
     "iopub.status.busy": "2022-11-21T03:01:04.648176Z",
     "iopub.status.idle": "2022-11-21T03:01:04.837107Z",
     "shell.execute_reply": "2022-11-21T03:01:04.835780Z"
    },
    "id": "ExqgLUdgtFNq",
    "outputId": "bda830e5-9306-476b-950d-632297dcc20e",
    "papermill": {
     "duration": 0.224898,
     "end_time": "2022-11-21T03:01:04.839937",
     "exception": false,
     "start_time": "2022-11-21T03:01:04.615039",
     "status": "completed"
    },
    "tags": []
   },
   "outputs": [
    {
     "data": {
      "text/plain": [
       "<AxesSubplot:xlabel='Rent'>"
      ]
     },
     "execution_count": 43,
     "metadata": {},
     "output_type": "execute_result"
    },
    {
     "data": {
      "image/png": "[encoded data removed]",
      "text/plain": [
       "<Figure size 432x288 with 1 Axes>"
      ]
     },
     "metadata": {
      "needs_background": "light"
     },
     "output_type": "display_data"
    }
   ],
   "source": [
    "sns.boxplot(x=\"Rent\",data=df)"
   ]
  },
  {
   "cell_type": "code",
   "execution_count": 44,
   "id": "a85ad81e",
   "metadata": {
    "execution": {
     "iopub.execute_input": "2022-11-21T03:01:04.906045Z",
     "iopub.status.busy": "2022-11-21T03:01:04.905429Z",
     "iopub.status.idle": "2022-11-21T03:01:04.917240Z",
     "shell.execute_reply": "2022-11-21T03:01:04.916359Z"
    },
    "id": "-B6PzKo4tSUQ",
    "papermill": {
     "duration": 0.047478,
     "end_time": "2022-11-21T03:01:04.919700",
     "exception": false,
     "start_time": "2022-11-21T03:01:04.872222",
     "status": "completed"
    },
    "tags": []
   },
   "outputs": [],
   "source": [
    "#Ouliers Handling Kolom Size\n",
    "Q1_Size=df['Size'].quantile(0.25)\n",
    "Q3_Size=df['Size'].quantile(0.75)\n",
    "IQR_Size=Q3_Size-Q1_Size\n",
    "LowerBoundSize = Q1_Size - 1.5 * IQR_Size\n",
    "UpperBoundSize = Q3_Size + 1.5 * IQR_Size\n",
    "\n",
    "df.loc[(df['Size']>UpperBoundSize)] = UpperBoundSize"
   ]
  },
  {
   "cell_type": "code",
   "execution_count": 45,
   "id": "7b71f638",
   "metadata": {
    "execution": {
     "iopub.execute_input": "2022-11-21T03:01:04.985054Z",
     "iopub.status.busy": "2022-11-21T03:01:04.984629Z",
     "iopub.status.idle": "2022-11-21T03:01:05.169813Z",
     "shell.execute_reply": "2022-11-21T03:01:05.168486Z"
    },
    "id": "y2FkiU4stajE",
    "outputId": "77b460c1-3ad0-4904-c35d-ab7f2fa669bb",
    "papermill": {
     "duration": 0.221014,
     "end_time": "2022-11-21T03:01:05.172600",
     "exception": false,
     "start_time": "2022-11-21T03:01:04.951586",
     "status": "completed"
    },
    "tags": []
   },
   "outputs": [
    {
     "data": {
      "text/plain": [
       "<AxesSubplot:xlabel='Size'>"
      ]
     },
     "execution_count": 45,
     "metadata": {},
     "output_type": "execute_result"
    },
    {
     "data": {
      "image/png": "[encoded data removed]",
      "text/plain": [
       "<Figure size 432x288 with 1 Axes>"
      ]
     },
     "metadata": {
      "needs_background": "light"
     },
     "output_type": "display_data"
    }
   ],
   "source": [
    "sns.boxplot(x=\"Size\",data=df)"
   ]
  },
  {
   "cell_type": "code",
   "execution_count": 46,
   "id": "104749c2",
   "metadata": {
    "execution": {
     "iopub.execute_input": "2022-11-21T03:01:05.238354Z",
     "iopub.status.busy": "2022-11-21T03:01:05.237949Z",
     "iopub.status.idle": "2022-11-21T03:01:05.250205Z",
     "shell.execute_reply": "2022-11-21T03:01:05.249228Z"
    },
    "id": "ouUPdwVOuEjm",
    "papermill": {
     "duration": 0.048351,
     "end_time": "2022-11-21T03:01:05.252961",
     "exception": false,
     "start_time": "2022-11-21T03:01:05.204610",
     "status": "completed"
    },
    "tags": []
   },
   "outputs": [],
   "source": [
    "#Ouliers Handling Kolom Bathroom\n",
    "Q1_Bathroom=df['Bathroom'].quantile(0.25)\n",
    "Q3_Bathroom=df['Bathroom'].quantile(0.75)\n",
    "IQR_Bathroom=Q3_Bathroom-Q1_Bathroom\n",
    "LowerBoundBathroom = Q1_Bathroom - 1.5 * IQR_Bathroom\n",
    "UpperBoundBathroom = Q3_Bathroom + 1.5 * IQR_Bathroom\n",
    "\n",
    "df.loc[(df['Bathroom']>UpperBoundBathroom)] = df['Bathroom'].median()"
   ]
  },
  {
   "cell_type": "code",
   "execution_count": 47,
   "id": "e6625b87",
   "metadata": {
    "execution": {
     "iopub.execute_input": "2022-11-21T03:01:05.318664Z",
     "iopub.status.busy": "2022-11-21T03:01:05.317898Z",
     "iopub.status.idle": "2022-11-21T03:01:05.512047Z",
     "shell.execute_reply": "2022-11-21T03:01:05.510900Z"
    },
    "id": "9kpUO-tduR-e",
    "outputId": "104b7259-8cf6-4646-b76a-436e9e3e65ec",
    "papermill": {
     "duration": 0.229808,
     "end_time": "2022-11-21T03:01:05.514468",
     "exception": false,
     "start_time": "2022-11-21T03:01:05.284660",
     "status": "completed"
    },
    "tags": []
   },
   "outputs": [
    {
     "data": {
      "text/plain": [
       "<AxesSubplot:xlabel='Bathroom'>"
      ]
     },
     "execution_count": 47,
     "metadata": {},
     "output_type": "execute_result"
    },
    {
     "data": {
      "image/png": "[encoded data removed]",
      "text/plain": [
       "<Figure size 432x288 with 1 Axes>"
      ]
     },
     "metadata": {
      "needs_background": "light"
     },
     "output_type": "display_data"
    }
   ],
   "source": [
    "sns.boxplot(x=\"Bathroom\",data=df)"
   ]
  },
  {
   "cell_type": "markdown",
   "id": "555e929d",
   "metadata": {
    "papermill": {
     "duration": 0.031535,
     "end_time": "2022-11-21T03:01:05.579198",
     "exception": false,
     "start_time": "2022-11-21T03:01:05.547663",
     "status": "completed"
    },
    "tags": []
   },
   "source": [
    "Berdasarkan output boxplot di atas, sudah tidak terdapat lagi outliers pada data."
   ]
  },
  {
   "cell_type": "code",
   "execution_count": 48,
   "id": "d7740c00",
   "metadata": {
    "execution": {
     "iopub.execute_input": "2022-11-21T03:01:05.644834Z",
     "iopub.status.busy": "2022-11-21T03:01:05.644040Z",
     "iopub.status.idle": "2022-11-21T03:01:05.652848Z",
     "shell.execute_reply": "2022-11-21T03:01:05.651587Z"
    },
    "id": "7cLIZSOy9ZZc",
    "outputId": "d46b41ea-ea6f-4966-fee5-bcad179ad00d",
    "papermill": {
     "duration": 0.044656,
     "end_time": "2022-11-21T03:01:05.655450",
     "exception": false,
     "start_time": "2022-11-21T03:01:05.610794",
     "status": "completed"
    },
    "tags": []
   },
   "outputs": [
    {
     "data": {
      "text/plain": [
       "BHK                  float64\n",
       "Rent                 float64\n",
       "Size                 float64\n",
       "Area Type             object\n",
       "City                  object\n",
       "Furnishing Status     object\n",
       "Tenant Preferred      object\n",
       "Bathroom             float64\n",
       "Point of Contact      object\n",
       "dtype: object"
      ]
     },
     "execution_count": 48,
     "metadata": {},
     "output_type": "execute_result"
    }
   ],
   "source": [
    "#Melihat tipe data setelah penanganan outliers\n",
    "df.dtypes"
   ]
  },
  {
   "cell_type": "code",
   "execution_count": 49,
   "id": "c79d2cff",
   "metadata": {
    "execution": {
     "iopub.execute_input": "2022-11-21T03:01:05.720870Z",
     "iopub.status.busy": "2022-11-21T03:01:05.720472Z",
     "iopub.status.idle": "2022-11-21T03:01:05.728567Z",
     "shell.execute_reply": "2022-11-21T03:01:05.727722Z"
    },
    "id": "UHBASulT-2VO",
    "papermill": {
     "duration": 0.043365,
     "end_time": "2022-11-21T03:01:05.730822",
     "exception": false,
     "start_time": "2022-11-21T03:01:05.687457",
     "status": "completed"
    },
    "tags": []
   },
   "outputs": [],
   "source": [
    "#Mengubah tipe data float menjadi integer\n",
    "df[['BHK','Rent','Size','Bathroom']] = df[['BHK','Rent','Size','Bathroom']].astype(int)"
   ]
  },
  {
   "cell_type": "code",
   "execution_count": 50,
   "id": "d6b4d785",
   "metadata": {
    "execution": {
     "iopub.execute_input": "2022-11-21T03:01:05.795631Z",
     "iopub.status.busy": "2022-11-21T03:01:05.795225Z",
     "iopub.status.idle": "2022-11-21T03:01:05.804073Z",
     "shell.execute_reply": "2022-11-21T03:01:05.802758Z"
    },
    "id": "CHKGDSprA3HM",
    "outputId": "d8a56230-695c-4acf-a211-4d14e4e36e02",
    "papermill": {
     "duration": 0.043879,
     "end_time": "2022-11-21T03:01:05.806442",
     "exception": false,
     "start_time": "2022-11-21T03:01:05.762563",
     "status": "completed"
    },
    "tags": []
   },
   "outputs": [
    {
     "data": {
      "text/plain": [
       "BHK                   int64\n",
       "Rent                  int64\n",
       "Size                  int64\n",
       "Area Type            object\n",
       "City                 object\n",
       "Furnishing Status    object\n",
       "Tenant Preferred     object\n",
       "Bathroom              int64\n",
       "Point of Contact     object\n",
       "dtype: object"
      ]
     },
     "execution_count": 50,
     "metadata": {},
     "output_type": "execute_result"
    }
   ],
   "source": [
    "#Melihat tipe data setelah perubahan\n",
    "df.dtypes"
   ]
  },
  {
   "cell_type": "markdown",
   "id": "1bf5327c",
   "metadata": {
    "id": "VL2Z9dOLPwQ2",
    "papermill": {
     "duration": 0.032214,
     "end_time": "2022-11-21T03:01:05.871656",
     "exception": false,
     "start_time": "2022-11-21T03:01:05.839442",
     "status": "completed"
    },
    "tags": []
   },
   "source": [
    "# Encoding"
   ]
  },
  {
   "cell_type": "markdown",
   "id": "d0d8464a",
   "metadata": {
    "papermill": {
     "duration": 0.033353,
     "end_time": "2022-11-21T03:01:05.937709",
     "exception": false,
     "start_time": "2022-11-21T03:01:05.904356",
     "status": "completed"
    },
    "tags": []
   },
   "source": [
    "Encoding merupakan proses pengubahan data categorical ke dalam format integer sehingga data categorical tersebut dapat diolah dengan menggunakan beragam model machine learning. Salah satu cara untuk melakukan encoding adalah dengan one-hot encoding menggunakan get_dummies. Dengan get_dummies, maka data categorical akan diubah menjadi one-hot encoded matrix untuk setiap kolom target."
   ]
  },
  {
   "cell_type": "code",
   "execution_count": 51,
   "id": "bf4ebb5b",
   "metadata": {
    "execution": {
     "iopub.execute_input": "2022-11-21T03:01:06.003368Z",
     "iopub.status.busy": "2022-11-21T03:01:06.002991Z",
     "iopub.status.idle": "2022-11-21T03:01:06.033253Z",
     "shell.execute_reply": "2022-11-21T03:01:06.032218Z"
    },
    "id": "ldBgV5osfmhZ",
    "papermill": {
     "duration": 0.065904,
     "end_time": "2022-11-21T03:01:06.035784",
     "exception": false,
     "start_time": "2022-11-21T03:01:05.969880",
     "status": "completed"
    },
    "tags": []
   },
   "outputs": [],
   "source": [
    "#Encoding Categorical Data\n",
    "df2 = df.join(pd.get_dummies(df[['Area Type','City','Furnishing Status','Tenant Preferred','Point of Contact']], drop_first=True))\n",
    "df2.drop(columns = ['Area Type','City','Furnishing Status','Tenant Preferred','Point of Contact'], inplace = True)"
   ]
  },
  {
   "cell_type": "markdown",
   "id": "3e8ab53c",
   "metadata": {
    "papermill": {
     "duration": 0.032688,
     "end_time": "2022-11-21T03:01:06.101162",
     "exception": false,
     "start_time": "2022-11-21T03:01:06.068474",
     "status": "completed"
    },
    "tags": []
   },
   "source": [
    "Berikut ini adalah output kolom dan tipe datanya setelah proses encoding. "
   ]
  },
  {
   "cell_type": "code",
   "execution_count": 52,
   "id": "cde6ddb4",
   "metadata": {
    "execution": {
     "iopub.execute_input": "2022-11-21T03:01:06.168892Z",
     "iopub.status.busy": "2022-11-21T03:01:06.168154Z",
     "iopub.status.idle": "2022-11-21T03:01:06.175940Z",
     "shell.execute_reply": "2022-11-21T03:01:06.174893Z"
    },
    "id": "DHWMIcjOf4LY",
    "outputId": "6e468afd-7664-43eb-916b-6f87c7629aed",
    "papermill": {
     "duration": 0.044363,
     "end_time": "2022-11-21T03:01:06.178301",
     "exception": false,
     "start_time": "2022-11-21T03:01:06.133938",
     "status": "completed"
    },
    "tags": []
   },
   "outputs": [
    {
     "data": {
      "text/plain": [
       "BHK                                  int64\n",
       "Rent                                 int64\n",
       "Size                                 int64\n",
       "Bathroom                             int64\n",
       "Area Type_Built Area                 uint8\n",
       "Area Type_Carpet Area                uint8\n",
       "Area Type_Super Area                 uint8\n",
       "City_Bangalore                       uint8\n",
       "City_Chennai                         uint8\n",
       "City_Delhi                           uint8\n",
       "City_Hyderabad                       uint8\n",
       "City_Kolkata                         uint8\n",
       "City_Mumbai                          uint8\n",
       "Furnishing Status_Furnished          uint8\n",
       "Furnishing Status_Semi-Furnished     uint8\n",
       "Furnishing Status_Unfurnished        uint8\n",
       "Tenant Preferred_Bachelors           uint8\n",
       "Tenant Preferred_Bachelors/Family    uint8\n",
       "Tenant Preferred_Family              uint8\n",
       "Point of Contact_Contact Agent       uint8\n",
       "Point of Contact_Contact Builder     uint8\n",
       "Point of Contact_Contact Owner       uint8\n",
       "dtype: object"
      ]
     },
     "execution_count": 52,
     "metadata": {},
     "output_type": "execute_result"
    }
   ],
   "source": [
    "#Tipe data setelah proses encoding\n",
    "df2.dtypes"
   ]
  },
  {
   "cell_type": "code",
   "execution_count": 53,
   "id": "0d70f7b3",
   "metadata": {
    "execution": {
     "iopub.execute_input": "2022-11-21T03:01:06.247042Z",
     "iopub.status.busy": "2022-11-21T03:01:06.246267Z",
     "iopub.status.idle": "2022-11-21T03:01:06.265649Z",
     "shell.execute_reply": "2022-11-21T03:01:06.264369Z"
    },
    "id": "906Jqro4D5UG",
    "outputId": "a7bf1718-78bb-4431-fa87-2a577e39ab28",
    "papermill": {
     "duration": 0.056584,
     "end_time": "2022-11-21T03:01:06.267916",
     "exception": false,
     "start_time": "2022-11-21T03:01:06.211332",
     "status": "completed"
    },
    "tags": []
   },
   "outputs": [
    {
     "data": {
      "text/html": [
       "<div>\n",
       "<style scoped>\n",
       "    .dataframe tbody tr th:only-of-type {\n",
       "        vertical-align: middle;\n",
       "    }\n",
       "\n",
       "    .dataframe tbody tr th {\n",
       "        vertical-align: top;\n",
       "    }\n",
       "\n",
       "    .dataframe thead th {\n",
       "        text-align: right;\n",
       "    }\n",
       "</style>\n",
       "<table border=\"1\" class=\"dataframe\">\n",
       "  <thead>\n",
       "    <tr style=\"text-align: right;\">\n",
       "      <th></th>\n",
       "      <th>BHK</th>\n",
       "      <th>Rent</th>\n",
       "      <th>Size</th>\n",
       "      <th>Bathroom</th>\n",
       "      <th>Area Type_Built Area</th>\n",
       "      <th>Area Type_Carpet Area</th>\n",
       "      <th>Area Type_Super Area</th>\n",
       "      <th>City_Bangalore</th>\n",
       "      <th>City_Chennai</th>\n",
       "      <th>City_Delhi</th>\n",
       "      <th>...</th>\n",
       "      <th>City_Mumbai</th>\n",
       "      <th>Furnishing Status_Furnished</th>\n",
       "      <th>Furnishing Status_Semi-Furnished</th>\n",
       "      <th>Furnishing Status_Unfurnished</th>\n",
       "      <th>Tenant Preferred_Bachelors</th>\n",
       "      <th>Tenant Preferred_Bachelors/Family</th>\n",
       "      <th>Tenant Preferred_Family</th>\n",
       "      <th>Point of Contact_Contact Agent</th>\n",
       "      <th>Point of Contact_Contact Builder</th>\n",
       "      <th>Point of Contact_Contact Owner</th>\n",
       "    </tr>\n",
       "  </thead>\n",
       "  <tbody>\n",
       "    <tr>\n",
       "      <th>0</th>\n",
       "      <td>2</td>\n",
       "      <td>10000</td>\n",
       "      <td>1100</td>\n",
       "      <td>2</td>\n",
       "      <td>0</td>\n",
       "      <td>0</td>\n",
       "      <td>1</td>\n",
       "      <td>0</td>\n",
       "      <td>0</td>\n",
       "      <td>0</td>\n",
       "      <td>...</td>\n",
       "      <td>0</td>\n",
       "      <td>0</td>\n",
       "      <td>0</td>\n",
       "      <td>1</td>\n",
       "      <td>0</td>\n",
       "      <td>1</td>\n",
       "      <td>0</td>\n",
       "      <td>0</td>\n",
       "      <td>0</td>\n",
       "      <td>1</td>\n",
       "    </tr>\n",
       "    <tr>\n",
       "      <th>1</th>\n",
       "      <td>2</td>\n",
       "      <td>20000</td>\n",
       "      <td>800</td>\n",
       "      <td>1</td>\n",
       "      <td>0</td>\n",
       "      <td>0</td>\n",
       "      <td>1</td>\n",
       "      <td>0</td>\n",
       "      <td>0</td>\n",
       "      <td>0</td>\n",
       "      <td>...</td>\n",
       "      <td>0</td>\n",
       "      <td>0</td>\n",
       "      <td>1</td>\n",
       "      <td>0</td>\n",
       "      <td>0</td>\n",
       "      <td>1</td>\n",
       "      <td>0</td>\n",
       "      <td>0</td>\n",
       "      <td>0</td>\n",
       "      <td>1</td>\n",
       "    </tr>\n",
       "    <tr>\n",
       "      <th>2</th>\n",
       "      <td>2</td>\n",
       "      <td>17000</td>\n",
       "      <td>1000</td>\n",
       "      <td>1</td>\n",
       "      <td>0</td>\n",
       "      <td>0</td>\n",
       "      <td>1</td>\n",
       "      <td>0</td>\n",
       "      <td>0</td>\n",
       "      <td>0</td>\n",
       "      <td>...</td>\n",
       "      <td>0</td>\n",
       "      <td>0</td>\n",
       "      <td>1</td>\n",
       "      <td>0</td>\n",
       "      <td>0</td>\n",
       "      <td>1</td>\n",
       "      <td>0</td>\n",
       "      <td>0</td>\n",
       "      <td>0</td>\n",
       "      <td>1</td>\n",
       "    </tr>\n",
       "    <tr>\n",
       "      <th>3</th>\n",
       "      <td>2</td>\n",
       "      <td>10000</td>\n",
       "      <td>800</td>\n",
       "      <td>1</td>\n",
       "      <td>0</td>\n",
       "      <td>0</td>\n",
       "      <td>1</td>\n",
       "      <td>0</td>\n",
       "      <td>0</td>\n",
       "      <td>0</td>\n",
       "      <td>...</td>\n",
       "      <td>0</td>\n",
       "      <td>0</td>\n",
       "      <td>0</td>\n",
       "      <td>1</td>\n",
       "      <td>0</td>\n",
       "      <td>1</td>\n",
       "      <td>0</td>\n",
       "      <td>0</td>\n",
       "      <td>0</td>\n",
       "      <td>1</td>\n",
       "    </tr>\n",
       "    <tr>\n",
       "      <th>4</th>\n",
       "      <td>2</td>\n",
       "      <td>7500</td>\n",
       "      <td>850</td>\n",
       "      <td>1</td>\n",
       "      <td>0</td>\n",
       "      <td>1</td>\n",
       "      <td>0</td>\n",
       "      <td>0</td>\n",
       "      <td>0</td>\n",
       "      <td>0</td>\n",
       "      <td>...</td>\n",
       "      <td>0</td>\n",
       "      <td>0</td>\n",
       "      <td>0</td>\n",
       "      <td>1</td>\n",
       "      <td>1</td>\n",
       "      <td>0</td>\n",
       "      <td>0</td>\n",
       "      <td>0</td>\n",
       "      <td>0</td>\n",
       "      <td>1</td>\n",
       "    </tr>\n",
       "  </tbody>\n",
       "</table>\n",
       "<p>5 rows × 22 columns</p>\n",
       "</div>"
      ],
      "text/plain": [
       "   BHK   Rent  Size  Bathroom  Area Type_Built Area  Area Type_Carpet Area  \\\n",
       "0    2  10000  1100         2                     0                      0   \n",
       "1    2  20000   800         1                     0                      0   \n",
       "2    2  17000  1000         1                     0                      0   \n",
       "3    2  10000   800         1                     0                      0   \n",
       "4    2   7500   850         1                     0                      1   \n",
       "\n",
       "   Area Type_Super Area  City_Bangalore  City_Chennai  City_Delhi  ...  \\\n",
       "0                     1               0             0           0  ...   \n",
       "1                     1               0             0           0  ...   \n",
       "2                     1               0             0           0  ...   \n",
       "3                     1               0             0           0  ...   \n",
       "4                     0               0             0           0  ...   \n",
       "\n",
       "   City_Mumbai  Furnishing Status_Furnished  Furnishing Status_Semi-Furnished  \\\n",
       "0            0                            0                                 0   \n",
       "1            0                            0                                 1   \n",
       "2            0                            0                                 1   \n",
       "3            0                            0                                 0   \n",
       "4            0                            0                                 0   \n",
       "\n",
       "   Furnishing Status_Unfurnished  Tenant Preferred_Bachelors  \\\n",
       "0                              1                           0   \n",
       "1                              0                           0   \n",
       "2                              0                           0   \n",
       "3                              1                           0   \n",
       "4                              1                           1   \n",
       "\n",
       "   Tenant Preferred_Bachelors/Family  Tenant Preferred_Family  \\\n",
       "0                                  1                        0   \n",
       "1                                  1                        0   \n",
       "2                                  1                        0   \n",
       "3                                  1                        0   \n",
       "4                                  0                        0   \n",
       "\n",
       "   Point of Contact_Contact Agent  Point of Contact_Contact Builder  \\\n",
       "0                               0                                 0   \n",
       "1                               0                                 0   \n",
       "2                               0                                 0   \n",
       "3                               0                                 0   \n",
       "4                               0                                 0   \n",
       "\n",
       "   Point of Contact_Contact Owner  \n",
       "0                               1  \n",
       "1                               1  \n",
       "2                               1  \n",
       "3                               1  \n",
       "4                               1  \n",
       "\n",
       "[5 rows x 22 columns]"
      ]
     },
     "execution_count": 53,
     "metadata": {},
     "output_type": "execute_result"
    }
   ],
   "source": [
    "df2.head()"
   ]
  },
  {
   "cell_type": "markdown",
   "id": "dccc954a",
   "metadata": {
    "papermill": {
     "duration": 0.032323,
     "end_time": "2022-11-21T03:01:06.333326",
     "exception": false,
     "start_time": "2022-11-21T03:01:06.301003",
     "status": "completed"
    },
    "tags": []
   },
   "source": [
    "Setelah proses encoding, korelasi antar setiap kolom juga dapat terlihat lebih jelas. Berikut ini adalah heatmap yang menampilkan korelasi antar kolom setelah proses encoding dilakukan."
   ]
  },
  {
   "cell_type": "code",
   "execution_count": 54,
   "id": "89115587",
   "metadata": {
    "execution": {
     "iopub.execute_input": "2022-11-21T03:01:06.400700Z",
     "iopub.status.busy": "2022-11-21T03:01:06.400242Z",
     "iopub.status.idle": "2022-11-21T03:01:08.954884Z",
     "shell.execute_reply": "2022-11-21T03:01:08.953608Z"
    },
    "id": "U4v5vdIbg79c",
    "outputId": "3c13eed7-7262-4fd5-b5ad-f140ce63c461",
    "papermill": {
     "duration": 2.593412,
     "end_time": "2022-11-21T03:01:08.959350",
     "exception": false,
     "start_time": "2022-11-21T03:01:06.365938",
     "status": "completed"
    },
    "tags": []
   },
   "outputs": [
    {
     "data": {
      "image/png": "[encoded data removed]",
      "text/plain": [
       "<Figure size 1080x1080 with 2 Axes>"
      ]
     },
     "metadata": {
      "needs_background": "light"
     },
     "output_type": "display_data"
    }
   ],
   "source": [
    "#Melihat korelasi antar kolom pada data setelah proses encoding\n",
    "plt.figure(figsize=(15,15))\n",
    "sns.heatmap(df2.corr(),annot=True,fmt='.2f')\n",
    "plt.show()"
   ]
  },
  {
   "cell_type": "markdown",
   "id": "e2251fab",
   "metadata": {
    "papermill": {
     "duration": 0.036284,
     "end_time": "2022-11-21T03:01:09.034419",
     "exception": false,
     "start_time": "2022-11-21T03:01:08.998135",
     "status": "completed"
    },
    "tags": []
   },
   "source": [
    "Fitur yang paling berpengaruh adalah size (0.51), city mumbai (0.54), dan contact owner (0.58)."
   ]
  },
  {
   "cell_type": "markdown",
   "id": "4def7b33",
   "metadata": {
    "id": "VnbCgMoskLdI",
    "papermill": {
     "duration": 0.038066,
     "end_time": "2022-11-21T03:01:09.110166",
     "exception": false,
     "start_time": "2022-11-21T03:01:09.072100",
     "status": "completed"
    },
    "tags": []
   },
   "source": [
    "# Modelling"
   ]
  },
  {
   "cell_type": "code",
   "execution_count": 55,
   "id": "447e8da8",
   "metadata": {
    "execution": {
     "iopub.execute_input": "2022-11-21T03:01:09.185456Z",
     "iopub.status.busy": "2022-11-21T03:01:09.184834Z",
     "iopub.status.idle": "2022-11-21T03:01:09.201142Z",
     "shell.execute_reply": "2022-11-21T03:01:09.199943Z"
    },
    "id": "gFTrvXXMkK0c",
    "papermill": {
     "duration": 0.056955,
     "end_time": "2022-11-21T03:01:09.203820",
     "exception": false,
     "start_time": "2022-11-21T03:01:09.146865",
     "status": "completed"
    },
    "tags": []
   },
   "outputs": [],
   "source": [
    "#Memisahkan training dan testing data\n",
    "X=df2.drop('Rent', axis=1)\n",
    "y=df2['Rent']\n",
    "\n",
    "X_train,X_test,y_train,y_test=train_test_split(X,y,test_size=0.2,random_state=42)\n",
    "ss=StandardScaler()\n",
    "X_train=ss.fit_transform(X_train)\n",
    "X_test=ss.transform(X_test)"
   ]
  },
  {
   "cell_type": "code",
   "execution_count": 56,
   "id": "0e23640a",
   "metadata": {
    "execution": {
     "iopub.execute_input": "2022-11-21T03:01:09.279293Z",
     "iopub.status.busy": "2022-11-21T03:01:09.278908Z",
     "iopub.status.idle": "2022-11-21T03:01:09.328900Z",
     "shell.execute_reply": "2022-11-21T03:01:09.326758Z"
    },
    "id": "ZIrPUwg6sAT5",
    "outputId": "143d6a74-805c-436a-8062-bf2550fec8fd",
    "papermill": {
     "duration": 0.092428,
     "end_time": "2022-11-21T03:01:09.333299",
     "exception": false,
     "start_time": "2022-11-21T03:01:09.240871",
     "status": "completed"
    },
    "tags": []
   },
   "outputs": [
    {
     "name": "stdout",
     "output_type": "stream",
     "text": [
      "Linear Regression Training Accuracy: 0.7422229042921697\n",
      "Linear Regression Testing Accuracy: 0.7274248173777962\n"
     ]
    }
   ],
   "source": [
    "#Linear Regression Model\n",
    "linearmodel=LinearRegression()\n",
    "linearmodel.fit(X_train,y_train)\n",
    "print(\"Linear Regression Training Accuracy:\", linearmodel.score(X_train,y_train))\n",
    "print(\"Linear Regression Testing Accuracy:\", linearmodel.score(X_test,y_test))"
   ]
  },
  {
   "cell_type": "code",
   "execution_count": 57,
   "id": "4392db3d",
   "metadata": {
    "execution": {
     "iopub.execute_input": "2022-11-21T03:01:09.492253Z",
     "iopub.status.busy": "2022-11-21T03:01:09.491877Z",
     "iopub.status.idle": "2022-11-21T03:01:10.432908Z",
     "shell.execute_reply": "2022-11-21T03:01:10.431474Z"
    },
    "id": "YGo4ALuysYS5",
    "outputId": "39ce3da4-2aa5-4254-e2ab-0b2586413059",
    "papermill": {
     "duration": 0.982023,
     "end_time": "2022-11-21T03:01:10.435826",
     "exception": false,
     "start_time": "2022-11-21T03:01:09.453803",
     "status": "completed"
    },
    "tags": []
   },
   "outputs": [
    {
     "name": "stdout",
     "output_type": "stream",
     "text": [
      "Random Forest Training Accuracy: 0.9421172276410631\n",
      "Random Forest Testing Accuracy: 0.7512395462992076\n"
     ]
    }
   ],
   "source": [
    "#Random Forest Regression Model\n",
    "random_forest_model=RandomForestRegressor()\n",
    "random_forest_model.fit(X_train,y_train)\n",
    "print(\"Random Forest Training Accuracy:\", random_forest_model.score(X_train,y_train))\n",
    "print(\"Random Forest Testing Accuracy:\", random_forest_model.score(X_test,y_test))"
   ]
  },
  {
   "cell_type": "code",
   "execution_count": 58,
   "id": "5114c4ab",
   "metadata": {
    "execution": {
     "iopub.execute_input": "2022-11-21T03:01:10.513890Z",
     "iopub.status.busy": "2022-11-21T03:01:10.513093Z",
     "iopub.status.idle": "2022-11-21T03:01:10.534768Z",
     "shell.execute_reply": "2022-11-21T03:01:10.533053Z"
    },
    "id": "h9Ynq3ensspp",
    "outputId": "bd7ab97c-c70a-4c58-c773-b17098beae94",
    "papermill": {
     "duration": 0.062475,
     "end_time": "2022-11-21T03:01:10.537401",
     "exception": false,
     "start_time": "2022-11-21T03:01:10.474926",
     "status": "completed"
    },
    "tags": []
   },
   "outputs": [
    {
     "name": "stdout",
     "output_type": "stream",
     "text": [
      "Decision Tree Training Accuracy: 0.9687695419061364\n",
      "Decision Tree Testing Accuracy: 0.6068622762630564\n"
     ]
    }
   ],
   "source": [
    "#Decision Tree Model\n",
    "tree_model=DecisionTreeRegressor()\n",
    "tree_model.fit(X_train,y_train)\n",
    "print(\"Decision Tree Training Accuracy:\", tree_model.score(X_train,y_train))\n",
    "print(\"Decision Tree Testing Accuracy:\", tree_model.score(X_test,y_test))"
   ]
  },
  {
   "cell_type": "code",
   "execution_count": 59,
   "id": "ede73e8d",
   "metadata": {
    "execution": {
     "iopub.execute_input": "2022-11-21T03:01:10.614495Z",
     "iopub.status.busy": "2022-11-21T03:01:10.614061Z",
     "iopub.status.idle": "2022-11-21T03:01:10.816899Z",
     "shell.execute_reply": "2022-11-21T03:01:10.815799Z"
    },
    "id": "ieH6pySQs5Zc",
    "outputId": "d3bf9e5a-9f7d-4ecc-ee7d-d87d2b09357b",
    "papermill": {
     "duration": 0.244078,
     "end_time": "2022-11-21T03:01:10.819650",
     "exception": false,
     "start_time": "2022-11-21T03:01:10.575572",
     "status": "completed"
    },
    "tags": []
   },
   "outputs": [
    {
     "name": "stdout",
     "output_type": "stream",
     "text": [
      "LightGBM Training Accuracy: 0.8559861785623437\n",
      "LightGBM Testing Accuracy: 0.7755406041453974\n"
     ]
    }
   ],
   "source": [
    "#LightGBM Model\n",
    "xg_model = LGBMRegressor()\n",
    "xg_model.fit(X_train, y_train)\n",
    "print(\"LightGBM Training Accuracy:\", xg_model.score(X_train,y_train))\n",
    "print(\"LightGBM Testing Accuracy:\", xg_model.score(X_test,y_test))"
   ]
  },
  {
   "cell_type": "code",
   "execution_count": 60,
   "id": "e02b7854",
   "metadata": {
    "execution": {
     "iopub.execute_input": "2022-11-21T03:01:10.897523Z",
     "iopub.status.busy": "2022-11-21T03:01:10.897115Z",
     "iopub.status.idle": "2022-11-21T03:01:11.165603Z",
     "shell.execute_reply": "2022-11-21T03:01:11.164238Z"
    },
    "id": "2LsQiA73UWhF",
    "outputId": "f10cccc5-478d-44fc-d533-88f33227c9b7",
    "papermill": {
     "duration": 0.309604,
     "end_time": "2022-11-21T03:01:11.168253",
     "exception": false,
     "start_time": "2022-11-21T03:01:10.858649",
     "status": "completed"
    },
    "tags": []
   },
   "outputs": [
    {
     "name": "stdout",
     "output_type": "stream",
     "text": [
      "Gradient Boost Training Accuracy: 0.8153069053923592\n",
      "Gradient Boost Testing Accuracy: 0.7680729879344201\n"
     ]
    }
   ],
   "source": [
    "#Gradient Boost Model\n",
    "gb_model=GradientBoostingRegressor()\n",
    "gb_model.fit(X_train,y_train)\n",
    "print(\"Gradient Boost Training Accuracy:\", gb_model.score(X_train,y_train))\n",
    "print(\"Gradient Boost Testing Accuracy:\", gb_model.score(X_test,y_test))"
   ]
  },
  {
   "cell_type": "markdown",
   "id": "6f59937e",
   "metadata": {
    "id": "LlZRkKcn2a4t",
    "papermill": {
     "duration": 0.037174,
     "end_time": "2022-11-21T03:01:11.243020",
     "exception": false,
     "start_time": "2022-11-21T03:01:11.205846",
     "status": "completed"
    },
    "tags": []
   },
   "source": [
    "## Model Evaluation"
   ]
  },
  {
   "cell_type": "code",
   "execution_count": 61,
   "id": "091ea73d",
   "metadata": {
    "execution": {
     "iopub.execute_input": "2022-11-21T03:01:11.319183Z",
     "iopub.status.busy": "2022-11-21T03:01:11.318440Z",
     "iopub.status.idle": "2022-11-21T03:01:11.324166Z",
     "shell.execute_reply": "2022-11-21T03:01:11.323275Z"
    },
    "id": "F8PRkD3Qlun-",
    "papermill": {
     "duration": 0.046263,
     "end_time": "2022-11-21T03:01:11.326333",
     "exception": false,
     "start_time": "2022-11-21T03:01:11.280070",
     "status": "completed"
    },
    "tags": []
   },
   "outputs": [],
   "source": [
    "#Membuat fungsi evaluate untuk evaluasi model berdasarkan MAE, RMSE, dan R2 Score\n",
    "def evaluate(model):\n",
    "    model.fit(X_train,y_train)\n",
    "    pred = model.predict(X_test)\n",
    "    \n",
    "    print('MAE:', mean_absolute_error(y_test, pred))\n",
    "    print('RMSE:', np.sqrt(mean_squared_error(y_test, pred)))\n",
    "    print('R2 Score:', r2_score(y_test, pred))"
   ]
  },
  {
   "cell_type": "code",
   "execution_count": 62,
   "id": "d3fad250",
   "metadata": {
    "execution": {
     "iopub.execute_input": "2022-11-21T03:01:11.402650Z",
     "iopub.status.busy": "2022-11-21T03:01:11.401928Z",
     "iopub.status.idle": "2022-11-21T03:01:11.426812Z",
     "shell.execute_reply": "2022-11-21T03:01:11.424357Z"
    },
    "id": "syG7wWDyn8Cb",
    "outputId": "39339dd8-30ae-4c1d-e730-714bd278e9d4",
    "papermill": {
     "duration": 0.0681,
     "end_time": "2022-11-21T03:01:11.431124",
     "exception": false,
     "start_time": "2022-11-21T03:01:11.363024",
     "status": "completed"
    },
    "tags": []
   },
   "outputs": [
    {
     "name": "stdout",
     "output_type": "stream",
     "text": [
      "MAE: 5318.821018956531\n",
      "RMSE: 7775.855415075933\n",
      "R2 Score: 0.7274248173777962\n"
     ]
    }
   ],
   "source": [
    "#Evaluasi Linear Regression\n",
    "evaluate(LinearRegression())"
   ]
  },
  {
   "cell_type": "code",
   "execution_count": 63,
   "id": "d10cf54c",
   "metadata": {
    "execution": {
     "iopub.execute_input": "2022-11-21T03:01:11.588297Z",
     "iopub.status.busy": "2022-11-21T03:01:11.587905Z",
     "iopub.status.idle": "2022-11-21T03:01:12.460172Z",
     "shell.execute_reply": "2022-11-21T03:01:12.458640Z"
    },
    "id": "iSU95UzaoWod",
    "outputId": "48a3a2d8-a764-4aa9-82c6-fd3d3a484329",
    "papermill": {
     "duration": 0.913747,
     "end_time": "2022-11-21T03:01:12.463145",
     "exception": false,
     "start_time": "2022-11-21T03:01:11.549398",
     "status": "completed"
    },
    "tags": []
   },
   "outputs": [
    {
     "name": "stdout",
     "output_type": "stream",
     "text": [
      "MAE: 4787.545463426408\n",
      "RMSE: 7448.655991528417\n",
      "R2 Score: 0.7498815129758116\n"
     ]
    }
   ],
   "source": [
    "#Evaluasi Random Forest\n",
    "evaluate(RandomForestRegressor())"
   ]
  },
  {
   "cell_type": "code",
   "execution_count": 64,
   "id": "99976e41",
   "metadata": {
    "execution": {
     "iopub.execute_input": "2022-11-21T03:01:12.540530Z",
     "iopub.status.busy": "2022-11-21T03:01:12.539628Z",
     "iopub.status.idle": "2022-11-21T03:01:12.559077Z",
     "shell.execute_reply": "2022-11-21T03:01:12.557212Z"
    },
    "id": "u3Loj3RV0bcw",
    "outputId": "e6d9be6d-4c53-438f-ae3d-b200ebc773b5",
    "papermill": {
     "duration": 0.061069,
     "end_time": "2022-11-21T03:01:12.561919",
     "exception": false,
     "start_time": "2022-11-21T03:01:12.500850",
     "status": "completed"
    },
    "tags": []
   },
   "outputs": [
    {
     "name": "stdout",
     "output_type": "stream",
     "text": [
      "MAE: 5802.103165765194\n",
      "RMSE: 9318.2161132269\n",
      "R2 Score: 0.6085687311501375\n"
     ]
    }
   ],
   "source": [
    "#Evaluasi Decision Tree\n",
    "evaluate(DecisionTreeRegressor())"
   ]
  },
  {
   "cell_type": "code",
   "execution_count": 65,
   "id": "c96dd2f5",
   "metadata": {
    "execution": {
     "iopub.execute_input": "2022-11-21T03:01:12.639398Z",
     "iopub.status.busy": "2022-11-21T03:01:12.638985Z",
     "iopub.status.idle": "2022-11-21T03:01:12.764597Z",
     "shell.execute_reply": "2022-11-21T03:01:12.763373Z"
    },
    "id": "9Ac0Jnw_1BQ9",
    "outputId": "cd3bf66b-da23-4bc7-f0b7-b5ac8bd626db",
    "papermill": {
     "duration": 0.167235,
     "end_time": "2022-11-21T03:01:12.767731",
     "exception": false,
     "start_time": "2022-11-21T03:01:12.600496",
     "status": "completed"
    },
    "tags": []
   },
   "outputs": [
    {
     "name": "stdout",
     "output_type": "stream",
     "text": [
      "MAE: 4578.0235466226395\n",
      "RMSE: 7056.249291240191\n",
      "R2 Score: 0.7755406041453974\n"
     ]
    }
   ],
   "source": [
    "#Evaluasi LightGBM\n",
    "evaluate(LGBMRegressor())"
   ]
  },
  {
   "cell_type": "code",
   "execution_count": 66,
   "id": "61e08fee",
   "metadata": {
    "execution": {
     "iopub.execute_input": "2022-11-21T03:01:12.846206Z",
     "iopub.status.busy": "2022-11-21T03:01:12.845762Z",
     "iopub.status.idle": "2022-11-21T03:01:13.113001Z",
     "shell.execute_reply": "2022-11-21T03:01:13.111456Z"
    },
    "id": "haY7u8822X_s",
    "outputId": "ca1c0bfb-92db-4e72-d2f7-ebecc51d3271",
    "papermill": {
     "duration": 0.309116,
     "end_time": "2022-11-21T03:01:13.115604",
     "exception": false,
     "start_time": "2022-11-21T03:01:12.806488",
     "status": "completed"
    },
    "tags": []
   },
   "outputs": [
    {
     "name": "stdout",
     "output_type": "stream",
     "text": [
      "MAE: 4561.396211978193\n",
      "RMSE: 7167.182605615234\n",
      "R2 Score: 0.7684275462314544\n"
     ]
    }
   ],
   "source": [
    "#Evaluasi Gradient Boost\n",
    "evaluate(GradientBoostingRegressor())"
   ]
  },
  {
   "cell_type": "markdown",
   "id": "01c8aa3c",
   "metadata": {
    "papermill": {
     "duration": 0.037945,
     "end_time": "2022-11-21T03:01:13.192324",
     "exception": false,
     "start_time": "2022-11-21T03:01:13.154379",
     "status": "completed"
    },
    "tags": []
   },
   "source": [
    "# Kesimpulan\n",
    "Berdasarkan hasil modelling dan evaluasinya diperoleh kesimpulan bahwa model dengan akurasi terbaik adalah decision tree dengan nilai akurasi data training sebesar 0.9687695419061364. Namun, model decision tree juga memiliki Mean Absolute Error (MAE) yang paling besar dibanding model-model lainnya yaitu sebesar 5896.512965319758. Di samping itu, model dengan nilai MAE yang terkecil adalah gradient boost dengan nilai MAE sebesar 4557.634381011197. Jika diperhatikan dari keseluruhan model, maka model yang memiliki nilai akurasi dan MAE yang cukup baik adalah model random forest. Random forest memiliki nilai akurasi training data sebesar 0.9421467289553468, terbesar kedua setelah decision tree dan nilai MAE sebesar 4797.902090693383, terkecil ketiga setelah gradient boost dan LightGBM. Oleh karena itu, model random forest dapat disimpulkan sebagai model terbaik untuk dataset house rent prediction."
   ]
  }
 ],
 "metadata": {
  "kernelspec": {
   "display_name": "Python 3",
   "language": "python",
   "name": "python3"
  },
  "language_info": {
   "codemirror_mode": {
    "name": "ipython",
    "version": 3
   },
   "file_extension": ".py",
   "mimetype": "text/x-python",
   "name": "python",
   "nbconvert_exporter": "python",
   "pygments_lexer": "ipython3",
   "version": "3.7.12"
  },
  "papermill": {
   "default_parameters": {},
   "duration": 29.552516,
   "end_time": "2022-11-21T03:01:14.155327",
   "environment_variables": {},
   "exception": null,
   "input_path": "__notebook__.ipynb",
   "output_path": "__notebook__.ipynb",
   "parameters": {},
   "start_time": "2022-11-21T03:00:44.602811",
   "version": "2.3.4"
  }
 },
 "nbformat": 4,
 "nbformat_minor": 5
}
